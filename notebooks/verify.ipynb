{
 "cells": [
  {
   "cell_type": "code",
   "execution_count": null,
   "metadata": {},
   "outputs": [
    {
     "name": "stdout",
     "output_type": "stream",
     "text": [
      "The autoreload extension is already loaded. To reload it, use:\n",
      "  %reload_ext autoreload\n"
     ]
    }
   ],
   "source": [
    "%load_ext autoreload\n",
    "%autoreload 2\n",
    "import os\n",
    "import sys\n",
    "module_path = os.path.abspath(os.path.join('..'))\n",
    "if module_path not in sys.path:\n",
    "    sys.path.append(module_path)\n",
    "\n",
    "import time\n",
    "import pickle\n",
    "import json\n",
    "import torch\n",
    "import numpy as np\n",
    "from pyg_data import queryPlanPGDataset_nosplit\n",
    "from util.util import set_seed, load_model_params\n",
    "from util.data_transform import *\n",
    "from util.custom_loss import aleatoric_loss, rmse_loss, bce_loss\n",
    "import pytorch_lightning as pl\n",
    "from lcm.roq_model import lcm_pl as roq_model\n",
    "from lcm.neo_bao_model import lcm_pl as neo_bao_model\n",
    "from lcm.lero_model import LeroModelPairwise as leroPairwise\n",
    "from lcm.balsa_model import balsa_simulation, balsa_model\n",
    "from sklearn.model_selection import KFold,train_test_split\n",
    "from single_test_lero import test\n",
    "from util.eval_util import *\n",
    "from torch_geometric.loader import DataLoader"
   ]
  },
  {
   "cell_type": "code",
   "execution_count": 447,
   "metadata": {},
   "outputs": [],
   "source": [
    "models_path = os.path.join('.','lightning_models')\n",
    "results_dir = os.path.join('.','results')"
   ]
  },
  {
   "cell_type": "code",
   "execution_count": 448,
   "metadata": {},
   "outputs": [],
   "source": [
    "arch = 'roq'\n",
    "experiment_id = 'job'\n",
    "files_id = 'job_v2.1'\n",
    "labeled_data_dir = '../labeled_data/job/'\n",
    "max_epochs = 1000\n",
    "patience = 100\n",
    "num_workers = 10\n",
    "seed = 0\n",
    "reload_data = False\n",
    "target = 'latency' \n",
    "n_splits = 10\n",
    "num_experiments = 5"
   ]
  },
  {
   "cell_type": "code",
   "execution_count": 449,
   "metadata": {},
   "outputs": [
    {
     "name": "stdout",
     "output_type": "stream",
     "text": [
      "loading full dataset\n",
      "113 queries and 1469 samples in training dataset: \n"
     ]
    }
   ],
   "source": [
    "device = torch.device('cuda' if torch.cuda.is_available() else 'cpu')\n",
    "\n",
    "# sets seed for random, numpy, and torch cuda  \n",
    "set_seed(seed)\n",
    "\n",
    "torch.set_float32_matmul_precision('high')\n",
    "\n",
    "# Load train,v alidation, and test datasets\n",
    "print(\"loading full dataset\")\n",
    "full_dataset = queryPlanPGDataset_nosplit(\n",
    "files_id = files_id,\n",
    "labeled_data_dir=labeled_data_dir,\n",
    "force_reload=reload_data,\n",
    "seed = seed,\n",
    "num_samples = None\n",
    ")\n",
    "print(\"{} queries and {} samples in training dataset: \".format(np.unique(np.array(full_dataset.query_id)).shape[0],full_dataset.len()))"
   ]
  },
  {
   "cell_type": "code",
   "execution_count": 450,
   "metadata": {},
   "outputs": [],
   "source": [
    "qids = np.array(full_dataset.query_id)\n",
    "unique_qids = np.unique(qids)"
   ]
  },
  {
   "cell_type": "code",
   "execution_count": 451,
   "metadata": {},
   "outputs": [
    {
     "data": {
      "text/plain": [
       "array(['10a', '10b', '10c', '11a', '11b', '11c', '11d', '12a', '12b',\n",
       "       '12c', '13a', '13b', '13c', '13d', '14a', '14b', '14c', '15a',\n",
       "       '15b', '15c', '15d', '16a', '16b', '16c', '16d', '17a', '17b',\n",
       "       '17c', '17d', '17e', '17f', '18a', '18b', '18c', '19a', '19b',\n",
       "       '19c', '19d', '1a', '1b', '1c', '1d', '20a', '20b', '20c', '21a',\n",
       "       '21b', '21c', '22a', '22b', '22c', '22d', '23a', '23b', '23c',\n",
       "       '24a', '24b', '25a', '25b', '25c', '26a', '26b', '26c', '27a',\n",
       "       '27b', '27c', '28a', '28b', '28c', '29a', '29b', '29c', '2a', '2b',\n",
       "       '2c', '2d', '30a', '30b', '30c', '31a', '31b', '31c', '32a', '32b',\n",
       "       '33a', '33b', '33c', '3a', '3b', '3c', '4a', '4b', '4c', '5a',\n",
       "       '5b', '5c', '6a', '6b', '6c', '6d', '6e', '6f', '7a', '7b', '7c',\n",
       "       '8a', '8b', '8c', '8d', '9a', '9b', '9c', '9d'], dtype='<U3')"
      ]
     },
     "execution_count": 451,
     "metadata": {},
     "output_type": "execute_result"
    }
   ],
   "source": [
    "unique_qids"
   ]
  },
  {
   "cell_type": "code",
   "execution_count": 452,
   "metadata": {},
   "outputs": [],
   "source": [
    "train_val_qids, test_qids = train_test_split(\n",
    "    unique_qids,\n",
    "    test_size=.1,\n",
    "    random_state=seed,\n",
    "    shuffle=True\n",
    "    )\n",
    "train_qids, val_qids = train_test_split(\n",
    "    train_val_qids,\n",
    "    test_size=.1,\n",
    "    random_state=seed,\n",
    "    shuffle=True\n",
    "    )"
   ]
  },
  {
   "cell_type": "code",
   "execution_count": 453,
   "metadata": {},
   "outputs": [
    {
     "name": "stdout",
     "output_type": "stream",
     "text": [
      "90 queries and 1170 samples in training dataset: \n",
      "11 queries and 143 samples in validation dataset: \n",
      "12 queries and 156 samples in test dataset: \n"
     ]
    },
    {
     "name": "stderr",
     "output_type": "stream",
     "text": [
      "/database/config/db2inst1/.venv/lib/python3.10/site-packages/torch_geometric/data/in_memory_dataset.py:300: UserWarning: It is not recommended to directly access the internal storage format `data` of an 'InMemoryDataset'. The data of the dataset is already cached, so any modifications to `data` will not be reflected when accessing its elements. Clearing the cache now by removing all elements in `dataset._data_list`. If you are absolutely certain what you are doing, access the internal storage via `InMemoryDataset._data` instead to suppress this warning. Alternatively, you can access stacked individual attributes of every graph via `dataset.{attr_name}`.\n",
      "  warnings.warn(msg)\n",
      "/database/config/db2inst1/.venv/lib/python3.10/site-packages/torch_geometric/data/in_memory_dataset.py:300: UserWarning: It is not recommended to directly access the internal storage format `data` of an 'InMemoryDataset'. If you are absolutely certain what you are doing, access the internal storage via `InMemoryDataset._data` instead to suppress this warning. Alternatively, you can access stacked individual attributes of every graph via `dataset.{attr_name}`.\n",
      "  warnings.warn(msg)\n"
     ]
    }
   ],
   "source": [
    "train_msk = np.isin(qids,train_qids)\n",
    "val_msk = np.isin(qids,val_qids)\n",
    "test_msk = np.isin(qids,test_qids)\n",
    "\n",
    "train_set = full_dataset[train_msk].copy()\n",
    "val_set = full_dataset[val_msk].copy()\n",
    "test_set = full_dataset[test_msk].copy()\n",
    "\n",
    "print(\"{} queries and {} samples in training dataset: \".format(np.unique(np.array(train_set.query_id)).shape[0],train_set.len()))\n",
    "print(\"{} queries and {} samples in validation dataset: \".format(np.unique(np.array(val_set.query_id)).shape[0],val_set.len()))\n",
    "print(\"{} queries and {} samples in test dataset: \".format(np.unique(np.array(test_set.query_id)).shape[0],test_set.len()))\n",
    "\n",
    "# Perform data transformations on inputs \n",
    "# drop_const = dropConst(train_set)\n",
    "# train_set = drop_const(train_set)\n",
    "# val_set = drop_const(val_set)\n",
    "# test_set = drop_const(test_set)\n",
    "\n",
    "null_imp = nullImputation(train_set)\n",
    "train_set = null_imp(train_set)\n",
    "val_set = null_imp(val_set)\n",
    "test_set = null_imp(test_set)\n",
    "\n",
    "minmax_scale = minmaxScale(train_set)\n",
    "train_set = minmax_scale(train_set)\n",
    "val_set = minmax_scale(val_set)\n",
    "test_set = minmax_scale(test_set)\n",
    "\n",
    "if arch != 'lero':\n",
    "    # Perform data transformations on targets \n",
    "    yTransFunc = target_log_transform(train_set, target = target)\n",
    "    \n",
    "    train_set = yTransFunc.transform(train_set)\n",
    "    val_set = yTransFunc.transform(val_set)\n",
    "    test_set = yTransFunc.transform(test_set)\n",
    "\n",
    "plan_attr_shape = train_set[0].plan_attr.shape\n",
    "plan_ord_shape = train_set[0].plan_ord.shape\n",
    "graph_attr_shape= train_set[0].graph_attr.shape\n",
    "edge_attr_shape = train_set[0].edge_attr_s.shape\n",
    "node_attr_shape = train_set[0].x_s.shape"
   ]
  },
  {
   "cell_type": "code",
   "execution_count": 454,
   "metadata": {},
   "outputs": [
    {
     "name": "stdout",
     "output_type": "stream",
     "text": [
      "experiment: job\n",
      "Architecture: roq\n"
     ]
    }
   ],
   "source": [
    "print('experiment:',experiment_id)\n",
    "print(\"Architecture:\",arch)\n",
    "\n",
    "# load model hyper-parameters\n",
    "config = load_model_params(arch, config_dir='../config',config_file='model_params_job.cfg')\n",
    "pretrain = config.pop('pretrain',True)\n",
    "max_epochs = config.pop('max_epochs',max_epochs)\n",
    "patience = config.pop('patience',patience)\n",
    "min_delta = config.pop('min_delta',0.001)\n",
    "batch_size= config['batch_size']\n"
   ]
  },
  {
   "cell_type": "code",
   "execution_count": 455,
   "metadata": {},
   "outputs": [
    {
     "name": "stderr",
     "output_type": "stream",
     "text": [
      "/database/config/db2inst1/.venv/lib/python3.10/site-packages/torchmetrics/utilities/prints.py:43: UserWarning: Metric `SpearmanCorrcoef` will save all targets and predictions in the buffer. For large datasets, this may lead to large memory footprint.\n",
      "  warnings.warn(*args, **kwargs)  # noqa: B028\n"
     ]
    }
   ],
   "source": [
    "loss = rmse_loss()\n",
    "\n",
    "if arch == 'lero':\n",
    "    loss = bce_loss()\n",
    "    model = leroPairwise(\n",
    "        num_node = node_attr_shape[0], \n",
    "        numPlanFeat=plan_attr_shape,\n",
    "        numPlanOrdFeat=plan_ord_shape,\n",
    "        numQueryGraphFeat = graph_attr_shape[0],\n",
    "        device = device, \n",
    "        criterion = loss,\n",
    "        **config\n",
    "    )\n",
    "if arch == 'balsa':\n",
    "    model = balsa_simulation(\n",
    "        num_node = node_attr_shape[0], \n",
    "        node_dim = node_attr_shape[1],\n",
    "        edge_dim = edge_attr_shape[1],#fill_value =0, \n",
    "        numPlanFeat=plan_attr_shape,\n",
    "        numPlanOrdFeat=plan_ord_shape,\n",
    "        numQueryGraphFeat = graph_attr_shape[0],\n",
    "        device = device, \n",
    "        criterion = loss,\n",
    "        **config\n",
    "        )\n",
    "\n",
    "if arch == 'neo':\n",
    "    model = neo_bao_model(\n",
    "        num_node = node_attr_shape[0], \n",
    "        node_dim = node_attr_shape[1],\n",
    "        edge_dim = edge_attr_shape[1],#fill_value =0, \n",
    "        numPlanFeat=plan_attr_shape,\n",
    "        numPlanOrdFeat=plan_ord_shape,\n",
    "        numQueryGraphFeat = graph_attr_shape[0],\n",
    "        device = device, \n",
    "        criterion = loss,\n",
    "        architecture = 'neo',\n",
    "        **config\n",
    "        )\n",
    "if arch == 'bao':\n",
    "    model = neo_bao_model(\n",
    "        num_node = node_attr_shape[0], \n",
    "        node_dim = node_attr_shape[1],\n",
    "        edge_dim = edge_attr_shape[1],#fill_value =0, \n",
    "        numPlanFeat=plan_attr_shape,\n",
    "        numPlanOrdFeat=plan_ord_shape,\n",
    "        numQueryGraphFeat = graph_attr_shape[0],\n",
    "        device = device, \n",
    "        criterion = loss,\n",
    "        architecture = 'bao',\n",
    "        **config\n",
    "        )\n",
    "if 'roq' in arch:\n",
    "    loss = aleatoric_loss(device=device)\n",
    "    model = roq_model(\n",
    "        num_node = node_attr_shape[0], \n",
    "        node_dim = node_attr_shape[1],\n",
    "        edge_dim = edge_attr_shape[1],#fill_value =0, \n",
    "        numPlanFeat=plan_attr_shape,\n",
    "        numPlanOrdFeat=plan_ord_shape,\n",
    "        numQueryGraphFeat = graph_attr_shape[0],\n",
    "        with_var = True, device = device, \n",
    "        criterion = loss,\n",
    "        **config\n",
    "        )"
   ]
  },
  {
   "cell_type": "code",
   "execution_count": 456,
   "metadata": {},
   "outputs": [],
   "source": [
    "follow_batch = ['x_s']\n",
    "\n",
    "train_loader = DataLoader(\n",
    "    train_set, batch_size=batch_size,\n",
    "    persistent_workers=True,\n",
    "    shuffle=False, num_workers=num_workers, follow_batch=follow_batch\n",
    ")\n",
    "val_loader = DataLoader(\n",
    "    val_set, batch_size=batch_size,\n",
    "    persistent_workers=True,\n",
    "    shuffle=False, num_workers=num_workers, follow_batch=follow_batch\n",
    ")\n",
    "test_loader = DataLoader(\n",
    "    test_set, batch_size=batch_size,\n",
    "    shuffle=False, num_workers=num_workers, follow_batch=follow_batch,\n",
    "    persistent_workers=True\n",
    ")"
   ]
  },
  {
   "cell_type": "code",
   "execution_count": 457,
   "metadata": {},
   "outputs": [
    {
     "name": "stdout",
     "output_type": "stream",
     "text": [
      "model_name: roq_job_lr0.0038_bs512_0kq_400\n"
     ]
    }
   ],
   "source": [
    "num_params = sum([np.prod(p.size()) for p in  model.parameters()])\n",
    "num_params = str(int(num_params/1000))\n",
    "num_q = str(round(np.unique(np.array(train_set.query_id)).shape[0]/1000))\n",
    "lr = str(model.lr)[:8]\n",
    "bs = str(model.batch_size)\n",
    "# do = str(model.dropout)[:5]\n",
    "model_name = f'{arch}_{experiment_id}_lr{lr}_bs{bs}_{num_q}kq_{num_params}'\n",
    "print(\"model_name:\",model_name)\n",
    "es = pl.callbacks.EarlyStopping(monitor='val_loss',patience=patience, min_delta=min_delta, verbose=True)\n",
    "\n",
    "logger = pl.loggers.TensorBoardLogger('../lightning_logs', name = model_name)\n",
    "\n",
    "checkpointing = pl.callbacks.ModelCheckpoint(\n",
    "    dirpath=models_path,\n",
    "    monitor='val_loss',\n",
    "    save_top_k = 1,\n",
    "    filename=model_name+'{epoch}-{step}-{val_loss:.2f}',\n",
    "    verbose=True\n",
    ")"
   ]
  },
  {
   "cell_type": "code",
   "execution_count": 458,
   "metadata": {},
   "outputs": [],
   "source": [
    "if arch == 'balsa':\n",
    "    if pretrain == True:\n",
    "        pt_es = pl.callbacks.EarlyStopping(monitor='val_loss',patience=2,min_delta=min_delta, verbose=True)\n",
    "        pretrainer = pl.Trainer(\n",
    "            max_epochs=5,accelerator='gpu',\n",
    "            devices=1,\n",
    "            callbacks = [pt_es,checkpointing],\n",
    "            logger=logger,\n",
    "            log_every_n_steps=10\n",
    "            )\n",
    "        pretrainer.fit(model,train_loader,val_loader)\n",
    "        print('Pretraining done. loading best model...')\n",
    "        model = balsa_simulation.load_from_checkpoint(\n",
    "            checkpointing.best_model_path,\n",
    "            num_node = node_attr_shape[0], \n",
    "            node_dim = node_attr_shape[1],\n",
    "            edge_dim = edge_attr_shape[1],#fill_value =0, \n",
    "            numPlanFeat=plan_attr_shape,\n",
    "            numPlanOrdFeat=plan_ord_shape,\n",
    "            numQueryGraphFeat = graph_attr_shape[0],\n",
    "            device = device, \n",
    "            criterion = loss,\n",
    "            **config\n",
    "            ).balsa_model"
   ]
  },
  {
   "cell_type": "code",
   "execution_count": 459,
   "metadata": {},
   "outputs": [
    {
     "name": "stderr",
     "output_type": "stream",
     "text": [
      "GPU available: True (cuda), used: True\n",
      "TPU available: False, using: 0 TPU cores\n",
      "HPU available: False, using: 0 HPUs\n"
     ]
    }
   ],
   "source": [
    "trainer = pl.Trainer(\n",
    "    max_epochs=max_epochs,accelerator='gpu',\n",
    "    devices=1, \n",
    "    callbacks = [es, checkpointing], \n",
    "    logger=logger, \n",
    "    log_every_n_steps=10\n",
    ")"
   ]
  },
  {
   "cell_type": "code",
   "execution_count": 460,
   "metadata": {},
   "outputs": [
    {
     "name": "stderr",
     "output_type": "stream",
     "text": [
      "/database/config/db2inst1/.venv/lib/python3.10/site-packages/pytorch_lightning/callbacks/model_checkpoint.py:654: Checkpoint directory /database/config/db2inst1/robust_plan_eval/notebooks/lightning_models exists and is not empty.\n",
      "LOCAL_RANK: 0 - CUDA_VISIBLE_DEVICES: [0]\n",
      "\n",
      "  | Name             | Type             | Params | Mode \n",
      "--------------------------------------------------------------\n",
      "0 | criterion        | aleatoric_loss   | 0      | train\n",
      "1 | spearmans_corr   | SpearmanCorrCoef | 0      | train\n",
      "2 | qerror           | qErrorLossClass  | 0      | train\n",
      "3 | qp_gnn_layers    | ModuleList       | 23.4 K | train\n",
      "4 | lin_low_node_emb | Linear           | 784    | train\n",
      "5 | guidelineTCNN    | Sequential       | 172 K  | train\n",
      "6 | finalMLP         | Sequential       | 199 K  | train\n",
      "7 | mean_layer       | Sequential       | 2.2 K  | train\n",
      "8 | std_layer        | Sequential       | 2.2 K  | train\n",
      "--------------------------------------------------------------\n",
      "400 K     Trainable params\n",
      "0         Non-trainable params\n",
      "400 K     Total params\n",
      "1.602     Total estimated model params size (MB)\n",
      "77        Modules in train mode\n",
      "0         Modules in eval mode\n"
     ]
    },
    {
     "name": "stdout",
     "output_type": "stream",
     "text": [
      "                                                                           \r"
     ]
    },
    {
     "name": "stderr",
     "output_type": "stream",
     "text": [
      "/database/config/db2inst1/.venv/lib/python3.10/site-packages/pytorch_lightning/loops/fit_loop.py:310: The number of training batches (3) is smaller than the logging interval Trainer(log_every_n_steps=10). Set a lower value for log_every_n_steps if you want to see logs for the training epoch.\n"
     ]
    },
    {
     "name": "stdout",
     "output_type": "stream",
     "text": [
      "Epoch 0:   0%|          | 0/3 [00:00<?, ?it/s] "
     ]
    },
    {
     "name": "stderr",
     "output_type": "stream",
     "text": [
      "/database/config/db2inst1/.venv/lib/python3.10/site-packages/torch_geometric/warnings.py:11: UserWarning: The usage of `scatter(reduce='max')` can be accelerated via the 'torch-scatter' package, but it was not found\n",
      "  warnings.warn(message)\n"
     ]
    },
    {
     "name": "stdout",
     "output_type": "stream",
     "text": [
      "Epoch 0: 100%|██████████| 3/3 [00:00<00:00,  5.06it/s, v_num=0]"
     ]
    },
    {
     "name": "stderr",
     "output_type": "stream",
     "text": [
      "Metric val_loss improved. New best score: 0.703\n",
      "Epoch 0, global step 3: 'val_loss' reached 0.70279 (best 0.70279), saving model to '/database/config/db2inst1/robust_plan_eval/notebooks/lightning_models/roq_job_lr0.0038_bs512_0kq_400epoch=0-step=3-val_loss=0.70.ckpt' as top 1\n"
     ]
    },
    {
     "name": "stdout",
     "output_type": "stream",
     "text": [
      "Epoch 1: 100%|██████████| 3/3 [00:00<00:00, 14.03it/s, v_num=0]"
     ]
    },
    {
     "name": "stderr",
     "output_type": "stream",
     "text": [
      "Metric val_loss improved by 0.019 >= min_delta = 0.0. New best score: 0.684\n",
      "Epoch 1, global step 6: 'val_loss' reached 0.68382 (best 0.68382), saving model to '/database/config/db2inst1/robust_plan_eval/notebooks/lightning_models/roq_job_lr0.0038_bs512_0kq_400epoch=1-step=6-val_loss=0.68.ckpt' as top 1\n"
     ]
    },
    {
     "name": "stdout",
     "output_type": "stream",
     "text": [
      "Epoch 2: 100%|██████████| 3/3 [00:00<00:00, 14.19it/s, v_num=0]"
     ]
    },
    {
     "name": "stderr",
     "output_type": "stream",
     "text": [
      "Metric val_loss improved by 0.033 >= min_delta = 0.0. New best score: 0.651\n",
      "Epoch 2, global step 9: 'val_loss' reached 0.65087 (best 0.65087), saving model to '/database/config/db2inst1/robust_plan_eval/notebooks/lightning_models/roq_job_lr0.0038_bs512_0kq_400epoch=2-step=9-val_loss=0.65.ckpt' as top 1\n"
     ]
    },
    {
     "name": "stdout",
     "output_type": "stream",
     "text": [
      "Epoch 3: 100%|██████████| 3/3 [00:00<00:00, 13.16it/s, v_num=0]"
     ]
    },
    {
     "name": "stderr",
     "output_type": "stream",
     "text": [
      "Metric val_loss improved by 0.035 >= min_delta = 0.0. New best score: 0.616\n",
      "Epoch 3, global step 12: 'val_loss' reached 0.61555 (best 0.61555), saving model to '/database/config/db2inst1/robust_plan_eval/notebooks/lightning_models/roq_job_lr0.0038_bs512_0kq_400epoch=3-step=12-val_loss=0.62.ckpt' as top 1\n"
     ]
    },
    {
     "name": "stdout",
     "output_type": "stream",
     "text": [
      "Epoch 4: 100%|██████████| 3/3 [00:00<00:00, 14.15it/s, v_num=0]"
     ]
    },
    {
     "name": "stderr",
     "output_type": "stream",
     "text": [
      "Epoch 4, global step 15: 'val_loss' was not in top 1\n"
     ]
    },
    {
     "name": "stdout",
     "output_type": "stream",
     "text": [
      "Epoch 5: 100%|██████████| 3/3 [00:00<00:00, 13.02it/s, v_num=0]"
     ]
    },
    {
     "name": "stderr",
     "output_type": "stream",
     "text": [
      "Metric val_loss improved by 0.125 >= min_delta = 0.0. New best score: 0.491\n",
      "Epoch 5, global step 18: 'val_loss' reached 0.49105 (best 0.49105), saving model to '/database/config/db2inst1/robust_plan_eval/notebooks/lightning_models/roq_job_lr0.0038_bs512_0kq_400epoch=5-step=18-val_loss=0.49.ckpt' as top 1\n"
     ]
    },
    {
     "name": "stdout",
     "output_type": "stream",
     "text": [
      "Epoch 6: 100%|██████████| 3/3 [00:00<00:00, 14.25it/s, v_num=0]"
     ]
    },
    {
     "name": "stderr",
     "output_type": "stream",
     "text": [
      "Metric val_loss improved by 0.114 >= min_delta = 0.0. New best score: 0.377\n",
      "Epoch 6, global step 21: 'val_loss' reached 0.37691 (best 0.37691), saving model to '/database/config/db2inst1/robust_plan_eval/notebooks/lightning_models/roq_job_lr0.0038_bs512_0kq_400epoch=6-step=21-val_loss=0.38.ckpt' as top 1\n"
     ]
    },
    {
     "name": "stdout",
     "output_type": "stream",
     "text": [
      "Epoch 7: 100%|██████████| 3/3 [00:00<00:00, 13.76it/s, v_num=0]"
     ]
    },
    {
     "name": "stderr",
     "output_type": "stream",
     "text": [
      "Metric val_loss improved by 0.235 >= min_delta = 0.0. New best score: 0.142\n",
      "Epoch 7, global step 24: 'val_loss' reached 0.14163 (best 0.14163), saving model to '/database/config/db2inst1/robust_plan_eval/notebooks/lightning_models/roq_job_lr0.0038_bs512_0kq_400epoch=7-step=24-val_loss=0.14.ckpt' as top 1\n"
     ]
    },
    {
     "name": "stdout",
     "output_type": "stream",
     "text": [
      "Epoch 8: 100%|██████████| 3/3 [00:00<00:00, 13.43it/s, v_num=0]"
     ]
    },
    {
     "name": "stderr",
     "output_type": "stream",
     "text": [
      "Metric val_loss improved by 0.210 >= min_delta = 0.0. New best score: -0.069\n",
      "Epoch 8, global step 27: 'val_loss' reached -0.06881 (best -0.06881), saving model to '/database/config/db2inst1/robust_plan_eval/notebooks/lightning_models/roq_job_lr0.0038_bs512_0kq_400epoch=8-step=27-val_loss=-0.07.ckpt' as top 1\n"
     ]
    },
    {
     "name": "stdout",
     "output_type": "stream",
     "text": [
      "Epoch 9: 100%|██████████| 3/3 [00:00<00:00, 13.44it/s, v_num=0]"
     ]
    },
    {
     "name": "stderr",
     "output_type": "stream",
     "text": [
      "Metric val_loss improved by 0.221 >= min_delta = 0.0. New best score: -0.290\n",
      "Epoch 9, global step 30: 'val_loss' reached -0.29009 (best -0.29009), saving model to '/database/config/db2inst1/robust_plan_eval/notebooks/lightning_models/roq_job_lr0.0038_bs512_0kq_400epoch=9-step=30-val_loss=-0.29.ckpt' as top 1\n"
     ]
    },
    {
     "name": "stdout",
     "output_type": "stream",
     "text": [
      "Epoch 10: 100%|██████████| 3/3 [00:00<00:00, 10.84it/s, v_num=0]"
     ]
    },
    {
     "name": "stderr",
     "output_type": "stream",
     "text": [
      "Metric val_loss improved by 0.077 >= min_delta = 0.0. New best score: -0.367\n",
      "Epoch 10, global step 33: 'val_loss' reached -0.36728 (best -0.36728), saving model to '/database/config/db2inst1/robust_plan_eval/notebooks/lightning_models/roq_job_lr0.0038_bs512_0kq_400epoch=10-step=33-val_loss=-0.37.ckpt' as top 1\n"
     ]
    },
    {
     "name": "stdout",
     "output_type": "stream",
     "text": [
      "Epoch 11: 100%|██████████| 3/3 [00:00<00:00, 12.93it/s, v_num=0]"
     ]
    },
    {
     "name": "stderr",
     "output_type": "stream",
     "text": [
      "Metric val_loss improved by 0.095 >= min_delta = 0.0. New best score: -0.463\n",
      "Epoch 11, global step 36: 'val_loss' reached -0.46270 (best -0.46270), saving model to '/database/config/db2inst1/robust_plan_eval/notebooks/lightning_models/roq_job_lr0.0038_bs512_0kq_400epoch=11-step=36-val_loss=-0.46.ckpt' as top 1\n"
     ]
    },
    {
     "name": "stdout",
     "output_type": "stream",
     "text": [
      "Epoch 12: 100%|██████████| 3/3 [00:00<00:00, 12.59it/s, v_num=0]"
     ]
    },
    {
     "name": "stderr",
     "output_type": "stream",
     "text": [
      "Epoch 12, global step 39: 'val_loss' was not in top 1\n"
     ]
    },
    {
     "name": "stdout",
     "output_type": "stream",
     "text": [
      "Epoch 13: 100%|██████████| 3/3 [00:00<00:00, 13.29it/s, v_num=0]"
     ]
    },
    {
     "name": "stderr",
     "output_type": "stream",
     "text": [
      "Metric val_loss improved by 0.060 >= min_delta = 0.0. New best score: -0.523\n",
      "Epoch 13, global step 42: 'val_loss' reached -0.52301 (best -0.52301), saving model to '/database/config/db2inst1/robust_plan_eval/notebooks/lightning_models/roq_job_lr0.0038_bs512_0kq_400epoch=13-step=42-val_loss=-0.52.ckpt' as top 1\n"
     ]
    },
    {
     "name": "stdout",
     "output_type": "stream",
     "text": [
      "Epoch 14: 100%|██████████| 3/3 [00:00<00:00, 11.97it/s, v_num=0]"
     ]
    },
    {
     "name": "stderr",
     "output_type": "stream",
     "text": [
      "Epoch 14, global step 45: 'val_loss' was not in top 1\n"
     ]
    },
    {
     "name": "stdout",
     "output_type": "stream",
     "text": [
      "Epoch 15: 100%|██████████| 3/3 [00:00<00:00, 12.21it/s, v_num=0]"
     ]
    },
    {
     "name": "stderr",
     "output_type": "stream",
     "text": [
      "Metric val_loss improved by 0.263 >= min_delta = 0.0. New best score: -0.786\n",
      "Epoch 15, global step 48: 'val_loss' reached -0.78623 (best -0.78623), saving model to '/database/config/db2inst1/robust_plan_eval/notebooks/lightning_models/roq_job_lr0.0038_bs512_0kq_400epoch=15-step=48-val_loss=-0.79.ckpt' as top 1\n"
     ]
    },
    {
     "name": "stdout",
     "output_type": "stream",
     "text": [
      "Epoch 16: 100%|██████████| 3/3 [00:00<00:00, 12.73it/s, v_num=0]"
     ]
    },
    {
     "name": "stderr",
     "output_type": "stream",
     "text": [
      "Epoch 16, global step 51: 'val_loss' was not in top 1\n"
     ]
    },
    {
     "name": "stdout",
     "output_type": "stream",
     "text": [
      "Epoch 17: 100%|██████████| 3/3 [00:00<00:00, 12.18it/s, v_num=0]"
     ]
    },
    {
     "name": "stderr",
     "output_type": "stream",
     "text": [
      "Epoch 17, global step 54: 'val_loss' was not in top 1\n"
     ]
    },
    {
     "name": "stdout",
     "output_type": "stream",
     "text": [
      "Epoch 18: 100%|██████████| 3/3 [00:00<00:00, 12.58it/s, v_num=0]"
     ]
    },
    {
     "name": "stderr",
     "output_type": "stream",
     "text": [
      "Epoch 18, global step 57: 'val_loss' was not in top 1\n"
     ]
    },
    {
     "name": "stdout",
     "output_type": "stream",
     "text": [
      "Epoch 19: 100%|██████████| 3/3 [00:00<00:00, 12.78it/s, v_num=0]"
     ]
    },
    {
     "name": "stderr",
     "output_type": "stream",
     "text": [
      "Epoch 19, global step 60: 'val_loss' was not in top 1\n"
     ]
    },
    {
     "name": "stdout",
     "output_type": "stream",
     "text": [
      "Epoch 20: 100%|██████████| 3/3 [00:00<00:00, 12.41it/s, v_num=0]"
     ]
    },
    {
     "name": "stderr",
     "output_type": "stream",
     "text": [
      "Epoch 20, global step 63: 'val_loss' was not in top 1\n"
     ]
    },
    {
     "name": "stdout",
     "output_type": "stream",
     "text": [
      "Epoch 21: 100%|██████████| 3/3 [00:00<00:00, 12.94it/s, v_num=0]"
     ]
    },
    {
     "name": "stderr",
     "output_type": "stream",
     "text": [
      "Epoch 21, global step 66: 'val_loss' was not in top 1\n"
     ]
    },
    {
     "name": "stdout",
     "output_type": "stream",
     "text": [
      "Epoch 22: 100%|██████████| 3/3 [00:00<00:00, 12.24it/s, v_num=0]"
     ]
    },
    {
     "name": "stderr",
     "output_type": "stream",
     "text": [
      "Metric val_loss improved by 0.151 >= min_delta = 0.0. New best score: -0.937\n",
      "Epoch 22, global step 69: 'val_loss' reached -0.93683 (best -0.93683), saving model to '/database/config/db2inst1/robust_plan_eval/notebooks/lightning_models/roq_job_lr0.0038_bs512_0kq_400epoch=22-step=69-val_loss=-0.94.ckpt' as top 1\n"
     ]
    },
    {
     "name": "stdout",
     "output_type": "stream",
     "text": [
      "Epoch 23: 100%|██████████| 3/3 [00:00<00:00, 11.92it/s, v_num=0]"
     ]
    },
    {
     "name": "stderr",
     "output_type": "stream",
     "text": [
      "Epoch 23, global step 72: 'val_loss' was not in top 1\n"
     ]
    },
    {
     "name": "stdout",
     "output_type": "stream",
     "text": [
      "Epoch 24: 100%|██████████| 3/3 [00:00<00:00, 13.12it/s, v_num=0]"
     ]
    },
    {
     "name": "stderr",
     "output_type": "stream",
     "text": [
      "Epoch 24, global step 75: 'val_loss' was not in top 1\n"
     ]
    },
    {
     "name": "stdout",
     "output_type": "stream",
     "text": [
      "Epoch 25: 100%|██████████| 3/3 [00:00<00:00, 12.12it/s, v_num=0]"
     ]
    },
    {
     "name": "stderr",
     "output_type": "stream",
     "text": [
      "Epoch 25, global step 78: 'val_loss' was not in top 1\n"
     ]
    },
    {
     "name": "stdout",
     "output_type": "stream",
     "text": [
      "Epoch 26: 100%|██████████| 3/3 [00:00<00:00, 12.18it/s, v_num=0]"
     ]
    },
    {
     "name": "stderr",
     "output_type": "stream",
     "text": [
      "Epoch 26, global step 81: 'val_loss' was not in top 1\n"
     ]
    },
    {
     "name": "stdout",
     "output_type": "stream",
     "text": [
      "Epoch 27: 100%|██████████| 3/3 [00:00<00:00, 11.30it/s, v_num=0]"
     ]
    },
    {
     "name": "stderr",
     "output_type": "stream",
     "text": [
      "Metric val_loss improved by 0.061 >= min_delta = 0.0. New best score: -0.998\n",
      "Epoch 27, global step 84: 'val_loss' reached -0.99807 (best -0.99807), saving model to '/database/config/db2inst1/robust_plan_eval/notebooks/lightning_models/roq_job_lr0.0038_bs512_0kq_400epoch=27-step=84-val_loss=-1.00.ckpt' as top 1\n"
     ]
    },
    {
     "name": "stdout",
     "output_type": "stream",
     "text": [
      "Epoch 28: 100%|██████████| 3/3 [00:00<00:00, 11.98it/s, v_num=0]"
     ]
    },
    {
     "name": "stderr",
     "output_type": "stream",
     "text": [
      "Epoch 28, global step 87: 'val_loss' was not in top 1\n"
     ]
    },
    {
     "name": "stdout",
     "output_type": "stream",
     "text": [
      "Epoch 29: 100%|██████████| 3/3 [00:00<00:00, 12.06it/s, v_num=0]"
     ]
    },
    {
     "name": "stderr",
     "output_type": "stream",
     "text": [
      "Epoch 29, global step 90: 'val_loss' was not in top 1\n"
     ]
    },
    {
     "name": "stdout",
     "output_type": "stream",
     "text": [
      "Epoch 30: 100%|██████████| 3/3 [00:00<00:00, 12.13it/s, v_num=0]"
     ]
    },
    {
     "name": "stderr",
     "output_type": "stream",
     "text": [
      "Epoch 30, global step 93: 'val_loss' was not in top 1\n"
     ]
    },
    {
     "name": "stdout",
     "output_type": "stream",
     "text": [
      "Epoch 31: 100%|██████████| 3/3 [00:00<00:00, 11.93it/s, v_num=0]"
     ]
    },
    {
     "name": "stderr",
     "output_type": "stream",
     "text": [
      "Epoch 31, global step 96: 'val_loss' was not in top 1\n"
     ]
    },
    {
     "name": "stdout",
     "output_type": "stream",
     "text": [
      "Epoch 32: 100%|██████████| 3/3 [00:00<00:00, 11.51it/s, v_num=0]"
     ]
    },
    {
     "name": "stderr",
     "output_type": "stream",
     "text": [
      "Epoch 32, global step 99: 'val_loss' was not in top 1\n"
     ]
    },
    {
     "name": "stdout",
     "output_type": "stream",
     "text": [
      "Epoch 33: 100%|██████████| 3/3 [00:00<00:00, 11.90it/s, v_num=0]"
     ]
    },
    {
     "name": "stderr",
     "output_type": "stream",
     "text": [
      "Epoch 33, global step 102: 'val_loss' was not in top 1\n"
     ]
    },
    {
     "name": "stdout",
     "output_type": "stream",
     "text": [
      "Epoch 34: 100%|██████████| 3/3 [00:00<00:00, 10.71it/s, v_num=0]"
     ]
    },
    {
     "name": "stderr",
     "output_type": "stream",
     "text": [
      "Epoch 34, global step 105: 'val_loss' was not in top 1\n"
     ]
    },
    {
     "name": "stdout",
     "output_type": "stream",
     "text": [
      "Epoch 35: 100%|██████████| 3/3 [00:00<00:00, 13.03it/s, v_num=0]"
     ]
    },
    {
     "name": "stderr",
     "output_type": "stream",
     "text": [
      "Epoch 35, global step 108: 'val_loss' was not in top 1\n"
     ]
    },
    {
     "name": "stdout",
     "output_type": "stream",
     "text": [
      "Epoch 36: 100%|██████████| 3/3 [00:00<00:00, 12.35it/s, v_num=0]"
     ]
    },
    {
     "name": "stderr",
     "output_type": "stream",
     "text": [
      "Epoch 36, global step 111: 'val_loss' was not in top 1\n"
     ]
    },
    {
     "name": "stdout",
     "output_type": "stream",
     "text": [
      "Epoch 37: 100%|██████████| 3/3 [00:00<00:00, 10.71it/s, v_num=0]"
     ]
    },
    {
     "name": "stderr",
     "output_type": "stream",
     "text": [
      "Epoch 37, global step 114: 'val_loss' was not in top 1\n"
     ]
    },
    {
     "name": "stdout",
     "output_type": "stream",
     "text": [
      "Epoch 38: 100%|██████████| 3/3 [00:00<00:00, 11.69it/s, v_num=0]"
     ]
    },
    {
     "name": "stderr",
     "output_type": "stream",
     "text": [
      "Epoch 38, global step 117: 'val_loss' was not in top 1\n"
     ]
    },
    {
     "name": "stdout",
     "output_type": "stream",
     "text": [
      "Epoch 39: 100%|██████████| 3/3 [00:00<00:00, 12.37it/s, v_num=0]"
     ]
    },
    {
     "name": "stderr",
     "output_type": "stream",
     "text": [
      "Epoch 39, global step 120: 'val_loss' was not in top 1\n"
     ]
    },
    {
     "name": "stdout",
     "output_type": "stream",
     "text": [
      "Epoch 40: 100%|██████████| 3/3 [00:00<00:00, 12.33it/s, v_num=0]"
     ]
    },
    {
     "name": "stderr",
     "output_type": "stream",
     "text": [
      "Epoch 40, global step 123: 'val_loss' was not in top 1\n"
     ]
    },
    {
     "name": "stdout",
     "output_type": "stream",
     "text": [
      "Epoch 41: 100%|██████████| 3/3 [00:00<00:00, 12.21it/s, v_num=0]"
     ]
    },
    {
     "name": "stderr",
     "output_type": "stream",
     "text": [
      "Epoch 41, global step 126: 'val_loss' was not in top 1\n"
     ]
    },
    {
     "name": "stdout",
     "output_type": "stream",
     "text": [
      "Epoch 42: 100%|██████████| 3/3 [00:00<00:00, 11.77it/s, v_num=0]"
     ]
    },
    {
     "name": "stderr",
     "output_type": "stream",
     "text": [
      "Epoch 42, global step 129: 'val_loss' was not in top 1\n"
     ]
    },
    {
     "name": "stdout",
     "output_type": "stream",
     "text": [
      "Epoch 43: 100%|██████████| 3/3 [00:00<00:00, 12.14it/s, v_num=0]"
     ]
    },
    {
     "name": "stderr",
     "output_type": "stream",
     "text": [
      "Epoch 43, global step 132: 'val_loss' was not in top 1\n"
     ]
    },
    {
     "name": "stdout",
     "output_type": "stream",
     "text": [
      "Epoch 44: 100%|██████████| 3/3 [00:00<00:00, 12.60it/s, v_num=0]"
     ]
    },
    {
     "name": "stderr",
     "output_type": "stream",
     "text": [
      "Epoch 44, global step 135: 'val_loss' was not in top 1\n"
     ]
    },
    {
     "name": "stdout",
     "output_type": "stream",
     "text": [
      "Epoch 45: 100%|██████████| 3/3 [00:00<00:00, 12.62it/s, v_num=0]"
     ]
    },
    {
     "name": "stderr",
     "output_type": "stream",
     "text": [
      "Epoch 45, global step 138: 'val_loss' was not in top 1\n"
     ]
    },
    {
     "name": "stdout",
     "output_type": "stream",
     "text": [
      "Epoch 46: 100%|██████████| 3/3 [00:00<00:00, 12.55it/s, v_num=0]"
     ]
    },
    {
     "name": "stderr",
     "output_type": "stream",
     "text": [
      "Epoch 46, global step 141: 'val_loss' was not in top 1\n"
     ]
    },
    {
     "name": "stdout",
     "output_type": "stream",
     "text": [
      "Epoch 47: 100%|██████████| 3/3 [00:00<00:00, 12.06it/s, v_num=0]"
     ]
    },
    {
     "name": "stderr",
     "output_type": "stream",
     "text": [
      "Epoch 47, global step 144: 'val_loss' was not in top 1\n"
     ]
    },
    {
     "name": "stdout",
     "output_type": "stream",
     "text": [
      "Epoch 48: 100%|██████████| 3/3 [00:00<00:00, 11.84it/s, v_num=0]"
     ]
    },
    {
     "name": "stderr",
     "output_type": "stream",
     "text": [
      "Epoch 48, global step 147: 'val_loss' was not in top 1\n"
     ]
    },
    {
     "name": "stdout",
     "output_type": "stream",
     "text": [
      "Epoch 49: 100%|██████████| 3/3 [00:00<00:00, 11.80it/s, v_num=0]"
     ]
    },
    {
     "name": "stderr",
     "output_type": "stream",
     "text": [
      "Epoch 49, global step 150: 'val_loss' was not in top 1\n"
     ]
    },
    {
     "name": "stdout",
     "output_type": "stream",
     "text": [
      "Epoch 50: 100%|██████████| 3/3 [00:00<00:00, 11.40it/s, v_num=0]"
     ]
    },
    {
     "name": "stderr",
     "output_type": "stream",
     "text": [
      "Epoch 50, global step 153: 'val_loss' was not in top 1\n"
     ]
    },
    {
     "name": "stdout",
     "output_type": "stream",
     "text": [
      "Epoch 51: 100%|██████████| 3/3 [00:00<00:00, 12.24it/s, v_num=0]"
     ]
    },
    {
     "name": "stderr",
     "output_type": "stream",
     "text": [
      "Epoch 51, global step 156: 'val_loss' was not in top 1\n"
     ]
    },
    {
     "name": "stdout",
     "output_type": "stream",
     "text": [
      "Epoch 52: 100%|██████████| 3/3 [00:00<00:00, 12.06it/s, v_num=0]"
     ]
    },
    {
     "name": "stderr",
     "output_type": "stream",
     "text": [
      "Epoch 52, global step 159: 'val_loss' was not in top 1\n"
     ]
    },
    {
     "name": "stdout",
     "output_type": "stream",
     "text": [
      "Epoch 53: 100%|██████████| 3/3 [00:00<00:00, 11.35it/s, v_num=0]"
     ]
    },
    {
     "name": "stderr",
     "output_type": "stream",
     "text": [
      "Epoch 53, global step 162: 'val_loss' was not in top 1\n"
     ]
    },
    {
     "name": "stdout",
     "output_type": "stream",
     "text": [
      "Epoch 54: 100%|██████████| 3/3 [00:00<00:00, 12.21it/s, v_num=0]"
     ]
    },
    {
     "name": "stderr",
     "output_type": "stream",
     "text": [
      "Epoch 54, global step 165: 'val_loss' was not in top 1\n"
     ]
    },
    {
     "name": "stdout",
     "output_type": "stream",
     "text": [
      "Epoch 55: 100%|██████████| 3/3 [00:00<00:00, 11.41it/s, v_num=0]"
     ]
    },
    {
     "name": "stderr",
     "output_type": "stream",
     "text": [
      "Epoch 55, global step 168: 'val_loss' was not in top 1\n"
     ]
    },
    {
     "name": "stdout",
     "output_type": "stream",
     "text": [
      "Epoch 56: 100%|██████████| 3/3 [00:00<00:00, 12.15it/s, v_num=0]"
     ]
    },
    {
     "name": "stderr",
     "output_type": "stream",
     "text": [
      "Epoch 56, global step 171: 'val_loss' was not in top 1\n"
     ]
    },
    {
     "name": "stdout",
     "output_type": "stream",
     "text": [
      "Epoch 57: 100%|██████████| 3/3 [00:00<00:00, 11.95it/s, v_num=0]"
     ]
    },
    {
     "name": "stderr",
     "output_type": "stream",
     "text": [
      "Epoch 57, global step 174: 'val_loss' was not in top 1\n"
     ]
    },
    {
     "name": "stdout",
     "output_type": "stream",
     "text": [
      "Epoch 58: 100%|██████████| 3/3 [00:00<00:00, 11.90it/s, v_num=0]"
     ]
    },
    {
     "name": "stderr",
     "output_type": "stream",
     "text": [
      "Epoch 58, global step 177: 'val_loss' was not in top 1\n"
     ]
    },
    {
     "name": "stdout",
     "output_type": "stream",
     "text": [
      "Epoch 59: 100%|██████████| 3/3 [00:00<00:00, 10.82it/s, v_num=0]"
     ]
    },
    {
     "name": "stderr",
     "output_type": "stream",
     "text": [
      "Epoch 59, global step 180: 'val_loss' was not in top 1\n"
     ]
    },
    {
     "name": "stdout",
     "output_type": "stream",
     "text": [
      "Epoch 60: 100%|██████████| 3/3 [00:00<00:00, 12.20it/s, v_num=0]"
     ]
    },
    {
     "name": "stderr",
     "output_type": "stream",
     "text": [
      "Epoch 60, global step 183: 'val_loss' was not in top 1\n"
     ]
    },
    {
     "name": "stdout",
     "output_type": "stream",
     "text": [
      "Epoch 61: 100%|██████████| 3/3 [00:00<00:00, 11.57it/s, v_num=0]"
     ]
    },
    {
     "name": "stderr",
     "output_type": "stream",
     "text": [
      "Epoch 61, global step 186: 'val_loss' was not in top 1\n"
     ]
    },
    {
     "name": "stdout",
     "output_type": "stream",
     "text": [
      "Epoch 62: 100%|██████████| 3/3 [00:00<00:00, 11.43it/s, v_num=0]"
     ]
    },
    {
     "name": "stderr",
     "output_type": "stream",
     "text": [
      "Epoch 62, global step 189: 'val_loss' was not in top 1\n"
     ]
    },
    {
     "name": "stdout",
     "output_type": "stream",
     "text": [
      "Epoch 63: 100%|██████████| 3/3 [00:00<00:00, 12.04it/s, v_num=0]"
     ]
    },
    {
     "name": "stderr",
     "output_type": "stream",
     "text": [
      "Epoch 63, global step 192: 'val_loss' was not in top 1\n"
     ]
    },
    {
     "name": "stdout",
     "output_type": "stream",
     "text": [
      "Epoch 64: 100%|██████████| 3/3 [00:00<00:00, 11.04it/s, v_num=0]"
     ]
    },
    {
     "name": "stderr",
     "output_type": "stream",
     "text": [
      "Epoch 64, global step 195: 'val_loss' was not in top 1\n"
     ]
    },
    {
     "name": "stdout",
     "output_type": "stream",
     "text": [
      "Epoch 65: 100%|██████████| 3/3 [00:00<00:00, 10.99it/s, v_num=0]"
     ]
    },
    {
     "name": "stderr",
     "output_type": "stream",
     "text": [
      "Epoch 65, global step 198: 'val_loss' was not in top 1\n"
     ]
    },
    {
     "name": "stdout",
     "output_type": "stream",
     "text": [
      "Epoch 66: 100%|██████████| 3/3 [00:00<00:00, 11.50it/s, v_num=0]"
     ]
    },
    {
     "name": "stderr",
     "output_type": "stream",
     "text": [
      "Epoch 66, global step 201: 'val_loss' was not in top 1\n"
     ]
    },
    {
     "name": "stdout",
     "output_type": "stream",
     "text": [
      "Epoch 67: 100%|██████████| 3/3 [00:00<00:00, 11.34it/s, v_num=0]"
     ]
    },
    {
     "name": "stderr",
     "output_type": "stream",
     "text": [
      "Epoch 67, global step 204: 'val_loss' was not in top 1\n"
     ]
    },
    {
     "name": "stdout",
     "output_type": "stream",
     "text": [
      "Epoch 68: 100%|██████████| 3/3 [00:00<00:00, 11.68it/s, v_num=0]"
     ]
    },
    {
     "name": "stderr",
     "output_type": "stream",
     "text": [
      "Epoch 68, global step 207: 'val_loss' was not in top 1\n"
     ]
    },
    {
     "name": "stdout",
     "output_type": "stream",
     "text": [
      "Epoch 69: 100%|██████████| 3/3 [00:00<00:00, 11.14it/s, v_num=0]"
     ]
    },
    {
     "name": "stderr",
     "output_type": "stream",
     "text": [
      "Epoch 69, global step 210: 'val_loss' was not in top 1\n"
     ]
    },
    {
     "name": "stdout",
     "output_type": "stream",
     "text": [
      "Epoch 70: 100%|██████████| 3/3 [00:00<00:00, 12.18it/s, v_num=0]"
     ]
    },
    {
     "name": "stderr",
     "output_type": "stream",
     "text": [
      "Epoch 70, global step 213: 'val_loss' was not in top 1\n"
     ]
    },
    {
     "name": "stdout",
     "output_type": "stream",
     "text": [
      "Epoch 71: 100%|██████████| 3/3 [00:00<00:00, 11.35it/s, v_num=0]"
     ]
    },
    {
     "name": "stderr",
     "output_type": "stream",
     "text": [
      "Epoch 71, global step 216: 'val_loss' was not in top 1\n"
     ]
    },
    {
     "name": "stdout",
     "output_type": "stream",
     "text": [
      "Epoch 72: 100%|██████████| 3/3 [00:00<00:00, 11.71it/s, v_num=0]"
     ]
    },
    {
     "name": "stderr",
     "output_type": "stream",
     "text": [
      "Epoch 72, global step 219: 'val_loss' was not in top 1\n"
     ]
    },
    {
     "name": "stdout",
     "output_type": "stream",
     "text": [
      "Epoch 73: 100%|██████████| 3/3 [00:00<00:00,  3.74it/s, v_num=0]"
     ]
    },
    {
     "name": "stderr",
     "output_type": "stream",
     "text": [
      "Epoch 73, global step 222: 'val_loss' was not in top 1\n"
     ]
    },
    {
     "name": "stdout",
     "output_type": "stream",
     "text": [
      "Epoch 74: 100%|██████████| 3/3 [00:00<00:00,  8.63it/s, v_num=0]"
     ]
    },
    {
     "name": "stderr",
     "output_type": "stream",
     "text": [
      "Epoch 74, global step 225: 'val_loss' was not in top 1\n"
     ]
    },
    {
     "name": "stdout",
     "output_type": "stream",
     "text": [
      "Epoch 75: 100%|██████████| 3/3 [00:00<00:00, 12.13it/s, v_num=0]"
     ]
    },
    {
     "name": "stderr",
     "output_type": "stream",
     "text": [
      "Epoch 75, global step 228: 'val_loss' was not in top 1\n"
     ]
    },
    {
     "name": "stdout",
     "output_type": "stream",
     "text": [
      "Epoch 76: 100%|██████████| 3/3 [00:00<00:00, 12.15it/s, v_num=0]"
     ]
    },
    {
     "name": "stderr",
     "output_type": "stream",
     "text": [
      "Epoch 76, global step 231: 'val_loss' was not in top 1\n"
     ]
    },
    {
     "name": "stdout",
     "output_type": "stream",
     "text": [
      "Epoch 77: 100%|██████████| 3/3 [00:00<00:00, 12.61it/s, v_num=0]"
     ]
    },
    {
     "name": "stderr",
     "output_type": "stream",
     "text": [
      "Monitored metric val_loss did not improve in the last 50 records. Best score: -0.998. Signaling Trainer to stop.\n",
      "Epoch 77, global step 234: 'val_loss' was not in top 1\n"
     ]
    },
    {
     "name": "stdout",
     "output_type": "stream",
     "text": [
      "Epoch 77: 100%|██████████| 3/3 [00:00<00:00, 12.35it/s, v_num=0]\n"
     ]
    }
   ],
   "source": [
    "trainer.fit(model,train_loader,val_loader)"
   ]
  },
  {
   "cell_type": "code",
   "execution_count": 461,
   "metadata": {},
   "outputs": [
    {
     "name": "stdout",
     "output_type": "stream",
     "text": [
      "Best roq_job_lr0.0038_bs512_0kq_400 model saved in \n",
      "/database/config/db2inst1/robust_plan_eval/notebooks/lightning_models/roq_job_lr0.0038_bs512_0kq_400epoch=27-step=84-val_loss=-1.00.ckpt\n"
     ]
    }
   ],
   "source": [
    "print('Best {} model saved in \\n{}'.format(model_name,checkpointing.best_model_path))"
   ]
  },
  {
   "cell_type": "code",
   "execution_count": 462,
   "metadata": {},
   "outputs": [],
   "source": [
    "if arch == 'lero':\n",
    "    lero_pairwise = leroPairwise.load_from_checkpoint(\n",
    "        checkpointing.best_model_path,\n",
    "        num_node = node_attr_shape[0], \n",
    "        numPlanFeat=plan_attr_shape,\n",
    "        numPlanOrdFeat=plan_ord_shape,\n",
    "        numQueryGraphFeat = graph_attr_shape[0],\n",
    "        device = device, \n",
    "        criterion = loss,\n",
    "        **config\n",
    "        )\n",
    "    model=lero_pairwise.lero_model\n",
    "if arch == 'balsa':\n",
    "    balsa = balsa_model.load_from_checkpoint(\n",
    "        checkpointing.best_model_path,\n",
    "        num_node = node_attr_shape[0], \n",
    "        node_dim = node_attr_shape[1],\n",
    "        edge_dim = edge_attr_shape[1],#fill_value =0, \n",
    "        numPlanFeat=plan_attr_shape,\n",
    "        numPlanOrdFeat=plan_ord_shape,\n",
    "        numQueryGraphFeat = graph_attr_shape[0],\n",
    "        device = device, \n",
    "        criterion = loss,\n",
    "        **config\n",
    "        )\n",
    "if 'neo' in arch:\n",
    "    neo = neo_bao_model.load_from_checkpoint(\n",
    "        checkpointing.best_model_path,\n",
    "        num_node = node_attr_shape[0], \n",
    "        node_dim = node_attr_shape[1],\n",
    "        edge_dim = edge_attr_shape[1],\n",
    "        numPlanFeat=plan_attr_shape,\n",
    "        numPlanOrdFeat=plan_ord_shape,\n",
    "        numQueryGraphFeat = graph_attr_shape[0],\n",
    "        device = device, \n",
    "        criterion = loss,\n",
    "        architecture = 'neo',\n",
    "        **config\n",
    "        )\n",
    "\n",
    "if 'bao' in arch:\n",
    "    bao = neo_bao_model.load_from_checkpoint(\n",
    "        checkpointing.best_model_path,\n",
    "        num_node = node_attr_shape[0], \n",
    "        node_dim = node_attr_shape[1],\n",
    "        edge_dim = edge_attr_shape[1],\n",
    "        numPlanFeat=plan_attr_shape,\n",
    "        numPlanOrdFeat=plan_ord_shape,\n",
    "        numQueryGraphFeat = graph_attr_shape[0],\n",
    "        device = device, \n",
    "        criterion = loss,\n",
    "        architecture = 'bao',\n",
    "        **config\n",
    "        )\n",
    "if 'roq' in arch:\n",
    "    roq = roq_model.load_from_checkpoint(\n",
    "        checkpointing.best_model_path, \n",
    "        num_node = node_attr_shape[0], \n",
    "        node_dim = node_attr_shape[1],\n",
    "        edge_dim = edge_attr_shape[1], \n",
    "        numPlanFeat=plan_attr_shape,\n",
    "        numPlanOrdFeat=plan_ord_shape,\n",
    "        numQueryGraphFeat = graph_attr_shape[0],\n",
    "        with_var = True, device = device, \n",
    "        criterion = loss,\n",
    "        **config\n",
    "        )"
   ]
  },
  {
   "cell_type": "code",
   "execution_count": 463,
   "metadata": {},
   "outputs": [
    {
     "name": "stderr",
     "output_type": "stream",
     "text": [
      "LOCAL_RANK: 0 - CUDA_VISIBLE_DEVICES: [0]\n"
     ]
    },
    {
     "name": "stdout",
     "output_type": "stream",
     "text": [
      "Predicting DataLoader 0: 100%|██████████| 1/1 [00:00<00:00, 38.99it/s]\n"
     ]
    }
   ],
   "source": [
    "ypreds_test = trainer.predict(model, test_loader)\n",
    "ypreds_test = torch.vstack(ypreds_test)\n",
    "if arch != 'lero':\n",
    "    ypreds_test=yTransFunc.inverse_transform(torch.Tensor(ypreds_test))\n"
   ]
  },
  {
   "cell_type": "code",
   "execution_count": 464,
   "metadata": {},
   "outputs": [
    {
     "name": "stdout",
     "output_type": "stream",
     "text": [
      "baseline ml  : corr : (np.float64(0.879437029922222), np.float64(1.6446379434378336e-51))\n",
      "queries with no plans after pruning: 0\n",
      "evaluation time: 0.003209352493286133\n",
      "\n"
     ]
    }
   ],
   "source": [
    "lero_subopt,lero_runtime,_ = evaluate_method(\n",
    "    ypreds_test[:,0],ypreds_test[:,1],test_set, \n",
    "    strategy='baseline ml'\n",
    ")"
   ]
  },
  {
   "cell_type": "code",
   "execution_count": 465,
   "metadata": {},
   "outputs": [
    {
     "data": {
      "text/html": [
       "<div>\n",
       "<style scoped>\n",
       "    .dataframe tbody tr th:only-of-type {\n",
       "        vertical-align: middle;\n",
       "    }\n",
       "\n",
       "    .dataframe tbody tr th {\n",
       "        vertical-align: top;\n",
       "    }\n",
       "\n",
       "    .dataframe thead th {\n",
       "        text-align: right;\n",
       "    }\n",
       "</style>\n",
       "<table border=\"1\" class=\"dataframe\">\n",
       "  <thead>\n",
       "    <tr style=\"text-align: right;\">\n",
       "      <th></th>\n",
       "      <th>5.0</th>\n",
       "      <th>7.0</th>\n",
       "      <th>8.0</th>\n",
       "      <th>9.0</th>\n",
       "      <th>10.0</th>\n",
       "      <th>11.0</th>\n",
       "      <th>14.0</th>\n",
       "      <th>18.0</th>\n",
       "      <th>20.0</th>\n",
       "      <th>overall q_error</th>\n",
       "    </tr>\n",
       "  </thead>\n",
       "  <tbody>\n",
       "    <tr>\n",
       "      <th>count</th>\n",
       "      <td>13.000000</td>\n",
       "      <td>13.000000</td>\n",
       "      <td>26.000000</td>\n",
       "      <td>13.000000</td>\n",
       "      <td>13.000000</td>\n",
       "      <td>26.000000</td>\n",
       "      <td>13.000000</td>\n",
       "      <td>13.000000</td>\n",
       "      <td>26.000000</td>\n",
       "      <td>156.000000</td>\n",
       "    </tr>\n",
       "    <tr>\n",
       "      <th>mean</th>\n",
       "      <td>7.312111</td>\n",
       "      <td>2.618566</td>\n",
       "      <td>1.628558</td>\n",
       "      <td>1.390581</td>\n",
       "      <td>2.235841</td>\n",
       "      <td>1.605698</td>\n",
       "      <td>3.656896</td>\n",
       "      <td>1.707068</td>\n",
       "      <td>2.801931</td>\n",
       "      <td>2.582787</td>\n",
       "    </tr>\n",
       "    <tr>\n",
       "      <th>std</th>\n",
       "      <td>6.235503</td>\n",
       "      <td>2.753206</td>\n",
       "      <td>0.307440</td>\n",
       "      <td>0.357683</td>\n",
       "      <td>0.537741</td>\n",
       "      <td>0.437933</td>\n",
       "      <td>3.501274</td>\n",
       "      <td>0.527778</td>\n",
       "      <td>3.082015</td>\n",
       "      <td>2.943730</td>\n",
       "    </tr>\n",
       "    <tr>\n",
       "      <th>min</th>\n",
       "      <td>1.126659</td>\n",
       "      <td>1.008574</td>\n",
       "      <td>1.065738</td>\n",
       "      <td>1.090499</td>\n",
       "      <td>1.030751</td>\n",
       "      <td>1.121264</td>\n",
       "      <td>1.131866</td>\n",
       "      <td>1.115613</td>\n",
       "      <td>1.038091</td>\n",
       "      <td>1.008574</td>\n",
       "    </tr>\n",
       "    <tr>\n",
       "      <th>0%</th>\n",
       "      <td>1.126659</td>\n",
       "      <td>1.008574</td>\n",
       "      <td>1.065738</td>\n",
       "      <td>1.090499</td>\n",
       "      <td>1.030751</td>\n",
       "      <td>1.121264</td>\n",
       "      <td>1.131866</td>\n",
       "      <td>1.115613</td>\n",
       "      <td>1.038091</td>\n",
       "      <td>1.008574</td>\n",
       "    </tr>\n",
       "    <tr>\n",
       "      <th>10%</th>\n",
       "      <td>1.166756</td>\n",
       "      <td>1.015374</td>\n",
       "      <td>1.242801</td>\n",
       "      <td>1.199655</td>\n",
       "      <td>1.767594</td>\n",
       "      <td>1.121931</td>\n",
       "      <td>1.157306</td>\n",
       "      <td>1.252366</td>\n",
       "      <td>1.038594</td>\n",
       "      <td>1.110326</td>\n",
       "    </tr>\n",
       "    <tr>\n",
       "      <th>20%</th>\n",
       "      <td>1.266593</td>\n",
       "      <td>1.019371</td>\n",
       "      <td>1.481794</td>\n",
       "      <td>1.207904</td>\n",
       "      <td>1.780720</td>\n",
       "      <td>1.372765</td>\n",
       "      <td>1.222153</td>\n",
       "      <td>1.310927</td>\n",
       "      <td>1.076790</td>\n",
       "      <td>1.181734</td>\n",
       "    </tr>\n",
       "    <tr>\n",
       "      <th>30%</th>\n",
       "      <td>1.681547</td>\n",
       "      <td>1.172240</td>\n",
       "      <td>1.511982</td>\n",
       "      <td>1.208127</td>\n",
       "      <td>1.817091</td>\n",
       "      <td>1.399443</td>\n",
       "      <td>1.348564</td>\n",
       "      <td>1.403338</td>\n",
       "      <td>1.114814</td>\n",
       "      <td>1.285125</td>\n",
       "    </tr>\n",
       "    <tr>\n",
       "      <th>40%</th>\n",
       "      <td>1.962090</td>\n",
       "      <td>1.507341</td>\n",
       "      <td>1.528651</td>\n",
       "      <td>1.208276</td>\n",
       "      <td>2.303883</td>\n",
       "      <td>1.416230</td>\n",
       "      <td>1.621213</td>\n",
       "      <td>1.465250</td>\n",
       "      <td>1.143348</td>\n",
       "      <td>1.457197</td>\n",
       "    </tr>\n",
       "    <tr>\n",
       "      <th>50%</th>\n",
       "      <td>8.920841</td>\n",
       "      <td>1.649513</td>\n",
       "      <td>1.613258</td>\n",
       "      <td>1.222012</td>\n",
       "      <td>2.423294</td>\n",
       "      <td>1.455216</td>\n",
       "      <td>2.584325</td>\n",
       "      <td>1.486433</td>\n",
       "      <td>1.162019</td>\n",
       "      <td>1.516772</td>\n",
       "    </tr>\n",
       "    <tr>\n",
       "      <th>60%</th>\n",
       "      <td>9.469484</td>\n",
       "      <td>1.804036</td>\n",
       "      <td>1.664494</td>\n",
       "      <td>1.283634</td>\n",
       "      <td>2.579591</td>\n",
       "      <td>1.486127</td>\n",
       "      <td>3.168966</td>\n",
       "      <td>1.819672</td>\n",
       "      <td>1.296357</td>\n",
       "      <td>1.761254</td>\n",
       "    </tr>\n",
       "    <tr>\n",
       "      <th>70%</th>\n",
       "      <td>9.498797</td>\n",
       "      <td>2.011138</td>\n",
       "      <td>1.713314</td>\n",
       "      <td>1.502622</td>\n",
       "      <td>2.679378</td>\n",
       "      <td>1.511091</td>\n",
       "      <td>3.959309</td>\n",
       "      <td>1.846430</td>\n",
       "      <td>1.788330</td>\n",
       "      <td>1.953927</td>\n",
       "    </tr>\n",
       "    <tr>\n",
       "      <th>80%</th>\n",
       "      <td>13.545485</td>\n",
       "      <td>2.146823</td>\n",
       "      <td>1.828729</td>\n",
       "      <td>1.510651</td>\n",
       "      <td>2.680508</td>\n",
       "      <td>1.949806</td>\n",
       "      <td>3.996946</td>\n",
       "      <td>1.905536</td>\n",
       "      <td>4.798942</td>\n",
       "      <td>2.469587</td>\n",
       "    </tr>\n",
       "    <tr>\n",
       "      <th>90%</th>\n",
       "      <td>16.236597</td>\n",
       "      <td>7.427602</td>\n",
       "      <td>2.161911</td>\n",
       "      <td>1.515492</td>\n",
       "      <td>2.700279</td>\n",
       "      <td>2.436238</td>\n",
       "      <td>9.293183</td>\n",
       "      <td>2.211042</td>\n",
       "      <td>6.618602</td>\n",
       "      <td>5.199404</td>\n",
       "    </tr>\n",
       "    <tr>\n",
       "      <th>max</th>\n",
       "      <td>16.475777</td>\n",
       "      <td>8.753367</td>\n",
       "      <td>2.164957</td>\n",
       "      <td>2.469587</td>\n",
       "      <td>2.725582</td>\n",
       "      <td>2.570464</td>\n",
       "      <td>11.613911</td>\n",
       "      <td>3.071641</td>\n",
       "      <td>12.149215</td>\n",
       "      <td>16.475777</td>\n",
       "    </tr>\n",
       "  </tbody>\n",
       "</table>\n",
       "</div>"
      ],
      "text/plain": [
       "             5.0        7.0        8.0        9.0       10.0       11.0  \\\n",
       "count  13.000000  13.000000  26.000000  13.000000  13.000000  26.000000   \n",
       "mean    7.312111   2.618566   1.628558   1.390581   2.235841   1.605698   \n",
       "std     6.235503   2.753206   0.307440   0.357683   0.537741   0.437933   \n",
       "min     1.126659   1.008574   1.065738   1.090499   1.030751   1.121264   \n",
       "0%      1.126659   1.008574   1.065738   1.090499   1.030751   1.121264   \n",
       "10%     1.166756   1.015374   1.242801   1.199655   1.767594   1.121931   \n",
       "20%     1.266593   1.019371   1.481794   1.207904   1.780720   1.372765   \n",
       "30%     1.681547   1.172240   1.511982   1.208127   1.817091   1.399443   \n",
       "40%     1.962090   1.507341   1.528651   1.208276   2.303883   1.416230   \n",
       "50%     8.920841   1.649513   1.613258   1.222012   2.423294   1.455216   \n",
       "60%     9.469484   1.804036   1.664494   1.283634   2.579591   1.486127   \n",
       "70%     9.498797   2.011138   1.713314   1.502622   2.679378   1.511091   \n",
       "80%    13.545485   2.146823   1.828729   1.510651   2.680508   1.949806   \n",
       "90%    16.236597   7.427602   2.161911   1.515492   2.700279   2.436238   \n",
       "max    16.475777   8.753367   2.164957   2.469587   2.725582   2.570464   \n",
       "\n",
       "            14.0       18.0       20.0  overall q_error  \n",
       "count  13.000000  13.000000  26.000000       156.000000  \n",
       "mean    3.656896   1.707068   2.801931         2.582787  \n",
       "std     3.501274   0.527778   3.082015         2.943730  \n",
       "min     1.131866   1.115613   1.038091         1.008574  \n",
       "0%      1.131866   1.115613   1.038091         1.008574  \n",
       "10%     1.157306   1.252366   1.038594         1.110326  \n",
       "20%     1.222153   1.310927   1.076790         1.181734  \n",
       "30%     1.348564   1.403338   1.114814         1.285125  \n",
       "40%     1.621213   1.465250   1.143348         1.457197  \n",
       "50%     2.584325   1.486433   1.162019         1.516772  \n",
       "60%     3.168966   1.819672   1.296357         1.761254  \n",
       "70%     3.959309   1.846430   1.788330         1.953927  \n",
       "80%     3.996946   1.905536   4.798942         2.469587  \n",
       "90%     9.293183   2.211042   6.618602         5.199404  \n",
       "max    11.613911   3.071641  12.149215        16.475777  "
      ]
     },
     "metadata": {},
     "output_type": "display_data"
    },
    {
     "data": {
      "text/html": [
       "<div>\n",
       "<style scoped>\n",
       "    .dataframe tbody tr th:only-of-type {\n",
       "        vertical-align: middle;\n",
       "    }\n",
       "\n",
       "    .dataframe tbody tr th {\n",
       "        vertical-align: top;\n",
       "    }\n",
       "\n",
       "    .dataframe thead tr th {\n",
       "        text-align: left;\n",
       "    }\n",
       "</style>\n",
       "<table border=\"1\" class=\"dataframe\">\n",
       "  <thead>\n",
       "    <tr>\n",
       "      <th></th>\n",
       "      <th colspan=\"10\" halign=\"left\">ml_subopt</th>\n",
       "      <th colspan=\"10\" halign=\"left\">db2_subopt</th>\n",
       "    </tr>\n",
       "    <tr>\n",
       "      <th></th>\n",
       "      <th>5.0</th>\n",
       "      <th>7.0</th>\n",
       "      <th>8.0</th>\n",
       "      <th>9.0</th>\n",
       "      <th>10.0</th>\n",
       "      <th>11.0</th>\n",
       "      <th>14.0</th>\n",
       "      <th>18.0</th>\n",
       "      <th>20.0</th>\n",
       "      <th>overall subopt</th>\n",
       "      <th>5.0</th>\n",
       "      <th>7.0</th>\n",
       "      <th>8.0</th>\n",
       "      <th>9.0</th>\n",
       "      <th>10.0</th>\n",
       "      <th>11.0</th>\n",
       "      <th>14.0</th>\n",
       "      <th>18.0</th>\n",
       "      <th>20.0</th>\n",
       "      <th>overall subopt</th>\n",
       "    </tr>\n",
       "  </thead>\n",
       "  <tbody>\n",
       "    <tr>\n",
       "      <th>count</th>\n",
       "      <td>1.000000</td>\n",
       "      <td>1.000000</td>\n",
       "      <td>2.000000</td>\n",
       "      <td>1.000000</td>\n",
       "      <td>1.000000</td>\n",
       "      <td>2.000000</td>\n",
       "      <td>1.000000</td>\n",
       "      <td>1.0</td>\n",
       "      <td>2.000000</td>\n",
       "      <td>12.000000</td>\n",
       "      <td>1.000000</td>\n",
       "      <td>1.000000</td>\n",
       "      <td>2.000000</td>\n",
       "      <td>1.00000</td>\n",
       "      <td>1.000000</td>\n",
       "      <td>2.000000</td>\n",
       "      <td>1.000000</td>\n",
       "      <td>1.0</td>\n",
       "      <td>2.000000</td>\n",
       "      <td>12.000000</td>\n",
       "    </tr>\n",
       "    <tr>\n",
       "      <th>mean</th>\n",
       "      <td>5.781667</td>\n",
       "      <td>1.575382</td>\n",
       "      <td>1.101414</td>\n",
       "      <td>1.863757</td>\n",
       "      <td>1.626461</td>\n",
       "      <td>1.135103</td>\n",
       "      <td>1.061296</td>\n",
       "      <td>1.0</td>\n",
       "      <td>1.394690</td>\n",
       "      <td>1.680915</td>\n",
       "      <td>1.011482</td>\n",
       "      <td>1.962704</td>\n",
       "      <td>6.160443</td>\n",
       "      <td>3.74519</td>\n",
       "      <td>1.018869</td>\n",
       "      <td>1.675327</td>\n",
       "      <td>1.419909</td>\n",
       "      <td>1.0</td>\n",
       "      <td>1.631877</td>\n",
       "      <td>2.424454</td>\n",
       "    </tr>\n",
       "    <tr>\n",
       "      <th>std</th>\n",
       "      <td>NaN</td>\n",
       "      <td>NaN</td>\n",
       "      <td>0.032264</td>\n",
       "      <td>NaN</td>\n",
       "      <td>NaN</td>\n",
       "      <td>0.177037</td>\n",
       "      <td>NaN</td>\n",
       "      <td>NaN</td>\n",
       "      <td>0.220476</td>\n",
       "      <td>1.321968</td>\n",
       "      <td>NaN</td>\n",
       "      <td>NaN</td>\n",
       "      <td>7.186811</td>\n",
       "      <td>NaN</td>\n",
       "      <td>NaN</td>\n",
       "      <td>0.338386</td>\n",
       "      <td>NaN</td>\n",
       "      <td>NaN</td>\n",
       "      <td>0.114958</td>\n",
       "      <td>2.876864</td>\n",
       "    </tr>\n",
       "    <tr>\n",
       "      <th>min</th>\n",
       "      <td>5.781667</td>\n",
       "      <td>1.575382</td>\n",
       "      <td>1.078600</td>\n",
       "      <td>1.863757</td>\n",
       "      <td>1.626461</td>\n",
       "      <td>1.009919</td>\n",
       "      <td>1.061296</td>\n",
       "      <td>1.0</td>\n",
       "      <td>1.238790</td>\n",
       "      <td>1.000000</td>\n",
       "      <td>1.011482</td>\n",
       "      <td>1.962704</td>\n",
       "      <td>1.078600</td>\n",
       "      <td>3.74519</td>\n",
       "      <td>1.018869</td>\n",
       "      <td>1.436051</td>\n",
       "      <td>1.419909</td>\n",
       "      <td>1.0</td>\n",
       "      <td>1.550590</td>\n",
       "      <td>1.000000</td>\n",
       "    </tr>\n",
       "    <tr>\n",
       "      <th>0%</th>\n",
       "      <td>5.781667</td>\n",
       "      <td>1.575382</td>\n",
       "      <td>1.078600</td>\n",
       "      <td>1.863757</td>\n",
       "      <td>1.626461</td>\n",
       "      <td>1.009919</td>\n",
       "      <td>1.061296</td>\n",
       "      <td>1.0</td>\n",
       "      <td>1.238790</td>\n",
       "      <td>1.000000</td>\n",
       "      <td>1.011482</td>\n",
       "      <td>1.962704</td>\n",
       "      <td>1.078600</td>\n",
       "      <td>3.74519</td>\n",
       "      <td>1.018869</td>\n",
       "      <td>1.436051</td>\n",
       "      <td>1.419909</td>\n",
       "      <td>1.0</td>\n",
       "      <td>1.550590</td>\n",
       "      <td>1.000000</td>\n",
       "    </tr>\n",
       "    <tr>\n",
       "      <th>10%</th>\n",
       "      <td>5.781667</td>\n",
       "      <td>1.575382</td>\n",
       "      <td>1.083163</td>\n",
       "      <td>1.863757</td>\n",
       "      <td>1.626461</td>\n",
       "      <td>1.034956</td>\n",
       "      <td>1.061296</td>\n",
       "      <td>1.0</td>\n",
       "      <td>1.269970</td>\n",
       "      <td>1.015057</td>\n",
       "      <td>1.011482</td>\n",
       "      <td>1.962704</td>\n",
       "      <td>2.094969</td>\n",
       "      <td>3.74519</td>\n",
       "      <td>1.018869</td>\n",
       "      <td>1.483906</td>\n",
       "      <td>1.419909</td>\n",
       "      <td>1.0</td>\n",
       "      <td>1.566847</td>\n",
       "      <td>1.012220</td>\n",
       "    </tr>\n",
       "    <tr>\n",
       "      <th>20%</th>\n",
       "      <td>5.781667</td>\n",
       "      <td>1.575382</td>\n",
       "      <td>1.087726</td>\n",
       "      <td>1.863757</td>\n",
       "      <td>1.626461</td>\n",
       "      <td>1.059993</td>\n",
       "      <td>1.061296</td>\n",
       "      <td>1.0</td>\n",
       "      <td>1.301150</td>\n",
       "      <td>1.064757</td>\n",
       "      <td>1.011482</td>\n",
       "      <td>1.962704</td>\n",
       "      <td>3.111337</td>\n",
       "      <td>3.74519</td>\n",
       "      <td>1.018869</td>\n",
       "      <td>1.531761</td>\n",
       "      <td>1.419909</td>\n",
       "      <td>1.0</td>\n",
       "      <td>1.583105</td>\n",
       "      <td>1.030815</td>\n",
       "    </tr>\n",
       "    <tr>\n",
       "      <th>30%</th>\n",
       "      <td>5.781667</td>\n",
       "      <td>1.575382</td>\n",
       "      <td>1.092289</td>\n",
       "      <td>1.863757</td>\n",
       "      <td>1.626461</td>\n",
       "      <td>1.085029</td>\n",
       "      <td>1.061296</td>\n",
       "      <td>1.0</td>\n",
       "      <td>1.332330</td>\n",
       "      <td>1.092289</td>\n",
       "      <td>1.011482</td>\n",
       "      <td>1.962704</td>\n",
       "      <td>4.127706</td>\n",
       "      <td>3.74519</td>\n",
       "      <td>1.018869</td>\n",
       "      <td>1.579616</td>\n",
       "      <td>1.419909</td>\n",
       "      <td>1.0</td>\n",
       "      <td>1.599362</td>\n",
       "      <td>1.180993</td>\n",
       "    </tr>\n",
       "    <tr>\n",
       "      <th>40%</th>\n",
       "      <td>5.781667</td>\n",
       "      <td>1.575382</td>\n",
       "      <td>1.096852</td>\n",
       "      <td>1.863757</td>\n",
       "      <td>1.626461</td>\n",
       "      <td>1.110066</td>\n",
       "      <td>1.061296</td>\n",
       "      <td>1.0</td>\n",
       "      <td>1.363510</td>\n",
       "      <td>1.170053</td>\n",
       "      <td>1.011482</td>\n",
       "      <td>1.962704</td>\n",
       "      <td>5.144074</td>\n",
       "      <td>3.74519</td>\n",
       "      <td>1.018869</td>\n",
       "      <td>1.627472</td>\n",
       "      <td>1.419909</td>\n",
       "      <td>1.0</td>\n",
       "      <td>1.615620</td>\n",
       "      <td>1.426366</td>\n",
       "    </tr>\n",
       "    <tr>\n",
       "      <th>50%</th>\n",
       "      <td>5.781667</td>\n",
       "      <td>1.575382</td>\n",
       "      <td>1.101415</td>\n",
       "      <td>1.863757</td>\n",
       "      <td>1.626461</td>\n",
       "      <td>1.135103</td>\n",
       "      <td>1.061296</td>\n",
       "      <td>1.0</td>\n",
       "      <td>1.394690</td>\n",
       "      <td>1.249539</td>\n",
       "      <td>1.011482</td>\n",
       "      <td>1.962704</td>\n",
       "      <td>6.160443</td>\n",
       "      <td>3.74519</td>\n",
       "      <td>1.018869</td>\n",
       "      <td>1.675327</td>\n",
       "      <td>1.419909</td>\n",
       "      <td>1.0</td>\n",
       "      <td>1.631877</td>\n",
       "      <td>1.493321</td>\n",
       "    </tr>\n",
       "    <tr>\n",
       "      <th>60%</th>\n",
       "      <td>5.781667</td>\n",
       "      <td>1.575382</td>\n",
       "      <td>1.105977</td>\n",
       "      <td>1.863757</td>\n",
       "      <td>1.626461</td>\n",
       "      <td>1.160140</td>\n",
       "      <td>1.061296</td>\n",
       "      <td>1.0</td>\n",
       "      <td>1.425870</td>\n",
       "      <td>1.434469</td>\n",
       "      <td>1.011482</td>\n",
       "      <td>1.962704</td>\n",
       "      <td>7.176812</td>\n",
       "      <td>3.74519</td>\n",
       "      <td>1.018869</td>\n",
       "      <td>1.723182</td>\n",
       "      <td>1.419909</td>\n",
       "      <td>1.0</td>\n",
       "      <td>1.648135</td>\n",
       "      <td>1.648135</td>\n",
       "    </tr>\n",
       "    <tr>\n",
       "      <th>70%</th>\n",
       "      <td>5.781667</td>\n",
       "      <td>1.575382</td>\n",
       "      <td>1.110540</td>\n",
       "      <td>1.863757</td>\n",
       "      <td>1.626461</td>\n",
       "      <td>1.185177</td>\n",
       "      <td>1.061296</td>\n",
       "      <td>1.0</td>\n",
       "      <td>1.457050</td>\n",
       "      <td>1.567944</td>\n",
       "      <td>1.011482</td>\n",
       "      <td>1.962704</td>\n",
       "      <td>8.193180</td>\n",
       "      <td>3.74519</td>\n",
       "      <td>1.018869</td>\n",
       "      <td>1.771037</td>\n",
       "      <td>1.419909</td>\n",
       "      <td>1.0</td>\n",
       "      <td>1.664392</td>\n",
       "      <td>1.854171</td>\n",
       "    </tr>\n",
       "    <tr>\n",
       "      <th>80%</th>\n",
       "      <td>5.781667</td>\n",
       "      <td>1.575382</td>\n",
       "      <td>1.115103</td>\n",
       "      <td>1.863757</td>\n",
       "      <td>1.626461</td>\n",
       "      <td>1.210213</td>\n",
       "      <td>1.061296</td>\n",
       "      <td>1.0</td>\n",
       "      <td>1.488230</td>\n",
       "      <td>1.616245</td>\n",
       "      <td>1.011482</td>\n",
       "      <td>1.962704</td>\n",
       "      <td>9.209549</td>\n",
       "      <td>3.74519</td>\n",
       "      <td>1.018869</td>\n",
       "      <td>1.818892</td>\n",
       "      <td>1.419909</td>\n",
       "      <td>1.0</td>\n",
       "      <td>1.680650</td>\n",
       "      <td>1.953083</td>\n",
       "    </tr>\n",
       "    <tr>\n",
       "      <th>90%</th>\n",
       "      <td>5.781667</td>\n",
       "      <td>1.575382</td>\n",
       "      <td>1.119666</td>\n",
       "      <td>1.863757</td>\n",
       "      <td>1.626461</td>\n",
       "      <td>1.235250</td>\n",
       "      <td>1.061296</td>\n",
       "      <td>1.0</td>\n",
       "      <td>1.519410</td>\n",
       "      <td>1.840027</td>\n",
       "      <td>1.011482</td>\n",
       "      <td>1.962704</td>\n",
       "      <td>10.225917</td>\n",
       "      <td>3.74519</td>\n",
       "      <td>1.018869</td>\n",
       "      <td>1.866747</td>\n",
       "      <td>1.419909</td>\n",
       "      <td>1.0</td>\n",
       "      <td>1.696907</td>\n",
       "      <td>3.566941</td>\n",
       "    </tr>\n",
       "    <tr>\n",
       "      <th>max</th>\n",
       "      <td>5.781667</td>\n",
       "      <td>1.575382</td>\n",
       "      <td>1.124229</td>\n",
       "      <td>1.863757</td>\n",
       "      <td>1.626461</td>\n",
       "      <td>1.260287</td>\n",
       "      <td>1.061296</td>\n",
       "      <td>1.0</td>\n",
       "      <td>1.550590</td>\n",
       "      <td>5.781667</td>\n",
       "      <td>1.011482</td>\n",
       "      <td>1.962704</td>\n",
       "      <td>11.242286</td>\n",
       "      <td>3.74519</td>\n",
       "      <td>1.018869</td>\n",
       "      <td>1.914602</td>\n",
       "      <td>1.419909</td>\n",
       "      <td>1.0</td>\n",
       "      <td>1.713165</td>\n",
       "      <td>11.242286</td>\n",
       "    </tr>\n",
       "  </tbody>\n",
       "</table>\n",
       "</div>"
      ],
      "text/plain": [
       "      ml_subopt                                                              \\\n",
       "            5.0       7.0       8.0       9.0      10.0      11.0      14.0   \n",
       "count  1.000000  1.000000  2.000000  1.000000  1.000000  2.000000  1.000000   \n",
       "mean   5.781667  1.575382  1.101414  1.863757  1.626461  1.135103  1.061296   \n",
       "std         NaN       NaN  0.032264       NaN       NaN  0.177037       NaN   \n",
       "min    5.781667  1.575382  1.078600  1.863757  1.626461  1.009919  1.061296   \n",
       "0%     5.781667  1.575382  1.078600  1.863757  1.626461  1.009919  1.061296   \n",
       "10%    5.781667  1.575382  1.083163  1.863757  1.626461  1.034956  1.061296   \n",
       "20%    5.781667  1.575382  1.087726  1.863757  1.626461  1.059993  1.061296   \n",
       "30%    5.781667  1.575382  1.092289  1.863757  1.626461  1.085029  1.061296   \n",
       "40%    5.781667  1.575382  1.096852  1.863757  1.626461  1.110066  1.061296   \n",
       "50%    5.781667  1.575382  1.101415  1.863757  1.626461  1.135103  1.061296   \n",
       "60%    5.781667  1.575382  1.105977  1.863757  1.626461  1.160140  1.061296   \n",
       "70%    5.781667  1.575382  1.110540  1.863757  1.626461  1.185177  1.061296   \n",
       "80%    5.781667  1.575382  1.115103  1.863757  1.626461  1.210213  1.061296   \n",
       "90%    5.781667  1.575382  1.119666  1.863757  1.626461  1.235250  1.061296   \n",
       "max    5.781667  1.575382  1.124229  1.863757  1.626461  1.260287  1.061296   \n",
       "\n",
       "                                    db2_subopt                                \\\n",
       "      18.0      20.0 overall subopt        5.0       7.0        8.0      9.0   \n",
       "count  1.0  2.000000      12.000000   1.000000  1.000000   2.000000  1.00000   \n",
       "mean   1.0  1.394690       1.680915   1.011482  1.962704   6.160443  3.74519   \n",
       "std    NaN  0.220476       1.321968        NaN       NaN   7.186811      NaN   \n",
       "min    1.0  1.238790       1.000000   1.011482  1.962704   1.078600  3.74519   \n",
       "0%     1.0  1.238790       1.000000   1.011482  1.962704   1.078600  3.74519   \n",
       "10%    1.0  1.269970       1.015057   1.011482  1.962704   2.094969  3.74519   \n",
       "20%    1.0  1.301150       1.064757   1.011482  1.962704   3.111337  3.74519   \n",
       "30%    1.0  1.332330       1.092289   1.011482  1.962704   4.127706  3.74519   \n",
       "40%    1.0  1.363510       1.170053   1.011482  1.962704   5.144074  3.74519   \n",
       "50%    1.0  1.394690       1.249539   1.011482  1.962704   6.160443  3.74519   \n",
       "60%    1.0  1.425870       1.434469   1.011482  1.962704   7.176812  3.74519   \n",
       "70%    1.0  1.457050       1.567944   1.011482  1.962704   8.193180  3.74519   \n",
       "80%    1.0  1.488230       1.616245   1.011482  1.962704   9.209549  3.74519   \n",
       "90%    1.0  1.519410       1.840027   1.011482  1.962704  10.225917  3.74519   \n",
       "max    1.0  1.550590       5.781667   1.011482  1.962704  11.242286  3.74519   \n",
       "\n",
       "                                                                   \n",
       "           10.0      11.0      14.0 18.0      20.0 overall subopt  \n",
       "count  1.000000  2.000000  1.000000  1.0  2.000000      12.000000  \n",
       "mean   1.018869  1.675327  1.419909  1.0  1.631877       2.424454  \n",
       "std         NaN  0.338386       NaN  NaN  0.114958       2.876864  \n",
       "min    1.018869  1.436051  1.419909  1.0  1.550590       1.000000  \n",
       "0%     1.018869  1.436051  1.419909  1.0  1.550590       1.000000  \n",
       "10%    1.018869  1.483906  1.419909  1.0  1.566847       1.012220  \n",
       "20%    1.018869  1.531761  1.419909  1.0  1.583105       1.030815  \n",
       "30%    1.018869  1.579616  1.419909  1.0  1.599362       1.180993  \n",
       "40%    1.018869  1.627472  1.419909  1.0  1.615620       1.426366  \n",
       "50%    1.018869  1.675327  1.419909  1.0  1.631877       1.493321  \n",
       "60%    1.018869  1.723182  1.419909  1.0  1.648135       1.648135  \n",
       "70%    1.018869  1.771037  1.419909  1.0  1.664392       1.854171  \n",
       "80%    1.018869  1.818892  1.419909  1.0  1.680650       1.953083  \n",
       "90%    1.018869  1.866747  1.419909  1.0  1.696907       3.566941  \n",
       "max    1.018869  1.914602  1.419909  1.0  1.713165      11.242286  "
      ]
     },
     "metadata": {},
     "output_type": "display_data"
    },
    {
     "data": {
      "image/png": "[encoded data removed]",
      "text/plain": [
       "<Figure size 1000x600 with 1 Axes>"
      ]
     },
     "metadata": {},
     "output_type": "display_data"
    },
    {
     "data": {
      "image/png": "[encoded data removed]",
      "text/plain": [
       "<Figure size 1000x600 with 1 Axes>"
      ]
     },
     "metadata": {},
     "output_type": "display_data"
    }
   ],
   "source": [
    "lero_qerror, _ = lcm_model_eval(\n",
    "    test_set, ypreds_test[:,0], \n",
    "    dataset_label = 'test_data', model_label = arch\n",
    "    ,load_from_disk=False, files_id = files_id,show_fig=False,\n",
    "    results_dir = results_dir\n",
    ")"
   ]
  },
  {
   "cell_type": "code",
   "execution_count": 466,
   "metadata": {},
   "outputs": [],
   "source": [
    "ypreds_test = ypreds_test[:,0].squeeze().numpy()\n",
    "if arch == 'lero':\n",
    "    ypreds_test*=-1\n",
    "targets = test_set.y.squeeze().numpy()"
   ]
  },
  {
   "cell_type": "code",
   "execution_count": 467,
   "metadata": {},
   "outputs": [
    {
     "name": "stdout",
     "output_type": "stream",
     "text": [
      "Spearman's Rank Correlation Coefficient: 0.879437029922222\n",
      "P-value: 1.6446379434378336e-51\n",
      "There is a significant correlation.\n"
     ]
    }
   ],
   "source": [
    "spearmanr_coef8, _ = compute_spearmanr(ypreds_test,targets)"
   ]
  },
  {
   "cell_type": "code",
   "execution_count": 468,
   "metadata": {},
   "outputs": [
    {
     "data": {
      "image/png": "[encoded data removed]",
      "text/plain": [
       "<Figure size 600x600 with 1 Axes>"
      ]
     },
     "metadata": {},
     "output_type": "display_data"
    }
   ],
   "source": [
    "from util.eval_util import plotxvsy\n",
    "\n",
    "plotxvsy(targets,ypreds_test, xl='latency', yl=f'{arch} prediction',scale='log')"
   ]
  },
  {
   "cell_type": "code",
   "execution_count": 469,
   "metadata": {},
   "outputs": [],
   "source": [
    "sprearmans_coef = []\n",
    "for id in test_qids:\n",
    "    query_msk = (np.array(test_set.query_id) == id)\n",
    "    temp, _ = compute_spearmanr(ypreds_test[query_msk],targets[query_msk], verbose=False)\n",
    "    sprearmans_coef.append(temp)"
   ]
  },
  {
   "cell_type": "code",
   "execution_count": 470,
   "metadata": {},
   "outputs": [
    {
     "data": {
      "text/plain": [
       "array([ 0.94549986,  0.33701786,  0.89235486,  0.51750732,  0.80518294,\n",
       "        0.76243385,  0.76966176,  0.8951478 ,  0.88353699,  0.75253662,\n",
       "       -0.7790085 ,  0.51862513])"
      ]
     },
     "execution_count": 470,
     "metadata": {},
     "output_type": "execute_result"
    }
   ],
   "source": [
    "np.array(sprearmans_coef)"
   ]
  },
  {
   "cell_type": "code",
   "execution_count": 471,
   "metadata": {},
   "outputs": [
    {
     "data": {
      "image/png": "[encoded data removed]",
      "text/plain": [
       "<Figure size 600x600 with 1 Axes>"
      ]
     },
     "metadata": {},
     "output_type": "display_data"
    }
   ],
   "source": [
    "query_msk = (np.array(test_set.query_id) == test_qids[8])\n",
    "plotxvsy(targets[query_msk],ypreds_test[query_msk], xl='latency', yl=f'{arch} prediction',scale='log')\n"
   ]
  },
  {
   "cell_type": "code",
   "execution_count": null,
   "metadata": {},
   "outputs": [],
   "source": []
  }
 ],
 "metadata": {
  "kernelspec": {
   "display_name": ".venv",
   "language": "python",
   "name": "python3"
  },
  "language_info": {
   "codemirror_mode": {
    "name": "ipython",
    "version": 3
   },
   "file_extension": ".py",
   "mimetype": "text/x-python",
   "name": "python",
   "nbconvert_exporter": "python",
   "pygments_lexer": "ipython3",
   "version": "3.10.11"
  }
 },
 "nbformat": 4,
 "nbformat_minor": 2
}
