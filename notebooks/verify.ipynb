{
 "cells": [
  {
   "cell_type": "code",
   "execution_count": 1,
   "metadata": {},
   "outputs": [
    {
     "name": "stderr",
     "output_type": "stream",
     "text": [
      "/database/config/db2inst1/.venv/lib/python3.10/site-packages/torch_geometric/typing.py:68: UserWarning: An issue occurred while importing 'pyg-lib'. Disabling its usage. Stacktrace: /usr/lib64/libm.so.6: version `GLIBC_2.29' not found (required by /database/config/db2inst1/.venv/lib/python3.10/site-packages/libpyg.so)\n",
      "  warnings.warn(f\"An issue occurred while importing 'pyg-lib'. \"\n",
      "/database/config/db2inst1/.venv/lib/python3.10/site-packages/torch_geometric/typing.py:86: UserWarning: An issue occurred while importing 'torch-scatter'. Disabling its usage. Stacktrace: /database/config/db2inst1/.venv/lib/python3.10/site-packages/torch_scatter/_version_cuda.so: undefined symbol: _ZN5torch3jit17parseSchemaOrNameERKSs\n",
      "  warnings.warn(f\"An issue occurred while importing 'torch-scatter'. \"\n",
      "/database/config/db2inst1/.venv/lib/python3.10/site-packages/torch_geometric/typing.py:97: UserWarning: An issue occurred while importing 'torch-cluster'. Disabling its usage. Stacktrace: /database/config/db2inst1/.venv/lib/python3.10/site-packages/torch_cluster/_version_cuda.so: undefined symbol: _ZN5torch3jit17parseSchemaOrNameERKSs\n",
      "  warnings.warn(f\"An issue occurred while importing 'torch-cluster'. \"\n",
      "/database/config/db2inst1/.venv/lib/python3.10/site-packages/torch_geometric/typing.py:113: UserWarning: An issue occurred while importing 'torch-spline-conv'. Disabling its usage. Stacktrace: /database/config/db2inst1/.venv/lib/python3.10/site-packages/torch_spline_conv/_version_cuda.so: undefined symbol: _ZN5torch3jit17parseSchemaOrNameERKSs\n",
      "  warnings.warn(\n",
      "/database/config/db2inst1/.venv/lib/python3.10/site-packages/torch_geometric/typing.py:124: UserWarning: An issue occurred while importing 'torch-sparse'. Disabling its usage. Stacktrace: /database/config/db2inst1/.venv/lib/python3.10/site-packages/torch_sparse/_version_cuda.so: undefined symbol: _ZN5torch3jit17parseSchemaOrNameERKSs\n",
      "  warnings.warn(f\"An issue occurred while importing 'torch-sparse'. \"\n"
     ]
    }
   ],
   "source": [
    "%load_ext autoreload\n",
    "%autoreload 2\n",
    "import os\n",
    "import sys\n",
    "module_path = os.path.abspath(os.path.join('..'))\n",
    "if module_path not in sys.path:\n",
    "    sys.path.append(module_path)\n",
    "\n",
    "import time\n",
    "import pickle\n",
    "import json\n",
    "import torch\n",
    "import numpy as np\n",
    "from pyg_data import queryPlanPGDataset_withbenchmark\n",
    "from util.util import set_seed, load_model_params\n",
    "from util.data_transform import *\n",
    "from util.custom_loss import aleatoric_loss, rmse_loss, bce_loss\n",
    "import pytorch_lightning as pl\n",
    "from lcm.roq_model import lcm_pl as roq_model\n",
    "from lcm.neo_bao_model import lcm_pl as neo_bao_model\n",
    "from lcm.lero_model import LeroModelPairwise as leroPairwise\n",
    "from lcm.balsa_model import balsa_simulation, balsa_model\n",
    "from sklearn.model_selection import KFold,train_test_split\n",
    "from single_test_lero import test\n",
    "from util.eval_util import *\n",
    "from torch_geometric.loader import DataLoader"
   ]
  },
  {
   "cell_type": "code",
   "execution_count": 2,
   "metadata": {},
   "outputs": [],
   "source": [
    "models_path = os.path.join('.','lightning_models')\n",
    "results_dir = os.path.join('.','results')"
   ]
  },
  {
   "cell_type": "code",
   "execution_count": 3,
   "metadata": {},
   "outputs": [],
   "source": [
    "arch = 'roq'\n",
    "experiment_id = 'job_v2.2'\n",
    "files_id = 'job_v2.2'\n",
    "benchmark_files_id = 'job_v2.2'\n",
    "labeled_data_dir = '../labeled_data/job/'\n",
    "max_epochs = 1000\n",
    "patience = 100\n",
    "num_workers = 10\n",
    "seed = 313\n",
    "reload_data = True\n",
    "target = 'latency' \n",
    "test_split = 'test'\n",
    "val_samples = 0.1\n",
    "test_samples = 0.1\n",
    "test_slow_samples = 0.5"
   ]
  },
  {
   "cell_type": "code",
   "execution_count": 4,
   "metadata": {},
   "outputs": [
    {
     "name": "stdout",
     "output_type": "stream",
     "text": [
      "Loading the data ... 100%\n",
      "long_running_queries 6\n",
      "test_long_run_qids 3\n",
      "remaining_test_samples 8\n",
      "92 queries and 2392 samples in training dataset: \n",
      "loading val\n",
      "11 queries and 286 samples in vlidation dataset: \n",
      "loading test\n",
      "10 queries and 260 samples in test dataset: \n"
     ]
    },
    {
     "name": "stderr",
     "output_type": "stream",
     "text": [
      "Done!\n"
     ]
    }
   ],
   "source": [
    "device = torch.device('cuda' if torch.cuda.is_available() else 'cpu')\n",
    "\n",
    "# sets seed for random, numpy, and torch cuda  \n",
    "set_seed(seed)\n",
    "\n",
    "torch.set_float32_matmul_precision('high')\n",
    "\n",
    "# Load train,v alidation, and test datasets\n",
    "print(\"loading train\")\n",
    "train_set = queryPlanPGDataset_withbenchmark(\n",
    "    split= 'train', files_id = files_id,\n",
    "    benchmark_files_id=benchmark_files_id,\n",
    "    labeled_data_dir=labeled_data_dir,  \n",
    "    force_reload=reload_data, seed = seed,\n",
    "    val_samples = val_samples, \n",
    "    test_samples = test_samples,\n",
    "    test_slow_samples = test_slow_samples,\n",
    "    exp_id=experiment_id\n",
    "    )\n",
    "print(\"{} queries and {} samples in training dataset: \".format(np.unique(np.array(train_set.query_id)).shape[0],train_set.len()))\n",
    "\n",
    "print(\"loading val\")\n",
    "val_set = queryPlanPGDataset_withbenchmark(\n",
    "    split= 'val', \n",
    "    files_id = files_id,\n",
    "    exp_id=experiment_id\n",
    "    )\n",
    "print(\"{} queries and {} samples in vlidation dataset: \".format(np.unique(np.array(val_set.query_id)).shape[0],val_set.len()))\n",
    "\n",
    "print(\"loading test\")\n",
    "test_set = queryPlanPGDataset_withbenchmark(\n",
    "    split= test_split, \n",
    "    files_id = files_id,\n",
    "    exp_id=experiment_id\n",
    "    )\n",
    "print(\"{} queries and {} samples in test dataset: \".format(np.unique(np.array(test_set.query_id)).shape[0],test_set.len()))"
   ]
  },
  {
   "cell_type": "code",
   "execution_count": null,
   "metadata": {},
   "outputs": [],
   "source": []
  },
  {
   "cell_type": "code",
   "execution_count": 5,
   "metadata": {},
   "outputs": [],
   "source": [
    "null_imp = nullImputation(train_set)\n",
    "train_set = null_imp(train_set)\n",
    "val_set = null_imp(val_set)\n",
    "test_set = null_imp(test_set)\n",
    "\n",
    "minmax_scale = minmaxScale(train_set)\n",
    "train_set = minmax_scale(train_set)\n",
    "val_set = minmax_scale(val_set)\n",
    "test_set = minmax_scale(test_set)\n",
    "\n",
    "# if arch != 'lero':\n",
    "# Perform data transformations on targets \n",
    "yTransFunc = target_log_transform(train_set, target = target)\n",
    "\n",
    "train_set = yTransFunc.transform(train_set)\n",
    "val_set = yTransFunc.transform(val_set)\n",
    "test_set = yTransFunc.transform(test_set)\n",
    "\n",
    "plan_attr_shape = train_set[0].plan_attr.shape\n",
    "plan_ord_shape = train_set[0].plan_ord.shape\n",
    "graph_attr_shape= train_set[0].graph_attr.shape\n",
    "edge_attr_shape = train_set[0].edge_attr_s.shape\n",
    "node_attr_shape = train_set[0].x_s.shape"
   ]
  },
  {
   "cell_type": "code",
   "execution_count": 6,
   "metadata": {},
   "outputs": [
    {
     "data": {
      "image/png": "[encoded data removed]",
      "text/plain": [
       "<Figure size 600x230 with 3 Axes>"
      ]
     },
     "metadata": {},
     "output_type": "display_data"
    }
   ],
   "source": [
    "# original target: train_set.y\n",
    "# transformed target: train_set.y_t\n",
    "# crate a histogram that displays the distribution of the original target and the transformed target side by side in two subplots and allows customization of figure size and title\n",
    "# the second histogram is fitted with a normal distribution bell curve\n",
    "\n",
    "import numpy as np\n",
    "import matplotlib.pyplot as plt\n",
    "import scipy.stats as stats\n",
    "\n",
    "fig, (ax1, ax2) = plt.subplots(1, 2, figsize=(6, 2.3))\n",
    "\n",
    "# First subplot remains unchanged\n",
    "ax1.hist(train_set.y, bins=50, alpha=0.5, label='Original Target')\n",
    "# ax1.set_title('Original Target')\n",
    "ax1.set_xlabel('Value')\n",
    "ax1.set_ylabel('Frequency')\n",
    "ax1.legend()\n",
    "\n",
    "# Second subplot: plot the frequency histogram on ax2 (left y-axis)\n",
    "ax2.hist(train_set.y_t, bins=50, alpha=0.5, label='Transformed Target', color='C0')\n",
    "# ax2.set_title('Transformed Target')\n",
    "ax2.set_xlabel('Value')\n",
    "ax2.set_ylabel('Frequency')\n",
    "\n",
    "# Create a twin axis for density (right y-axis)\n",
    "ax2_density = ax2.twinx()\n",
    "\n",
    "# Fit a normal distribution to the transformed data\n",
    "mu, std = train_set.y_t.mean(), train_set.y_t.std()\n",
    "xmin, xmax = ax2.get_xlim()\n",
    "x = np.linspace(xmin, xmax, 100)\n",
    "pdf = stats.norm.pdf(x, mu, std)\n",
    "\n",
    "# Plot the fitted normal density curve on the twin axis\n",
    "ax2_density.plot(x, pdf, 'r-', label='Fitted Normal')\n",
    "ax2_density.set_ylabel('Density')\n",
    "ax2_density.set_ylim(0,4)\n",
    "\n",
    "# Combine legends from both axes\n",
    "lines1, labels1 = ax2.get_legend_handles_labels()\n",
    "lines2, labels2 = ax2_density.get_legend_handles_labels()\n",
    "ax2.legend(lines1 + lines2, labels1 + labels2, loc='upper left')\n",
    "\n",
    "plt.tight_layout()\n",
    "plt.savefig('./plots/target_transformation.png',bbox_inches='tight',dpi=300)\n",
    "plt.show()\n",
    "\n"
   ]
  },
  {
   "cell_type": "code",
   "execution_count": 15,
   "metadata": {},
   "outputs": [
    {
     "name": "stdout",
     "output_type": "stream",
     "text": [
      "Shapiro–Wilk test statistic: 0.986, p-value: 0.000\n",
      "Interpretation (Shapiro–Wilk): p < 0.05, so we reject the null hypothesis of normality. The data does not follow a normal distribution.\n",
      "\n",
      "Lilliefors (K-S) test statistic: 0.040, p-value: 0.001\n",
      "Interpretation (Lilliefors): p < 0.05, so we reject the null hypothesis of normality. The data does not follow a normal distribution.\n",
      "\n",
      "Anderson–Darling test statistic: 8.602\n",
      "Critical values and significance levels:\n",
      "  At 15.0% significance, critical value: 0.575\n",
      "  At 10.0% significance, critical value: 0.655\n",
      "  At 5.0% significance, critical value: 0.786\n",
      "  At 2.5% significance, critical value: 0.916\n",
      "  At 1.0% significance, critical value: 1.090\n",
      "Interpretation (Anderson–Darling): The test statistic is greater than the 1% critical value, so we reject normality. The data does not follow a normal distribution.\n",
      "\n",
      "Jarque–Bera test statistic: 9.372, p-value: 0.009\n",
      "Interpretation (Jarque–Bera): p < 0.05, so we reject the null hypothesis of normality. The data does not follow a normal distribution.\n"
     ]
    },
    {
     "name": "stderr",
     "output_type": "stream",
     "text": [
      "/tmp/ipykernel_26907/1054858543.py:8: DeprecationWarning: __array__ implementation doesn't accept a copy keyword, so passing copy=False failed. __array__ must implement 'dtype' and 'copy' keyword arguments. To learn more, see the migration guide https://numpy.org/devdocs/numpy_2_0_migration_guide.html#adapting-to-changes-in-the-copy-keyword\n",
      "  x = np.array(train_set.y_t)\n"
     ]
    },
    {
     "data": {
      "image/png": "[encoded data removed]",
      "text/plain": [
       "<Figure size 600x400 with 1 Axes>"
      ]
     },
     "metadata": {},
     "output_type": "display_data"
    }
   ],
   "source": [
    "import pandas as pd\n",
    "import matplotlib.pyplot as plt\n",
    "import numpy as np\n",
    "from scipy import stats\n",
    "from statsmodels.stats.diagnostic import lilliefors\n",
    "\n",
    "# Read the dataset (update filename and column name as needed)\n",
    "x = np.array(train_set.y_t)\n",
    "\n",
    "# 1. Shapiro–Wilk Test\n",
    "stat_shapiro, p_shapiro = stats.shapiro(x)\n",
    "print(f\"Shapiro–Wilk test statistic: {stat_shapiro:.3f}, p-value: {p_shapiro:.3f}\")\n",
    "if p_shapiro < 0.05:\n",
    "    print(\"Interpretation (Shapiro–Wilk): p < 0.05, so we reject the null hypothesis of normality. The data does not follow a normal distribution.\")\n",
    "else:\n",
    "    print(\"Interpretation (Shapiro–Wilk): p ≥ 0.05, so we cannot reject the null hypothesis. The data may be normally distributed.\")\n",
    "\n",
    "# 2. Lilliefors Test (a version of the K-S test adjusted for estimated parameters)\n",
    "stat_lilliefors, p_lilliefors = lilliefors(x)\n",
    "print(f\"\\nLilliefors (K-S) test statistic: {stat_lilliefors:.3f}, p-value: {p_lilliefors:.3f}\")\n",
    "if p_lilliefors < 0.05:\n",
    "    print(\"Interpretation (Lilliefors): p < 0.05, so we reject the null hypothesis of normality. The data does not follow a normal distribution.\")\n",
    "else:\n",
    "    print(\"Interpretation (Lilliefors): p ≥ 0.05, so we cannot reject the null hypothesis. The data may be normally distributed.\")\n",
    "\n",
    "# 3. Anderson–Darling Test\n",
    "result_ad = stats.anderson(x, dist='norm')\n",
    "print(f\"\\nAnderson–Darling test statistic: {result_ad.statistic:.3f}\")\n",
    "print(\"Critical values and significance levels:\")\n",
    "for cv, sig in zip(result_ad.critical_values, result_ad.significance_level):\n",
    "    print(f\"  At {sig}% significance, critical value: {cv:.3f}\")\n",
    "\n",
    "# For Anderson–Darling, if the test statistic is larger than the critical value at a given significance level, the null hypothesis of normality is rejected.\n",
    "# Here we compare against the lowest significance level (most strict), which is 1.0% (critical value 1.090 in your output).\n",
    "if result_ad.statistic > result_ad.critical_values[-1]:\n",
    "    print(\"Interpretation (Anderson–Darling): The test statistic is greater than the 1% critical value, so we reject normality. The data does not follow a normal distribution.\")\n",
    "else:\n",
    "    print(\"Interpretation (Anderson–Darling): The test statistic is not greater than the 1% critical value, so we cannot reject normality.\")\n",
    "\n",
    "# 4. Jarque–Bera Test\n",
    "stat_jb, p_jb = stats.jarque_bera(x)\n",
    "print(f\"\\nJarque–Bera test statistic: {stat_jb:.3f}, p-value: {p_jb:.3f}\")\n",
    "if p_jb < 0.05:\n",
    "    print(\"Interpretation (Jarque–Bera): p < 0.05, so we reject the null hypothesis of normality. The data does not follow a normal distribution.\")\n",
    "else:\n",
    "    print(\"Interpretation (Jarque–Bera): p ≥ 0.05, so we cannot reject the null hypothesis. The data may be normally distributed.\")\n",
    "\n",
    "# Q-Q Plot for visual assessment\n",
    "plt.figure(figsize=(6, 4))\n",
    "stats.probplot(x, dist=\"norm\", plot=plt)\n",
    "plt.title(\"Q-Q Plot for Normality\")\n",
    "plt.xlabel(\"Theoretical Quantiles\")\n",
    "plt.ylabel(\"Ordered Values\")\n",
    "plt.show()"
   ]
  },
  {
   "cell_type": "code",
   "execution_count": 7,
   "metadata": {},
   "outputs": [
    {
     "name": "stdout",
     "output_type": "stream",
     "text": [
      "experiment: job_v2.2\n",
      "Architecture: roq\n",
      "loaded model params from model_params_job.cfg for model roq\n"
     ]
    }
   ],
   "source": [
    "print('experiment:',experiment_id)\n",
    "print(\"Architecture:\",arch)\n",
    "\n",
    "# load model hyper-parameters\n",
    "for benchmark in ['ceb','dsb','job']:\n",
    "    if benchmark in experiment_id:\n",
    "        config = load_model_params(arch, config_dir='../config',config_file='model_params_{}.cfg'.format(benchmark))\n",
    "        print(f\"loaded model params from model_params_{benchmark}.cfg for model {arch}\")\n",
    "        break\n",
    "pretrain = config.pop('pretrain',True)\n",
    "max_epochs = config.pop('max_epochs',max_epochs)\n",
    "patience = config.pop('patience',patience)\n",
    "min_delta = config.pop('min_delta',0.001)\n",
    "batch_size= config['batch_size']\n"
   ]
  },
  {
   "cell_type": "code",
   "execution_count": 8,
   "metadata": {},
   "outputs": [
    {
     "name": "stderr",
     "output_type": "stream",
     "text": [
      "/database/config/db2inst1/.venv/lib/python3.10/site-packages/torchmetrics/utilities/prints.py:43: UserWarning: Metric `SpearmanCorrcoef` will save all targets and predictions in the buffer. For large datasets, this may lead to large memory footprint.\n",
      "  warnings.warn(*args, **kwargs)  # noqa: B028\n"
     ]
    }
   ],
   "source": [
    "loss = rmse_loss()\n",
    "\n",
    "if arch == 'lero':\n",
    "    loss = bce_loss()\n",
    "    model = leroPairwise(\n",
    "        num_node = node_attr_shape[0], \n",
    "        numPlanFeat=plan_attr_shape,\n",
    "        numPlanOrdFeat=plan_ord_shape,\n",
    "        numQueryGraphFeat = graph_attr_shape[0],\n",
    "        device = device, \n",
    "        criterion = loss,\n",
    "        **config\n",
    "    )\n",
    "if arch == 'balsa':\n",
    "    model = balsa_simulation(\n",
    "        num_node = node_attr_shape[0], \n",
    "        node_dim = node_attr_shape[1],\n",
    "        edge_dim = edge_attr_shape[1],#fill_value =0, \n",
    "        numPlanFeat=plan_attr_shape,\n",
    "        numPlanOrdFeat=plan_ord_shape,\n",
    "        numQueryGraphFeat = graph_attr_shape[0],\n",
    "        device = device, \n",
    "        criterion = loss,\n",
    "        **config\n",
    "        )\n",
    "\n",
    "if arch == 'neo':\n",
    "    model = neo_bao_model(\n",
    "        num_node = node_attr_shape[0], \n",
    "        node_dim = node_attr_shape[1],\n",
    "        edge_dim = edge_attr_shape[1],#fill_value =0, \n",
    "        numPlanFeat=plan_attr_shape,\n",
    "        numPlanOrdFeat=plan_ord_shape,\n",
    "        numQueryGraphFeat = graph_attr_shape[0],\n",
    "        device = device, \n",
    "        criterion = loss,\n",
    "        architecture = 'neo',\n",
    "        **config\n",
    "        )\n",
    "if arch == 'bao':\n",
    "    model = neo_bao_model(\n",
    "        num_node = node_attr_shape[0], \n",
    "        node_dim = node_attr_shape[1],\n",
    "        edge_dim = edge_attr_shape[1],#fill_value =0, \n",
    "        numPlanFeat=plan_attr_shape,\n",
    "        numPlanOrdFeat=plan_ord_shape,\n",
    "        numQueryGraphFeat = graph_attr_shape[0],\n",
    "        device = device, \n",
    "        criterion = loss,\n",
    "        architecture = 'bao',\n",
    "        **config\n",
    "        )\n",
    "if 'roq' in arch:\n",
    "    loss = aleatoric_loss(device=device)\n",
    "    model = roq_model(\n",
    "        num_node = node_attr_shape[0], \n",
    "        node_dim = node_attr_shape[1],\n",
    "        edge_dim = edge_attr_shape[1],#fill_value =0, \n",
    "        numPlanFeat=plan_attr_shape,\n",
    "        numPlanOrdFeat=plan_ord_shape,\n",
    "        numQueryGraphFeat = graph_attr_shape[0],\n",
    "        with_var = True, device = device, \n",
    "        criterion = loss,\n",
    "        **config\n",
    "        )"
   ]
  },
  {
   "cell_type": "code",
   "execution_count": 9,
   "metadata": {},
   "outputs": [],
   "source": [
    "follow_batch = ['x_s']\n",
    "\n",
    "train_loader = DataLoader(\n",
    "    train_set, batch_size=batch_size,\n",
    "    persistent_workers=True,\n",
    "    shuffle=False, num_workers=num_workers, follow_batch=follow_batch\n",
    ")\n",
    "val_loader = DataLoader(\n",
    "    val_set, batch_size=batch_size,\n",
    "    persistent_workers=True,\n",
    "    shuffle=False, num_workers=num_workers, follow_batch=follow_batch\n",
    ")\n",
    "test_loader = DataLoader(\n",
    "    test_set, batch_size=batch_size,\n",
    "    shuffle=False, num_workers=num_workers, follow_batch=follow_batch,\n",
    "    persistent_workers=True\n",
    ")"
   ]
  },
  {
   "cell_type": "code",
   "execution_count": 10,
   "metadata": {},
   "outputs": [
    {
     "name": "stdout",
     "output_type": "stream",
     "text": [
      "model_name: roq_job_v2.2_lr0.00075_bs64_0kq_374\n"
     ]
    }
   ],
   "source": [
    "num_params = sum([np.prod(p.size()) for p in  model.parameters()])\n",
    "num_params = str(int(num_params/1000))\n",
    "num_q = str(round(np.unique(np.array(train_set.query_id)).shape[0]/1000))\n",
    "lr = str(model.lr)[:8]\n",
    "bs = str(model.batch_size)\n",
    "# do = str(model.dropout)[:5]\n",
    "model_name = f'{arch}_{experiment_id}_lr{lr}_bs{bs}_{num_q}kq_{num_params}'\n",
    "print(\"model_name:\",model_name)\n",
    "es = pl.callbacks.EarlyStopping(monitor='val_loss',patience=patience, min_delta=min_delta, verbose=True)\n",
    "\n",
    "logger = pl.loggers.TensorBoardLogger('../lightning_logs', name = model_name)\n",
    "\n",
    "checkpointing = pl.callbacks.ModelCheckpoint(\n",
    "    dirpath=models_path,\n",
    "    monitor='val_loss',\n",
    "    save_top_k = 1,\n",
    "    filename=model_name+'{epoch}-{step}-{val_loss:.2f}',\n",
    "    verbose=True\n",
    ")"
   ]
  },
  {
   "cell_type": "code",
   "execution_count": 11,
   "metadata": {},
   "outputs": [],
   "source": [
    "if arch == 'balsa':\n",
    "    if pretrain == True:\n",
    "        pt_es = pl.callbacks.EarlyStopping(monitor='val_loss',patience=2,min_delta=min_delta, verbose=True)\n",
    "        pretrainer = pl.Trainer(\n",
    "            max_epochs=5,accelerator='gpu',\n",
    "            devices=1,\n",
    "            callbacks = [pt_es,checkpointing],\n",
    "            logger=logger,\n",
    "            log_every_n_steps=10\n",
    "            )\n",
    "        pretrainer.fit(model,train_loader,val_loader)\n",
    "        print('Pretraining done. loading best model...')\n",
    "        model = balsa_simulation.load_from_checkpoint(\n",
    "            checkpointing.best_model_path,\n",
    "            num_node = node_attr_shape[0], \n",
    "            node_dim = node_attr_shape[1],\n",
    "            edge_dim = edge_attr_shape[1],#fill_value =0, \n",
    "            numPlanFeat=plan_attr_shape,\n",
    "            numPlanOrdFeat=plan_ord_shape,\n",
    "            numQueryGraphFeat = graph_attr_shape[0],\n",
    "            device = device, \n",
    "            criterion = loss,\n",
    "            **config\n",
    "            ).balsa_model"
   ]
  },
  {
   "cell_type": "code",
   "execution_count": 12,
   "metadata": {},
   "outputs": [
    {
     "name": "stderr",
     "output_type": "stream",
     "text": [
      "GPU available: True (cuda), used: True\n",
      "TPU available: False, using: 0 TPU cores\n",
      "HPU available: False, using: 0 HPUs\n"
     ]
    }
   ],
   "source": [
    "trainer = pl.Trainer(\n",
    "    max_epochs=max_epochs,accelerator='gpu',\n",
    "    devices=1, \n",
    "    callbacks = [es, checkpointing], \n",
    "    logger=logger, \n",
    "    log_every_n_steps=10\n",
    ")"
   ]
  },
  {
   "cell_type": "code",
   "execution_count": 13,
   "metadata": {},
   "outputs": [
    {
     "name": "stderr",
     "output_type": "stream",
     "text": [
      "/database/config/db2inst1/.venv/lib/python3.10/site-packages/pytorch_lightning/callbacks/model_checkpoint.py:654: Checkpoint directory /database/config/db2inst1/robust_plan_eval/notebooks/lightning_models exists and is not empty.\n",
      "LOCAL_RANK: 0 - CUDA_VISIBLE_DEVICES: [0]\n",
      "\n",
      "  | Name             | Type             | Params | Mode \n",
      "--------------------------------------------------------------\n",
      "0 | criterion        | aleatoric_loss   | 0      | train\n",
      "1 | spearmans_corr   | SpearmanCorrCoef | 0      | train\n",
      "2 | qerror           | qErrorLossClass  | 0      | train\n",
      "3 | qp_gnn_layers    | ModuleList       | 171 K  | train\n",
      "4 | lin_low_node_emb | Linear           | 528    | train\n",
      "5 | guidelineTCNN    | Sequential       | 166 K  | train\n",
      "6 | finalMLP         | Sequential       | 35.5 K | train\n",
      "7 | mean_layer       | Sequential       | 33     | train\n",
      "8 | std_layer        | Sequential       | 33     | train\n",
      "--------------------------------------------------------------\n",
      "374 K     Trainable params\n",
      "0         Non-trainable params\n",
      "374 K     Total params\n",
      "1.496     Total estimated model params size (MB)\n",
      "75        Modules in train mode\n",
      "0         Modules in eval mode\n"
     ]
    },
    {
     "name": "stdout",
     "output_type": "stream",
     "text": [
      "Epoch 0:   3%|▎         | 1/38 [00:00<00:14,  2.63it/s, v_num=0]           "
     ]
    },
    {
     "name": "stderr",
     "output_type": "stream",
     "text": [
      "/database/config/db2inst1/.venv/lib/python3.10/site-packages/torch_geometric/warnings.py:11: UserWarning: The usage of `scatter(reduce='max')` can be accelerated via the 'torch-scatter' package, but it was not found\n",
      "  warnings.warn(message)\n"
     ]
    },
    {
     "name": "stdout",
     "output_type": "stream",
     "text": [
      "Epoch 0: 100%|██████████| 38/38 [00:02<00:00, 18.75it/s, v_num=0]"
     ]
    },
    {
     "name": "stderr",
     "output_type": "stream",
     "text": [
      "Metric val_loss improved. New best score: 0.666\n",
      "Epoch 0, global step 38: 'val_loss' reached 0.66597 (best 0.66597), saving model to '/database/config/db2inst1/robust_plan_eval/notebooks/lightning_models/roq_job_v2.2_lr0.00075_bs64_0kq_374epoch=0-step=38-val_loss=0.67.ckpt' as top 1\n"
     ]
    },
    {
     "name": "stdout",
     "output_type": "stream",
     "text": [
      "Epoch 1: 100%|██████████| 38/38 [00:01<00:00, 23.28it/s, v_num=0]"
     ]
    },
    {
     "name": "stderr",
     "output_type": "stream",
     "text": [
      "Metric val_loss improved by 0.410 >= min_delta = 0.0. New best score: 0.256\n",
      "Epoch 1, global step 76: 'val_loss' reached 0.25590 (best 0.25590), saving model to '/database/config/db2inst1/robust_plan_eval/notebooks/lightning_models/roq_job_v2.2_lr0.00075_bs64_0kq_374epoch=1-step=76-val_loss=0.26.ckpt' as top 1\n"
     ]
    },
    {
     "name": "stdout",
     "output_type": "stream",
     "text": [
      "Epoch 2: 100%|██████████| 38/38 [00:01<00:00, 22.11it/s, v_num=0]"
     ]
    },
    {
     "name": "stderr",
     "output_type": "stream",
     "text": [
      "Epoch 2, global step 114: 'val_loss' was not in top 1\n"
     ]
    },
    {
     "name": "stdout",
     "output_type": "stream",
     "text": [
      "Epoch 3: 100%|██████████| 38/38 [00:02<00:00, 18.87it/s, v_num=0]"
     ]
    },
    {
     "name": "stderr",
     "output_type": "stream",
     "text": [
      "Metric val_loss improved by 0.047 >= min_delta = 0.0. New best score: 0.209\n",
      "Epoch 3, global step 152: 'val_loss' reached 0.20858 (best 0.20858), saving model to '/database/config/db2inst1/robust_plan_eval/notebooks/lightning_models/roq_job_v2.2_lr0.00075_bs64_0kq_374epoch=3-step=152-val_loss=0.21.ckpt' as top 1\n"
     ]
    },
    {
     "name": "stdout",
     "output_type": "stream",
     "text": [
      "Epoch 4: 100%|██████████| 38/38 [00:01<00:00, 20.17it/s, v_num=0]"
     ]
    },
    {
     "name": "stderr",
     "output_type": "stream",
     "text": [
      "Metric val_loss improved by 0.109 >= min_delta = 0.0. New best score: 0.099\n",
      "Epoch 4, global step 190: 'val_loss' reached 0.09935 (best 0.09935), saving model to '/database/config/db2inst1/robust_plan_eval/notebooks/lightning_models/roq_job_v2.2_lr0.00075_bs64_0kq_374epoch=4-step=190-val_loss=0.10.ckpt' as top 1\n"
     ]
    },
    {
     "name": "stdout",
     "output_type": "stream",
     "text": [
      "Epoch 5: 100%|██████████| 38/38 [00:01<00:00, 19.91it/s, v_num=0]"
     ]
    },
    {
     "name": "stderr",
     "output_type": "stream",
     "text": [
      "Metric val_loss improved by 0.030 >= min_delta = 0.0. New best score: 0.070\n",
      "Epoch 5, global step 228: 'val_loss' reached 0.06950 (best 0.06950), saving model to '/database/config/db2inst1/robust_plan_eval/notebooks/lightning_models/roq_job_v2.2_lr0.00075_bs64_0kq_374epoch=5-step=228-val_loss=0.07.ckpt' as top 1\n"
     ]
    },
    {
     "name": "stdout",
     "output_type": "stream",
     "text": [
      "Epoch 6: 100%|██████████| 38/38 [00:02<00:00, 18.67it/s, v_num=0]"
     ]
    },
    {
     "name": "stderr",
     "output_type": "stream",
     "text": [
      "Metric val_loss improved by 0.124 >= min_delta = 0.0. New best score: -0.054\n",
      "Epoch 6, global step 266: 'val_loss' reached -0.05404 (best -0.05404), saving model to '/database/config/db2inst1/robust_plan_eval/notebooks/lightning_models/roq_job_v2.2_lr0.00075_bs64_0kq_374epoch=6-step=266-val_loss=-0.05.ckpt' as top 1\n"
     ]
    },
    {
     "name": "stdout",
     "output_type": "stream",
     "text": [
      "Epoch 7: 100%|██████████| 38/38 [00:02<00:00, 17.91it/s, v_num=0]"
     ]
    },
    {
     "name": "stderr",
     "output_type": "stream",
     "text": [
      "Epoch 7, global step 304: 'val_loss' was not in top 1\n"
     ]
    },
    {
     "name": "stdout",
     "output_type": "stream",
     "text": [
      "Epoch 8: 100%|██████████| 38/38 [00:02<00:00, 18.73it/s, v_num=0]"
     ]
    },
    {
     "name": "stderr",
     "output_type": "stream",
     "text": [
      "Metric val_loss improved by 0.084 >= min_delta = 0.0. New best score: -0.138\n",
      "Epoch 8, global step 342: 'val_loss' reached -0.13845 (best -0.13845), saving model to '/database/config/db2inst1/robust_plan_eval/notebooks/lightning_models/roq_job_v2.2_lr0.00075_bs64_0kq_374epoch=8-step=342-val_loss=-0.14.ckpt' as top 1\n"
     ]
    },
    {
     "name": "stdout",
     "output_type": "stream",
     "text": [
      "Epoch 9: 100%|██████████| 38/38 [00:01<00:00, 19.05it/s, v_num=0]"
     ]
    },
    {
     "name": "stderr",
     "output_type": "stream",
     "text": [
      "Metric val_loss improved by 0.137 >= min_delta = 0.0. New best score: -0.276\n",
      "Epoch 9, global step 380: 'val_loss' reached -0.27551 (best -0.27551), saving model to '/database/config/db2inst1/robust_plan_eval/notebooks/lightning_models/roq_job_v2.2_lr0.00075_bs64_0kq_374epoch=9-step=380-val_loss=-0.28.ckpt' as top 1\n"
     ]
    },
    {
     "name": "stdout",
     "output_type": "stream",
     "text": [
      "Epoch 10: 100%|██████████| 38/38 [00:02<00:00, 18.50it/s, v_num=0]"
     ]
    },
    {
     "name": "stderr",
     "output_type": "stream",
     "text": [
      "Epoch 10, global step 418: 'val_loss' was not in top 1\n"
     ]
    },
    {
     "name": "stdout",
     "output_type": "stream",
     "text": [
      "Epoch 11: 100%|██████████| 38/38 [00:02<00:00, 18.52it/s, v_num=0]"
     ]
    },
    {
     "name": "stderr",
     "output_type": "stream",
     "text": [
      "Metric val_loss improved by 0.026 >= min_delta = 0.0. New best score: -0.302\n",
      "Epoch 11, global step 456: 'val_loss' reached -0.30150 (best -0.30150), saving model to '/database/config/db2inst1/robust_plan_eval/notebooks/lightning_models/roq_job_v2.2_lr0.00075_bs64_0kq_374epoch=11-step=456-val_loss=-0.30.ckpt' as top 1\n"
     ]
    },
    {
     "name": "stdout",
     "output_type": "stream",
     "text": [
      "Epoch 12: 100%|██████████| 38/38 [00:02<00:00, 17.46it/s, v_num=0]"
     ]
    },
    {
     "name": "stderr",
     "output_type": "stream",
     "text": [
      "Metric val_loss improved by 0.259 >= min_delta = 0.0. New best score: -0.561\n",
      "Epoch 12, global step 494: 'val_loss' reached -0.56064 (best -0.56064), saving model to '/database/config/db2inst1/robust_plan_eval/notebooks/lightning_models/roq_job_v2.2_lr0.00075_bs64_0kq_374epoch=12-step=494-val_loss=-0.56.ckpt' as top 1\n"
     ]
    },
    {
     "name": "stdout",
     "output_type": "stream",
     "text": [
      "Epoch 13: 100%|██████████| 38/38 [00:02<00:00, 17.25it/s, v_num=0]"
     ]
    },
    {
     "name": "stderr",
     "output_type": "stream",
     "text": [
      "Metric val_loss improved by 0.025 >= min_delta = 0.0. New best score: -0.586\n",
      "Epoch 13, global step 532: 'val_loss' reached -0.58574 (best -0.58574), saving model to '/database/config/db2inst1/robust_plan_eval/notebooks/lightning_models/roq_job_v2.2_lr0.00075_bs64_0kq_374epoch=13-step=532-val_loss=-0.59.ckpt' as top 1\n"
     ]
    },
    {
     "name": "stdout",
     "output_type": "stream",
     "text": [
      "Epoch 14: 100%|██████████| 38/38 [00:02<00:00, 16.81it/s, v_num=0]"
     ]
    },
    {
     "name": "stderr",
     "output_type": "stream",
     "text": [
      "Epoch 14, global step 570: 'val_loss' was not in top 1\n"
     ]
    },
    {
     "name": "stdout",
     "output_type": "stream",
     "text": [
      "Epoch 15: 100%|██████████| 38/38 [00:02<00:00, 16.37it/s, v_num=0]"
     ]
    },
    {
     "name": "stderr",
     "output_type": "stream",
     "text": [
      "Epoch 15, global step 608: 'val_loss' was not in top 1\n"
     ]
    },
    {
     "name": "stdout",
     "output_type": "stream",
     "text": [
      "Epoch 16: 100%|██████████| 38/38 [00:02<00:00, 16.62it/s, v_num=0]"
     ]
    },
    {
     "name": "stderr",
     "output_type": "stream",
     "text": [
      "Epoch 16, global step 646: 'val_loss' was not in top 1\n"
     ]
    },
    {
     "name": "stdout",
     "output_type": "stream",
     "text": [
      "Epoch 17: 100%|██████████| 38/38 [00:02<00:00, 13.93it/s, v_num=0]"
     ]
    },
    {
     "name": "stderr",
     "output_type": "stream",
     "text": [
      "Epoch 17, global step 684: 'val_loss' was not in top 1\n"
     ]
    },
    {
     "name": "stdout",
     "output_type": "stream",
     "text": [
      "Epoch 18: 100%|██████████| 38/38 [00:02<00:00, 15.95it/s, v_num=0]"
     ]
    },
    {
     "name": "stderr",
     "output_type": "stream",
     "text": [
      "Epoch 18, global step 722: 'val_loss' was not in top 1\n"
     ]
    },
    {
     "name": "stdout",
     "output_type": "stream",
     "text": [
      "Epoch 19: 100%|██████████| 38/38 [00:02<00:00, 15.73it/s, v_num=0]"
     ]
    },
    {
     "name": "stderr",
     "output_type": "stream",
     "text": [
      "Epoch 19, global step 760: 'val_loss' was not in top 1\n"
     ]
    },
    {
     "name": "stdout",
     "output_type": "stream",
     "text": [
      "Epoch 20: 100%|██████████| 38/38 [00:02<00:00, 15.35it/s, v_num=0]"
     ]
    },
    {
     "name": "stderr",
     "output_type": "stream",
     "text": [
      "Epoch 20, global step 798: 'val_loss' was not in top 1\n"
     ]
    },
    {
     "name": "stdout",
     "output_type": "stream",
     "text": [
      "Epoch 21: 100%|██████████| 38/38 [00:02<00:00, 14.44it/s, v_num=0]"
     ]
    },
    {
     "name": "stderr",
     "output_type": "stream",
     "text": [
      "Epoch 21, global step 836: 'val_loss' was not in top 1\n"
     ]
    },
    {
     "name": "stdout",
     "output_type": "stream",
     "text": [
      "Epoch 22: 100%|██████████| 38/38 [00:02<00:00, 14.29it/s, v_num=0]"
     ]
    },
    {
     "name": "stderr",
     "output_type": "stream",
     "text": [
      "Epoch 22, global step 874: 'val_loss' was not in top 1\n"
     ]
    },
    {
     "name": "stdout",
     "output_type": "stream",
     "text": [
      "Epoch 23: 100%|██████████| 38/38 [00:02<00:00, 14.44it/s, v_num=0]"
     ]
    },
    {
     "name": "stderr",
     "output_type": "stream",
     "text": [
      "Epoch 23, global step 912: 'val_loss' was not in top 1\n"
     ]
    },
    {
     "name": "stdout",
     "output_type": "stream",
     "text": [
      "Epoch 24: 100%|██████████| 38/38 [00:02<00:00, 14.35it/s, v_num=0]"
     ]
    },
    {
     "name": "stderr",
     "output_type": "stream",
     "text": [
      "Epoch 24, global step 950: 'val_loss' was not in top 1\n"
     ]
    },
    {
     "name": "stdout",
     "output_type": "stream",
     "text": [
      "Epoch 25: 100%|██████████| 38/38 [00:02<00:00, 13.36it/s, v_num=0]"
     ]
    },
    {
     "name": "stderr",
     "output_type": "stream",
     "text": [
      "Epoch 25, global step 988: 'val_loss' was not in top 1\n"
     ]
    },
    {
     "name": "stdout",
     "output_type": "stream",
     "text": [
      "Epoch 26: 100%|██████████| 38/38 [00:02<00:00, 14.03it/s, v_num=0]"
     ]
    },
    {
     "name": "stderr",
     "output_type": "stream",
     "text": [
      "Epoch 26, global step 1026: 'val_loss' was not in top 1\n"
     ]
    },
    {
     "name": "stdout",
     "output_type": "stream",
     "text": [
      "Epoch 27: 100%|██████████| 38/38 [00:02<00:00, 13.82it/s, v_num=0]"
     ]
    },
    {
     "name": "stderr",
     "output_type": "stream",
     "text": [
      "Epoch 27, global step 1064: 'val_loss' was not in top 1\n"
     ]
    },
    {
     "name": "stdout",
     "output_type": "stream",
     "text": [
      "Epoch 28: 100%|██████████| 38/38 [00:03<00:00, 12.20it/s, v_num=0]"
     ]
    },
    {
     "name": "stderr",
     "output_type": "stream",
     "text": [
      "Epoch 28, global step 1102: 'val_loss' was not in top 1\n"
     ]
    },
    {
     "name": "stdout",
     "output_type": "stream",
     "text": [
      "Epoch 29: 100%|██████████| 38/38 [00:02<00:00, 13.24it/s, v_num=0]"
     ]
    },
    {
     "name": "stderr",
     "output_type": "stream",
     "text": [
      "Epoch 29, global step 1140: 'val_loss' was not in top 1\n"
     ]
    },
    {
     "name": "stdout",
     "output_type": "stream",
     "text": [
      "Epoch 30: 100%|██████████| 38/38 [00:03<00:00, 12.33it/s, v_num=0]"
     ]
    },
    {
     "name": "stderr",
     "output_type": "stream",
     "text": [
      "Epoch 30, global step 1178: 'val_loss' was not in top 1\n"
     ]
    },
    {
     "name": "stdout",
     "output_type": "stream",
     "text": [
      "Epoch 31: 100%|██████████| 38/38 [00:03<00:00, 12.10it/s, v_num=0]"
     ]
    },
    {
     "name": "stderr",
     "output_type": "stream",
     "text": [
      "Epoch 31, global step 1216: 'val_loss' was not in top 1\n"
     ]
    },
    {
     "name": "stdout",
     "output_type": "stream",
     "text": [
      "Epoch 32: 100%|██████████| 38/38 [00:03<00:00, 11.98it/s, v_num=0]"
     ]
    },
    {
     "name": "stderr",
     "output_type": "stream",
     "text": [
      "Metric val_loss improved by 0.029 >= min_delta = 0.0. New best score: -0.615\n",
      "Epoch 32, global step 1254: 'val_loss' reached -0.61509 (best -0.61509), saving model to '/database/config/db2inst1/robust_plan_eval/notebooks/lightning_models/roq_job_v2.2_lr0.00075_bs64_0kq_374epoch=32-step=1254-val_loss=-0.62.ckpt' as top 1\n"
     ]
    },
    {
     "name": "stdout",
     "output_type": "stream",
     "text": [
      "Epoch 33: 100%|██████████| 38/38 [00:03<00:00, 12.47it/s, v_num=0]"
     ]
    },
    {
     "name": "stderr",
     "output_type": "stream",
     "text": [
      "Metric val_loss improved by 0.007 >= min_delta = 0.0. New best score: -0.622\n",
      "Epoch 33, global step 1292: 'val_loss' reached -0.62160 (best -0.62160), saving model to '/database/config/db2inst1/robust_plan_eval/notebooks/lightning_models/roq_job_v2.2_lr0.00075_bs64_0kq_374epoch=33-step=1292-val_loss=-0.62.ckpt' as top 1\n"
     ]
    },
    {
     "name": "stdout",
     "output_type": "stream",
     "text": [
      "Epoch 34: 100%|██████████| 38/38 [00:03<00:00, 11.45it/s, v_num=0]"
     ]
    },
    {
     "name": "stderr",
     "output_type": "stream",
     "text": [
      "Epoch 34, global step 1330: 'val_loss' was not in top 1\n"
     ]
    },
    {
     "name": "stdout",
     "output_type": "stream",
     "text": [
      "Epoch 35: 100%|██████████| 38/38 [00:03<00:00, 11.85it/s, v_num=0]"
     ]
    },
    {
     "name": "stderr",
     "output_type": "stream",
     "text": [
      "Epoch 35, global step 1368: 'val_loss' was not in top 1\n"
     ]
    },
    {
     "name": "stdout",
     "output_type": "stream",
     "text": [
      "Epoch 36: 100%|██████████| 38/38 [00:03<00:00, 11.50it/s, v_num=0]"
     ]
    },
    {
     "name": "stderr",
     "output_type": "stream",
     "text": [
      "Epoch 36, global step 1406: 'val_loss' was not in top 1\n"
     ]
    },
    {
     "name": "stdout",
     "output_type": "stream",
     "text": [
      "Epoch 37: 100%|██████████| 38/38 [00:03<00:00, 11.90it/s, v_num=0]"
     ]
    },
    {
     "name": "stderr",
     "output_type": "stream",
     "text": [
      "Epoch 37, global step 1444: 'val_loss' was not in top 1\n"
     ]
    },
    {
     "name": "stdout",
     "output_type": "stream",
     "text": [
      "Epoch 38: 100%|██████████| 38/38 [00:03<00:00, 10.55it/s, v_num=0]"
     ]
    },
    {
     "name": "stderr",
     "output_type": "stream",
     "text": [
      "Epoch 38, global step 1482: 'val_loss' was not in top 1\n"
     ]
    },
    {
     "name": "stdout",
     "output_type": "stream",
     "text": [
      "Epoch 39: 100%|██████████| 38/38 [00:03<00:00, 10.98it/s, v_num=0]"
     ]
    },
    {
     "name": "stderr",
     "output_type": "stream",
     "text": [
      "Epoch 39, global step 1520: 'val_loss' was not in top 1\n"
     ]
    },
    {
     "name": "stdout",
     "output_type": "stream",
     "text": [
      "Epoch 40: 100%|██████████| 38/38 [00:03<00:00, 10.78it/s, v_num=0]"
     ]
    },
    {
     "name": "stderr",
     "output_type": "stream",
     "text": [
      "Epoch 40, global step 1558: 'val_loss' was not in top 1\n"
     ]
    },
    {
     "name": "stdout",
     "output_type": "stream",
     "text": [
      "Epoch 41: 100%|██████████| 38/38 [00:03<00:00, 10.64it/s, v_num=0]"
     ]
    },
    {
     "name": "stderr",
     "output_type": "stream",
     "text": [
      "Epoch 41, global step 1596: 'val_loss' was not in top 1\n"
     ]
    },
    {
     "name": "stdout",
     "output_type": "stream",
     "text": [
      "Epoch 42: 100%|██████████| 38/38 [00:03<00:00, 10.22it/s, v_num=0]"
     ]
    },
    {
     "name": "stderr",
     "output_type": "stream",
     "text": [
      "Epoch 42, global step 1634: 'val_loss' was not in top 1\n"
     ]
    },
    {
     "name": "stdout",
     "output_type": "stream",
     "text": [
      "Epoch 43: 100%|██████████| 38/38 [00:03<00:00, 10.65it/s, v_num=0]"
     ]
    },
    {
     "name": "stderr",
     "output_type": "stream",
     "text": [
      "Epoch 43, global step 1672: 'val_loss' was not in top 1\n"
     ]
    },
    {
     "name": "stdout",
     "output_type": "stream",
     "text": [
      "Epoch 44: 100%|██████████| 38/38 [00:03<00:00, 10.41it/s, v_num=0]"
     ]
    },
    {
     "name": "stderr",
     "output_type": "stream",
     "text": [
      "Epoch 44, global step 1710: 'val_loss' was not in top 1\n"
     ]
    },
    {
     "name": "stdout",
     "output_type": "stream",
     "text": [
      "Epoch 45: 100%|██████████| 38/38 [00:03<00:00, 10.32it/s, v_num=0]"
     ]
    },
    {
     "name": "stderr",
     "output_type": "stream",
     "text": [
      "Epoch 45, global step 1748: 'val_loss' was not in top 1\n"
     ]
    },
    {
     "name": "stdout",
     "output_type": "stream",
     "text": [
      "Epoch 46: 100%|██████████| 38/38 [00:04<00:00,  9.33it/s, v_num=0]"
     ]
    },
    {
     "name": "stderr",
     "output_type": "stream",
     "text": [
      "Epoch 46, global step 1786: 'val_loss' was not in top 1\n"
     ]
    },
    {
     "name": "stdout",
     "output_type": "stream",
     "text": [
      "Epoch 47: 100%|██████████| 38/38 [00:03<00:00,  9.89it/s, v_num=0]"
     ]
    },
    {
     "name": "stderr",
     "output_type": "stream",
     "text": [
      "Epoch 47, global step 1824: 'val_loss' was not in top 1\n"
     ]
    },
    {
     "name": "stdout",
     "output_type": "stream",
     "text": [
      "Epoch 48: 100%|██████████| 38/38 [00:03<00:00, 10.03it/s, v_num=0]"
     ]
    },
    {
     "name": "stderr",
     "output_type": "stream",
     "text": [
      "Epoch 48, global step 1862: 'val_loss' was not in top 1\n"
     ]
    },
    {
     "name": "stdout",
     "output_type": "stream",
     "text": [
      "Epoch 49: 100%|██████████| 38/38 [00:03<00:00, 10.09it/s, v_num=0]"
     ]
    },
    {
     "name": "stderr",
     "output_type": "stream",
     "text": [
      "Epoch 49, global step 1900: 'val_loss' was not in top 1\n"
     ]
    },
    {
     "name": "stdout",
     "output_type": "stream",
     "text": [
      "Epoch 50: 100%|██████████| 38/38 [00:03<00:00, 10.18it/s, v_num=0]"
     ]
    },
    {
     "name": "stderr",
     "output_type": "stream",
     "text": [
      "Metric val_loss improved by 0.037 >= min_delta = 0.0. New best score: -0.659\n",
      "Epoch 50, global step 1938: 'val_loss' reached -0.65853 (best -0.65853), saving model to '/database/config/db2inst1/robust_plan_eval/notebooks/lightning_models/roq_job_v2.2_lr0.00075_bs64_0kq_374epoch=50-step=1938-val_loss=-0.66.ckpt' as top 1\n"
     ]
    },
    {
     "name": "stdout",
     "output_type": "stream",
     "text": [
      "Epoch 51: 100%|██████████| 38/38 [00:04<00:00,  9.43it/s, v_num=0]"
     ]
    },
    {
     "name": "stderr",
     "output_type": "stream",
     "text": [
      "Epoch 51, global step 1976: 'val_loss' was not in top 1\n"
     ]
    },
    {
     "name": "stdout",
     "output_type": "stream",
     "text": [
      "Epoch 52: 100%|██████████| 38/38 [00:04<00:00,  9.15it/s, v_num=0]"
     ]
    },
    {
     "name": "stderr",
     "output_type": "stream",
     "text": [
      "Epoch 52, global step 2014: 'val_loss' was not in top 1\n"
     ]
    },
    {
     "name": "stdout",
     "output_type": "stream",
     "text": [
      "Epoch 53: 100%|██████████| 38/38 [00:03<00:00,  9.70it/s, v_num=0]"
     ]
    },
    {
     "name": "stderr",
     "output_type": "stream",
     "text": [
      "Epoch 53, global step 2052: 'val_loss' was not in top 1\n"
     ]
    },
    {
     "name": "stdout",
     "output_type": "stream",
     "text": [
      "Epoch 54: 100%|██████████| 38/38 [00:04<00:00,  9.02it/s, v_num=0]"
     ]
    },
    {
     "name": "stderr",
     "output_type": "stream",
     "text": [
      "Epoch 54, global step 2090: 'val_loss' was not in top 1\n"
     ]
    },
    {
     "name": "stdout",
     "output_type": "stream",
     "text": [
      "Epoch 55: 100%|██████████| 38/38 [00:04<00:00,  9.36it/s, v_num=0]"
     ]
    },
    {
     "name": "stderr",
     "output_type": "stream",
     "text": [
      "Epoch 55, global step 2128: 'val_loss' was not in top 1\n"
     ]
    },
    {
     "name": "stdout",
     "output_type": "stream",
     "text": [
      "Epoch 56: 100%|██████████| 38/38 [00:04<00:00,  9.32it/s, v_num=0]"
     ]
    },
    {
     "name": "stderr",
     "output_type": "stream",
     "text": [
      "Epoch 56, global step 2166: 'val_loss' was not in top 1\n"
     ]
    },
    {
     "name": "stdout",
     "output_type": "stream",
     "text": [
      "Epoch 57: 100%|██████████| 38/38 [00:04<00:00,  9.30it/s, v_num=0]"
     ]
    },
    {
     "name": "stderr",
     "output_type": "stream",
     "text": [
      "Epoch 57, global step 2204: 'val_loss' was not in top 1\n"
     ]
    },
    {
     "name": "stdout",
     "output_type": "stream",
     "text": [
      "Epoch 58: 100%|██████████| 38/38 [00:04<00:00,  8.77it/s, v_num=0]"
     ]
    },
    {
     "name": "stderr",
     "output_type": "stream",
     "text": [
      "Epoch 58, global step 2242: 'val_loss' was not in top 1\n"
     ]
    },
    {
     "name": "stdout",
     "output_type": "stream",
     "text": [
      "Epoch 59: 100%|██████████| 38/38 [00:04<00:00,  9.20it/s, v_num=0]"
     ]
    },
    {
     "name": "stderr",
     "output_type": "stream",
     "text": [
      "Epoch 59, global step 2280: 'val_loss' was not in top 1\n"
     ]
    },
    {
     "name": "stdout",
     "output_type": "stream",
     "text": [
      "Epoch 60: 100%|██████████| 38/38 [00:04<00:00,  8.57it/s, v_num=0]"
     ]
    },
    {
     "name": "stderr",
     "output_type": "stream",
     "text": [
      "Epoch 60, global step 2318: 'val_loss' was not in top 1\n"
     ]
    },
    {
     "name": "stdout",
     "output_type": "stream",
     "text": [
      "Epoch 61: 100%|██████████| 38/38 [00:04<00:00,  8.42it/s, v_num=0]"
     ]
    },
    {
     "name": "stderr",
     "output_type": "stream",
     "text": [
      "Epoch 61, global step 2356: 'val_loss' was not in top 1\n"
     ]
    },
    {
     "name": "stdout",
     "output_type": "stream",
     "text": [
      "Epoch 62: 100%|██████████| 38/38 [00:04<00:00,  8.72it/s, v_num=0]"
     ]
    },
    {
     "name": "stderr",
     "output_type": "stream",
     "text": [
      "Epoch 62, global step 2394: 'val_loss' was not in top 1\n"
     ]
    },
    {
     "name": "stdout",
     "output_type": "stream",
     "text": [
      "Epoch 63: 100%|██████████| 38/38 [00:04<00:00,  8.72it/s, v_num=0]"
     ]
    },
    {
     "name": "stderr",
     "output_type": "stream",
     "text": [
      "Epoch 63, global step 2432: 'val_loss' was not in top 1\n"
     ]
    },
    {
     "name": "stdout",
     "output_type": "stream",
     "text": [
      "Epoch 64: 100%|██████████| 38/38 [00:04<00:00,  8.35it/s, v_num=0]"
     ]
    },
    {
     "name": "stderr",
     "output_type": "stream",
     "text": [
      "Epoch 64, global step 2470: 'val_loss' was not in top 1\n"
     ]
    },
    {
     "name": "stdout",
     "output_type": "stream",
     "text": [
      "Epoch 65: 100%|██████████| 38/38 [00:04<00:00,  8.38it/s, v_num=0]"
     ]
    },
    {
     "name": "stderr",
     "output_type": "stream",
     "text": [
      "Epoch 65, global step 2508: 'val_loss' was not in top 1\n"
     ]
    },
    {
     "name": "stdout",
     "output_type": "stream",
     "text": [
      "Epoch 66: 100%|██████████| 38/38 [00:04<00:00,  8.45it/s, v_num=0]"
     ]
    },
    {
     "name": "stderr",
     "output_type": "stream",
     "text": [
      "Epoch 66, global step 2546: 'val_loss' was not in top 1\n"
     ]
    },
    {
     "name": "stdout",
     "output_type": "stream",
     "text": [
      "Epoch 67: 100%|██████████| 38/38 [00:04<00:00,  8.21it/s, v_num=0]"
     ]
    },
    {
     "name": "stderr",
     "output_type": "stream",
     "text": [
      "Epoch 67, global step 2584: 'val_loss' was not in top 1\n"
     ]
    },
    {
     "name": "stdout",
     "output_type": "stream",
     "text": [
      "Epoch 68: 100%|██████████| 38/38 [00:04<00:00,  7.73it/s, v_num=0]"
     ]
    },
    {
     "name": "stderr",
     "output_type": "stream",
     "text": [
      "Epoch 68, global step 2622: 'val_loss' was not in top 1\n"
     ]
    },
    {
     "name": "stdout",
     "output_type": "stream",
     "text": [
      "Epoch 69: 100%|██████████| 38/38 [00:04<00:00,  8.28it/s, v_num=0]"
     ]
    },
    {
     "name": "stderr",
     "output_type": "stream",
     "text": [
      "Epoch 69, global step 2660: 'val_loss' was not in top 1\n"
     ]
    },
    {
     "name": "stdout",
     "output_type": "stream",
     "text": [
      "Epoch 70: 100%|██████████| 38/38 [00:04<00:00,  7.99it/s, v_num=0]"
     ]
    },
    {
     "name": "stderr",
     "output_type": "stream",
     "text": [
      "Epoch 70, global step 2698: 'val_loss' was not in top 1\n"
     ]
    },
    {
     "name": "stdout",
     "output_type": "stream",
     "text": [
      "Epoch 71: 100%|██████████| 38/38 [00:04<00:00,  7.98it/s, v_num=0]"
     ]
    },
    {
     "name": "stderr",
     "output_type": "stream",
     "text": [
      "Epoch 71, global step 2736: 'val_loss' was not in top 1\n"
     ]
    },
    {
     "name": "stdout",
     "output_type": "stream",
     "text": [
      "Epoch 72: 100%|██████████| 38/38 [00:04<00:00,  7.74it/s, v_num=0]"
     ]
    },
    {
     "name": "stderr",
     "output_type": "stream",
     "text": [
      "Epoch 72, global step 2774: 'val_loss' was not in top 1\n"
     ]
    },
    {
     "name": "stdout",
     "output_type": "stream",
     "text": [
      "Epoch 73: 100%|██████████| 38/38 [00:04<00:00,  7.75it/s, v_num=0]"
     ]
    },
    {
     "name": "stderr",
     "output_type": "stream",
     "text": [
      "Epoch 73, global step 2812: 'val_loss' was not in top 1\n"
     ]
    },
    {
     "name": "stdout",
     "output_type": "stream",
     "text": [
      "Epoch 74: 100%|██████████| 38/38 [00:05<00:00,  7.23it/s, v_num=0]"
     ]
    },
    {
     "name": "stderr",
     "output_type": "stream",
     "text": [
      "Epoch 74, global step 2850: 'val_loss' was not in top 1\n"
     ]
    },
    {
     "name": "stdout",
     "output_type": "stream",
     "text": [
      "Epoch 75: 100%|██████████| 38/38 [00:05<00:00,  7.43it/s, v_num=0]"
     ]
    },
    {
     "name": "stderr",
     "output_type": "stream",
     "text": [
      "Epoch 75, global step 2888: 'val_loss' was not in top 1\n"
     ]
    },
    {
     "name": "stdout",
     "output_type": "stream",
     "text": [
      "Epoch 76: 100%|██████████| 38/38 [00:05<00:00,  7.44it/s, v_num=0]"
     ]
    },
    {
     "name": "stderr",
     "output_type": "stream",
     "text": [
      "Epoch 76, global step 2926: 'val_loss' was not in top 1\n"
     ]
    },
    {
     "name": "stdout",
     "output_type": "stream",
     "text": [
      "Epoch 77: 100%|██████████| 38/38 [00:05<00:00,  7.58it/s, v_num=0]"
     ]
    },
    {
     "name": "stderr",
     "output_type": "stream",
     "text": [
      "Epoch 77, global step 2964: 'val_loss' was not in top 1\n"
     ]
    },
    {
     "name": "stdout",
     "output_type": "stream",
     "text": [
      "Epoch 78: 100%|██████████| 38/38 [00:05<00:00,  7.33it/s, v_num=0]"
     ]
    },
    {
     "name": "stderr",
     "output_type": "stream",
     "text": [
      "Epoch 78, global step 3002: 'val_loss' was not in top 1\n"
     ]
    },
    {
     "name": "stdout",
     "output_type": "stream",
     "text": [
      "Epoch 79: 100%|██████████| 38/38 [00:05<00:00,  7.03it/s, v_num=0]"
     ]
    },
    {
     "name": "stderr",
     "output_type": "stream",
     "text": [
      "Epoch 79, global step 3040: 'val_loss' was not in top 1\n"
     ]
    },
    {
     "name": "stdout",
     "output_type": "stream",
     "text": [
      "Epoch 80: 100%|██████████| 38/38 [00:05<00:00,  7.04it/s, v_num=0]"
     ]
    },
    {
     "name": "stderr",
     "output_type": "stream",
     "text": [
      "Monitored metric val_loss did not improve in the last 30 records. Best score: -0.659. Signaling Trainer to stop.\n",
      "Epoch 80, global step 3078: 'val_loss' was not in top 1\n"
     ]
    },
    {
     "name": "stdout",
     "output_type": "stream",
     "text": [
      "Epoch 80: 100%|██████████| 38/38 [00:05<00:00,  7.04it/s, v_num=0]\n"
     ]
    }
   ],
   "source": [
    "trainer.fit(model,train_loader,val_loader)"
   ]
  },
  {
   "cell_type": "code",
   "execution_count": 14,
   "metadata": {},
   "outputs": [
    {
     "name": "stdout",
     "output_type": "stream",
     "text": [
      "Best roq_job_v2.2_lr0.00075_bs64_0kq_374 model saved in \n",
      "/database/config/db2inst1/robust_plan_eval/notebooks/lightning_models/roq_job_v2.2_lr0.00075_bs64_0kq_374epoch=50-step=1938-val_loss=-0.66.ckpt\n"
     ]
    }
   ],
   "source": [
    "print('Best {} model saved in \\n{}'.format(model_name,checkpointing.best_model_path))"
   ]
  },
  {
   "cell_type": "code",
   "execution_count": null,
   "metadata": {},
   "outputs": [],
   "source": [
    "if arch == 'lero':\n",
    "    lero_pairwise = leroPairwise.load_from_checkpoint(\n",
    "        checkpointing.best_model_path,\n",
    "        num_node = node_attr_shape[0], \n",
    "        numPlanFeat=plan_attr_shape,\n",
    "        numPlanOrdFeat=plan_ord_shape,\n",
    "        numQueryGraphFeat = graph_attr_shape[0],\n",
    "        device = device, \n",
    "        criterion = loss,\n",
    "        **config\n",
    "        )\n",
    "    model=lero_pairwise.lero_model\n",
    "if arch == 'balsa':\n",
    "    balsa = balsa_model.load_from_checkpoint(\n",
    "        checkpointing.best_model_path,\n",
    "        num_node = node_attr_shape[0], \n",
    "        node_dim = node_attr_shape[1],\n",
    "        edge_dim = edge_attr_shape[1],#fill_value =0, \n",
    "        numPlanFeat=plan_attr_shape,\n",
    "        numPlanOrdFeat=plan_ord_shape,\n",
    "        numQueryGraphFeat = graph_attr_shape[0],\n",
    "        device = device, \n",
    "        criterion = loss,\n",
    "        **config\n",
    "        )\n",
    "if 'neo' in arch:\n",
    "    neo = neo_bao_model.load_from_checkpoint(\n",
    "        checkpointing.best_model_path,\n",
    "        num_node = node_attr_shape[0], \n",
    "        node_dim = node_attr_shape[1],\n",
    "        edge_dim = edge_attr_shape[1],\n",
    "        numPlanFeat=plan_attr_shape,\n",
    "        numPlanOrdFeat=plan_ord_shape,\n",
    "        numQueryGraphFeat = graph_attr_shape[0],\n",
    "        device = device, \n",
    "        criterion = loss,\n",
    "        architecture = 'neo',\n",
    "        **config\n",
    "        )\n",
    "\n",
    "if 'bao' in arch:\n",
    "    bao = neo_bao_model.load_from_checkpoint(\n",
    "        checkpointing.best_model_path,\n",
    "        num_node = node_attr_shape[0], \n",
    "        node_dim = node_attr_shape[1],\n",
    "        edge_dim = edge_attr_shape[1],\n",
    "        numPlanFeat=plan_attr_shape,\n",
    "        numPlanOrdFeat=plan_ord_shape,\n",
    "        numQueryGraphFeat = graph_attr_shape[0],\n",
    "        device = device, \n",
    "        criterion = loss,\n",
    "        architecture = 'bao',\n",
    "        **config\n",
    "        )\n",
    "if 'roq' in arch:\n",
    "    roq = roq_model.load_from_checkpoint(\n",
    "        checkpointing.best_model_path, \n",
    "        num_node = node_attr_shape[0], \n",
    "        node_dim = node_attr_shape[1],\n",
    "        edge_dim = edge_attr_shape[1], \n",
    "        numPlanFeat=plan_attr_shape,\n",
    "        numPlanOrdFeat=plan_ord_shape,\n",
    "        numQueryGraphFeat = graph_attr_shape[0],\n",
    "        with_var = True, device = device, \n",
    "        criterion = loss,\n",
    "        **config\n",
    "        )"
   ]
  },
  {
   "cell_type": "code",
   "execution_count": null,
   "metadata": {},
   "outputs": [],
   "source": []
  },
  {
   "cell_type": "code",
   "execution_count": 17,
   "metadata": {},
   "outputs": [
    {
     "name": "stderr",
     "output_type": "stream",
     "text": [
      "LOCAL_RANK: 0 - CUDA_VISIBLE_DEVICES: [0]\n"
     ]
    },
    {
     "name": "stdout",
     "output_type": "stream",
     "text": [
      "Predicting DataLoader 0: 100%|██████████| 5/5 [00:00<00:00, 47.34it/s]\n"
     ]
    }
   ],
   "source": [
    "ypreds_test = trainer.predict(model, test_loader)\n",
    "ypreds_test = torch.vstack(ypreds_test)\n",
    "if arch != 'lero':\n",
    "    ypreds_test=yTransFunc.inverse_transform(torch.Tensor(ypreds_test))\n"
   ]
  },
  {
   "cell_type": "code",
   "execution_count": 18,
   "metadata": {},
   "outputs": [
    {
     "name": "stdout",
     "output_type": "stream",
     "text": [
      "baseline ml  : spearman's corr : (np.float64(0.8002517121124337), np.float64(3.103503627886592e-59))\n",
      "queries with no plans after pruning: 0\n",
      "evaluation time: 0.0037806034088134766\n",
      "\n"
     ]
    }
   ],
   "source": [
    "lero_subopt,lero_runtime,_ = evaluate_method(\n",
    "    ypreds_test[:,0],ypreds_test[:,1],test_set, \n",
    "    strategy='baseline ml'\n",
    ")"
   ]
  },
  {
   "cell_type": "code",
   "execution_count": 19,
   "metadata": {},
   "outputs": [
    {
     "data": {
      "text/html": [
       "<div>\n",
       "<style scoped>\n",
       "    .dataframe tbody tr th:only-of-type {\n",
       "        vertical-align: middle;\n",
       "    }\n",
       "\n",
       "    .dataframe tbody tr th {\n",
       "        vertical-align: top;\n",
       "    }\n",
       "\n",
       "    .dataframe thead th {\n",
       "        text-align: right;\n",
       "    }\n",
       "</style>\n",
       "<table border=\"1\" class=\"dataframe\">\n",
       "  <thead>\n",
       "    <tr style=\"text-align: right;\">\n",
       "      <th></th>\n",
       "      <th>5.0</th>\n",
       "      <th>9.0</th>\n",
       "      <th>10.0</th>\n",
       "      <th>11.0</th>\n",
       "      <th>13.0</th>\n",
       "      <th>14.0</th>\n",
       "      <th>16.0</th>\n",
       "      <th>20.0</th>\n",
       "      <th>27.0</th>\n",
       "      <th>overall q_error</th>\n",
       "    </tr>\n",
       "  </thead>\n",
       "  <tbody>\n",
       "    <tr>\n",
       "      <th>count</th>\n",
       "      <td>26.000000</td>\n",
       "      <td>26.000000</td>\n",
       "      <td>26.000000</td>\n",
       "      <td>52.000000</td>\n",
       "      <td>26.000000</td>\n",
       "      <td>26.000000</td>\n",
       "      <td>26.000000</td>\n",
       "      <td>26.000000</td>\n",
       "      <td>26.000000</td>\n",
       "      <td>260.000000</td>\n",
       "    </tr>\n",
       "    <tr>\n",
       "      <th>mean</th>\n",
       "      <td>2.691915</td>\n",
       "      <td>5.178593</td>\n",
       "      <td>3.206473</td>\n",
       "      <td>1.852767</td>\n",
       "      <td>3.011289</td>\n",
       "      <td>2.386254</td>\n",
       "      <td>2.338624</td>\n",
       "      <td>15.643438</td>\n",
       "      <td>2.765625</td>\n",
       "      <td>4.092775</td>\n",
       "    </tr>\n",
       "    <tr>\n",
       "      <th>std</th>\n",
       "      <td>1.865569</td>\n",
       "      <td>5.891284</td>\n",
       "      <td>2.097943</td>\n",
       "      <td>0.520163</td>\n",
       "      <td>2.550230</td>\n",
       "      <td>0.759811</td>\n",
       "      <td>2.174260</td>\n",
       "      <td>19.383564</td>\n",
       "      <td>3.820712</td>\n",
       "      <td>7.659639</td>\n",
       "    </tr>\n",
       "    <tr>\n",
       "      <th>min</th>\n",
       "      <td>1.114503</td>\n",
       "      <td>1.047648</td>\n",
       "      <td>1.020666</td>\n",
       "      <td>1.054477</td>\n",
       "      <td>1.070814</td>\n",
       "      <td>1.668082</td>\n",
       "      <td>1.097218</td>\n",
       "      <td>1.154604</td>\n",
       "      <td>1.000952</td>\n",
       "      <td>1.000952</td>\n",
       "    </tr>\n",
       "    <tr>\n",
       "      <th>0%</th>\n",
       "      <td>1.114503</td>\n",
       "      <td>1.047648</td>\n",
       "      <td>1.020666</td>\n",
       "      <td>1.054477</td>\n",
       "      <td>1.070814</td>\n",
       "      <td>1.668082</td>\n",
       "      <td>1.097218</td>\n",
       "      <td>1.154604</td>\n",
       "      <td>1.000952</td>\n",
       "      <td>1.000952</td>\n",
       "    </tr>\n",
       "    <tr>\n",
       "      <th>10%</th>\n",
       "      <td>1.163303</td>\n",
       "      <td>1.120392</td>\n",
       "      <td>1.026877</td>\n",
       "      <td>1.160017</td>\n",
       "      <td>1.211457</td>\n",
       "      <td>1.668082</td>\n",
       "      <td>1.102834</td>\n",
       "      <td>1.191277</td>\n",
       "      <td>1.043683</td>\n",
       "      <td>1.081378</td>\n",
       "    </tr>\n",
       "    <tr>\n",
       "      <th>20%</th>\n",
       "      <td>1.211223</td>\n",
       "      <td>1.174128</td>\n",
       "      <td>1.527882</td>\n",
       "      <td>1.242767</td>\n",
       "      <td>1.283996</td>\n",
       "      <td>1.678701</td>\n",
       "      <td>1.233723</td>\n",
       "      <td>1.282681</td>\n",
       "      <td>1.055100</td>\n",
       "      <td>1.218326</td>\n",
       "    </tr>\n",
       "    <tr>\n",
       "      <th>30%</th>\n",
       "      <td>1.283037</td>\n",
       "      <td>1.279440</td>\n",
       "      <td>1.556448</td>\n",
       "      <td>1.370961</td>\n",
       "      <td>1.888918</td>\n",
       "      <td>1.691886</td>\n",
       "      <td>1.282658</td>\n",
       "      <td>1.309318</td>\n",
       "      <td>1.067164</td>\n",
       "      <td>1.296573</td>\n",
       "    </tr>\n",
       "    <tr>\n",
       "      <th>40%</th>\n",
       "      <td>1.292780</td>\n",
       "      <td>1.447659</td>\n",
       "      <td>1.641682</td>\n",
       "      <td>1.729644</td>\n",
       "      <td>1.998031</td>\n",
       "      <td>1.724104</td>\n",
       "      <td>1.293531</td>\n",
       "      <td>1.424752</td>\n",
       "      <td>1.070749</td>\n",
       "      <td>1.472512</td>\n",
       "    </tr>\n",
       "    <tr>\n",
       "      <th>50%</th>\n",
       "      <td>1.311843</td>\n",
       "      <td>1.481530</td>\n",
       "      <td>2.407898</td>\n",
       "      <td>1.980013</td>\n",
       "      <td>2.101890</td>\n",
       "      <td>2.530579</td>\n",
       "      <td>1.312952</td>\n",
       "      <td>6.034029</td>\n",
       "      <td>1.074959</td>\n",
       "      <td>1.691886</td>\n",
       "    </tr>\n",
       "    <tr>\n",
       "      <th>60%</th>\n",
       "      <td>2.417097</td>\n",
       "      <td>1.530445</td>\n",
       "      <td>3.757065</td>\n",
       "      <td>2.118448</td>\n",
       "      <td>2.241948</td>\n",
       "      <td>2.537241</td>\n",
       "      <td>1.402797</td>\n",
       "      <td>6.746003</td>\n",
       "      <td>1.081378</td>\n",
       "      <td>2.177888</td>\n",
       "    </tr>\n",
       "    <tr>\n",
       "      <th>70%</th>\n",
       "      <td>3.829026</td>\n",
       "      <td>7.672778</td>\n",
       "      <td>3.823626</td>\n",
       "      <td>2.291129</td>\n",
       "      <td>2.461895</td>\n",
       "      <td>2.568839</td>\n",
       "      <td>1.811584</td>\n",
       "      <td>25.184120</td>\n",
       "      <td>1.396434</td>\n",
       "      <td>2.477699</td>\n",
       "    </tr>\n",
       "    <tr>\n",
       "      <th>80%</th>\n",
       "      <td>5.283835</td>\n",
       "      <td>13.748684</td>\n",
       "      <td>6.135212</td>\n",
       "      <td>2.452884</td>\n",
       "      <td>3.057767</td>\n",
       "      <td>3.494955</td>\n",
       "      <td>2.224700</td>\n",
       "      <td>43.705284</td>\n",
       "      <td>1.668486</td>\n",
       "      <td>3.766632</td>\n",
       "    </tr>\n",
       "    <tr>\n",
       "      <th>90%</th>\n",
       "      <td>5.467206</td>\n",
       "      <td>13.929690</td>\n",
       "      <td>6.562104</td>\n",
       "      <td>2.475793</td>\n",
       "      <td>8.623270</td>\n",
       "      <td>3.594774</td>\n",
       "      <td>7.257879</td>\n",
       "      <td>44.249260</td>\n",
       "      <td>11.535539</td>\n",
       "      <td>7.260891</td>\n",
       "    </tr>\n",
       "    <tr>\n",
       "      <th>max</th>\n",
       "      <td>5.508979</td>\n",
       "      <td>13.937096</td>\n",
       "      <td>6.844620</td>\n",
       "      <td>2.503451</td>\n",
       "      <td>8.855957</td>\n",
       "      <td>3.603332</td>\n",
       "      <td>7.287996</td>\n",
       "      <td>44.589947</td>\n",
       "      <td>11.541357</td>\n",
       "      <td>44.589947</td>\n",
       "    </tr>\n",
       "  </tbody>\n",
       "</table>\n",
       "</div>"
      ],
      "text/plain": [
       "             5.0        9.0       10.0       11.0       13.0       14.0  \\\n",
       "count  26.000000  26.000000  26.000000  52.000000  26.000000  26.000000   \n",
       "mean    2.691915   5.178593   3.206473   1.852767   3.011289   2.386254   \n",
       "std     1.865569   5.891284   2.097943   0.520163   2.550230   0.759811   \n",
       "min     1.114503   1.047648   1.020666   1.054477   1.070814   1.668082   \n",
       "0%      1.114503   1.047648   1.020666   1.054477   1.070814   1.668082   \n",
       "10%     1.163303   1.120392   1.026877   1.160017   1.211457   1.668082   \n",
       "20%     1.211223   1.174128   1.527882   1.242767   1.283996   1.678701   \n",
       "30%     1.283037   1.279440   1.556448   1.370961   1.888918   1.691886   \n",
       "40%     1.292780   1.447659   1.641682   1.729644   1.998031   1.724104   \n",
       "50%     1.311843   1.481530   2.407898   1.980013   2.101890   2.530579   \n",
       "60%     2.417097   1.530445   3.757065   2.118448   2.241948   2.537241   \n",
       "70%     3.829026   7.672778   3.823626   2.291129   2.461895   2.568839   \n",
       "80%     5.283835  13.748684   6.135212   2.452884   3.057767   3.494955   \n",
       "90%     5.467206  13.929690   6.562104   2.475793   8.623270   3.594774   \n",
       "max     5.508979  13.937096   6.844620   2.503451   8.855957   3.603332   \n",
       "\n",
       "            16.0       20.0       27.0  overall q_error  \n",
       "count  26.000000  26.000000  26.000000       260.000000  \n",
       "mean    2.338624  15.643438   2.765625         4.092775  \n",
       "std     2.174260  19.383564   3.820712         7.659639  \n",
       "min     1.097218   1.154604   1.000952         1.000952  \n",
       "0%      1.097218   1.154604   1.000952         1.000952  \n",
       "10%     1.102834   1.191277   1.043683         1.081378  \n",
       "20%     1.233723   1.282681   1.055100         1.218326  \n",
       "30%     1.282658   1.309318   1.067164         1.296573  \n",
       "40%     1.293531   1.424752   1.070749         1.472512  \n",
       "50%     1.312952   6.034029   1.074959         1.691886  \n",
       "60%     1.402797   6.746003   1.081378         2.177888  \n",
       "70%     1.811584  25.184120   1.396434         2.477699  \n",
       "80%     2.224700  43.705284   1.668486         3.766632  \n",
       "90%     7.257879  44.249260  11.535539         7.260891  \n",
       "max     7.287996  44.589947  11.541357        44.589947  "
      ]
     },
     "metadata": {},
     "output_type": "display_data"
    },
    {
     "data": {
      "text/html": [
       "<div>\n",
       "<style scoped>\n",
       "    .dataframe tbody tr th:only-of-type {\n",
       "        vertical-align: middle;\n",
       "    }\n",
       "\n",
       "    .dataframe tbody tr th {\n",
       "        vertical-align: top;\n",
       "    }\n",
       "\n",
       "    .dataframe thead tr th {\n",
       "        text-align: left;\n",
       "    }\n",
       "</style>\n",
       "<table border=\"1\" class=\"dataframe\">\n",
       "  <thead>\n",
       "    <tr>\n",
       "      <th></th>\n",
       "      <th colspan=\"10\" halign=\"left\">ml_subopt</th>\n",
       "      <th colspan=\"10\" halign=\"left\">db2_subopt</th>\n",
       "    </tr>\n",
       "    <tr>\n",
       "      <th></th>\n",
       "      <th>5.0</th>\n",
       "      <th>9.0</th>\n",
       "      <th>10.0</th>\n",
       "      <th>11.0</th>\n",
       "      <th>13.0</th>\n",
       "      <th>14.0</th>\n",
       "      <th>16.0</th>\n",
       "      <th>20.0</th>\n",
       "      <th>27.0</th>\n",
       "      <th>overall subopt</th>\n",
       "      <th>5.0</th>\n",
       "      <th>9.0</th>\n",
       "      <th>10.0</th>\n",
       "      <th>11.0</th>\n",
       "      <th>13.0</th>\n",
       "      <th>14.0</th>\n",
       "      <th>16.0</th>\n",
       "      <th>20.0</th>\n",
       "      <th>27.0</th>\n",
       "      <th>overall subopt</th>\n",
       "    </tr>\n",
       "  </thead>\n",
       "  <tbody>\n",
       "    <tr>\n",
       "      <th>count</th>\n",
       "      <td>1.000000</td>\n",
       "      <td>1.000000</td>\n",
       "      <td>1.000000</td>\n",
       "      <td>2.000000</td>\n",
       "      <td>1.000000</td>\n",
       "      <td>1.000000</td>\n",
       "      <td>1.000000</td>\n",
       "      <td>1.000000</td>\n",
       "      <td>1.000000</td>\n",
       "      <td>10.000000</td>\n",
       "      <td>1.000000</td>\n",
       "      <td>1.000000</td>\n",
       "      <td>1.000000</td>\n",
       "      <td>2.000000</td>\n",
       "      <td>1.000000</td>\n",
       "      <td>1.000000</td>\n",
       "      <td>1.000000</td>\n",
       "      <td>1.000000</td>\n",
       "      <td>1.0</td>\n",
       "      <td>10.000000</td>\n",
       "    </tr>\n",
       "    <tr>\n",
       "      <th>mean</th>\n",
       "      <td>1.208423</td>\n",
       "      <td>1.422548</td>\n",
       "      <td>6.005129</td>\n",
       "      <td>1.151498</td>\n",
       "      <td>1.161637</td>\n",
       "      <td>1.028561</td>\n",
       "      <td>1.545244</td>\n",
       "      <td>1.108692</td>\n",
       "      <td>1.078208</td>\n",
       "      <td>1.686144</td>\n",
       "      <td>1.409388</td>\n",
       "      <td>1.877571</td>\n",
       "      <td>1.115629</td>\n",
       "      <td>2.337147</td>\n",
       "      <td>1.213079</td>\n",
       "      <td>10.285609</td>\n",
       "      <td>1.418315</td>\n",
       "      <td>9.290118</td>\n",
       "      <td>1.0</td>\n",
       "      <td>3.228400</td>\n",
       "    </tr>\n",
       "    <tr>\n",
       "      <th>std</th>\n",
       "      <td>NaN</td>\n",
       "      <td>NaN</td>\n",
       "      <td>NaN</td>\n",
       "      <td>0.057516</td>\n",
       "      <td>NaN</td>\n",
       "      <td>NaN</td>\n",
       "      <td>NaN</td>\n",
       "      <td>NaN</td>\n",
       "      <td>NaN</td>\n",
       "      <td>1.525951</td>\n",
       "      <td>NaN</td>\n",
       "      <td>NaN</td>\n",
       "      <td>NaN</td>\n",
       "      <td>1.050213</td>\n",
       "      <td>NaN</td>\n",
       "      <td>NaN</td>\n",
       "      <td>NaN</td>\n",
       "      <td>NaN</td>\n",
       "      <td>NaN</td>\n",
       "      <td>3.514119</td>\n",
       "    </tr>\n",
       "    <tr>\n",
       "      <th>min</th>\n",
       "      <td>1.208423</td>\n",
       "      <td>1.422548</td>\n",
       "      <td>6.005129</td>\n",
       "      <td>1.110828</td>\n",
       "      <td>1.161637</td>\n",
       "      <td>1.028561</td>\n",
       "      <td>1.545244</td>\n",
       "      <td>1.108692</td>\n",
       "      <td>1.078208</td>\n",
       "      <td>1.028561</td>\n",
       "      <td>1.409388</td>\n",
       "      <td>1.877571</td>\n",
       "      <td>1.115629</td>\n",
       "      <td>1.594534</td>\n",
       "      <td>1.213079</td>\n",
       "      <td>10.285609</td>\n",
       "      <td>1.418315</td>\n",
       "      <td>9.290118</td>\n",
       "      <td>1.0</td>\n",
       "      <td>1.000000</td>\n",
       "    </tr>\n",
       "    <tr>\n",
       "      <th>0%</th>\n",
       "      <td>1.208423</td>\n",
       "      <td>1.422548</td>\n",
       "      <td>6.005129</td>\n",
       "      <td>1.110828</td>\n",
       "      <td>1.161637</td>\n",
       "      <td>1.028561</td>\n",
       "      <td>1.545244</td>\n",
       "      <td>1.108692</td>\n",
       "      <td>1.078208</td>\n",
       "      <td>1.028561</td>\n",
       "      <td>1.409388</td>\n",
       "      <td>1.877571</td>\n",
       "      <td>1.115629</td>\n",
       "      <td>1.594534</td>\n",
       "      <td>1.213079</td>\n",
       "      <td>10.285609</td>\n",
       "      <td>1.418315</td>\n",
       "      <td>9.290118</td>\n",
       "      <td>1.0</td>\n",
       "      <td>1.000000</td>\n",
       "    </tr>\n",
       "    <tr>\n",
       "      <th>10%</th>\n",
       "      <td>1.208423</td>\n",
       "      <td>1.422548</td>\n",
       "      <td>6.005129</td>\n",
       "      <td>1.118962</td>\n",
       "      <td>1.161637</td>\n",
       "      <td>1.028561</td>\n",
       "      <td>1.545244</td>\n",
       "      <td>1.108692</td>\n",
       "      <td>1.078208</td>\n",
       "      <td>1.073243</td>\n",
       "      <td>1.409388</td>\n",
       "      <td>1.877571</td>\n",
       "      <td>1.115629</td>\n",
       "      <td>1.743056</td>\n",
       "      <td>1.213079</td>\n",
       "      <td>10.285609</td>\n",
       "      <td>1.418315</td>\n",
       "      <td>9.290118</td>\n",
       "      <td>1.0</td>\n",
       "      <td>1.104066</td>\n",
       "    </tr>\n",
       "    <tr>\n",
       "      <th>20%</th>\n",
       "      <td>1.208423</td>\n",
       "      <td>1.422548</td>\n",
       "      <td>6.005129</td>\n",
       "      <td>1.127096</td>\n",
       "      <td>1.161637</td>\n",
       "      <td>1.028561</td>\n",
       "      <td>1.545244</td>\n",
       "      <td>1.108692</td>\n",
       "      <td>1.078208</td>\n",
       "      <td>1.102595</td>\n",
       "      <td>1.409388</td>\n",
       "      <td>1.877571</td>\n",
       "      <td>1.115629</td>\n",
       "      <td>1.891579</td>\n",
       "      <td>1.213079</td>\n",
       "      <td>10.285609</td>\n",
       "      <td>1.418315</td>\n",
       "      <td>9.290118</td>\n",
       "      <td>1.0</td>\n",
       "      <td>1.193589</td>\n",
       "    </tr>\n",
       "    <tr>\n",
       "      <th>30%</th>\n",
       "      <td>1.208423</td>\n",
       "      <td>1.422548</td>\n",
       "      <td>6.005129</td>\n",
       "      <td>1.135230</td>\n",
       "      <td>1.161637</td>\n",
       "      <td>1.028561</td>\n",
       "      <td>1.545244</td>\n",
       "      <td>1.108692</td>\n",
       "      <td>1.078208</td>\n",
       "      <td>1.110187</td>\n",
       "      <td>1.409388</td>\n",
       "      <td>1.877571</td>\n",
       "      <td>1.115629</td>\n",
       "      <td>2.040102</td>\n",
       "      <td>1.213079</td>\n",
       "      <td>10.285609</td>\n",
       "      <td>1.418315</td>\n",
       "      <td>9.290118</td>\n",
       "      <td>1.0</td>\n",
       "      <td>1.350495</td>\n",
       "    </tr>\n",
       "    <tr>\n",
       "      <th>40%</th>\n",
       "      <td>1.208423</td>\n",
       "      <td>1.422548</td>\n",
       "      <td>6.005129</td>\n",
       "      <td>1.143364</td>\n",
       "      <td>1.161637</td>\n",
       "      <td>1.028561</td>\n",
       "      <td>1.545244</td>\n",
       "      <td>1.108692</td>\n",
       "      <td>1.078208</td>\n",
       "      <td>1.141313</td>\n",
       "      <td>1.409388</td>\n",
       "      <td>1.877571</td>\n",
       "      <td>1.115629</td>\n",
       "      <td>2.188624</td>\n",
       "      <td>1.213079</td>\n",
       "      <td>10.285609</td>\n",
       "      <td>1.418315</td>\n",
       "      <td>9.290118</td>\n",
       "      <td>1.0</td>\n",
       "      <td>1.414744</td>\n",
       "    </tr>\n",
       "    <tr>\n",
       "      <th>50%</th>\n",
       "      <td>1.208423</td>\n",
       "      <td>1.422548</td>\n",
       "      <td>6.005129</td>\n",
       "      <td>1.151498</td>\n",
       "      <td>1.161637</td>\n",
       "      <td>1.028561</td>\n",
       "      <td>1.545244</td>\n",
       "      <td>1.108692</td>\n",
       "      <td>1.078208</td>\n",
       "      <td>1.176903</td>\n",
       "      <td>1.409388</td>\n",
       "      <td>1.877571</td>\n",
       "      <td>1.115629</td>\n",
       "      <td>2.337147</td>\n",
       "      <td>1.213079</td>\n",
       "      <td>10.285609</td>\n",
       "      <td>1.418315</td>\n",
       "      <td>9.290118</td>\n",
       "      <td>1.0</td>\n",
       "      <td>1.506424</td>\n",
       "    </tr>\n",
       "    <tr>\n",
       "      <th>60%</th>\n",
       "      <td>1.208423</td>\n",
       "      <td>1.422548</td>\n",
       "      <td>6.005129</td>\n",
       "      <td>1.159632</td>\n",
       "      <td>1.161637</td>\n",
       "      <td>1.028561</td>\n",
       "      <td>1.545244</td>\n",
       "      <td>1.108692</td>\n",
       "      <td>1.078208</td>\n",
       "      <td>1.198670</td>\n",
       "      <td>1.409388</td>\n",
       "      <td>1.877571</td>\n",
       "      <td>1.115629</td>\n",
       "      <td>2.485669</td>\n",
       "      <td>1.213079</td>\n",
       "      <td>10.285609</td>\n",
       "      <td>1.418315</td>\n",
       "      <td>9.290118</td>\n",
       "      <td>1.0</td>\n",
       "      <td>1.707749</td>\n",
       "    </tr>\n",
       "    <tr>\n",
       "      <th>70%</th>\n",
       "      <td>1.208423</td>\n",
       "      <td>1.422548</td>\n",
       "      <td>6.005129</td>\n",
       "      <td>1.167766</td>\n",
       "      <td>1.161637</td>\n",
       "      <td>1.028561</td>\n",
       "      <td>1.545244</td>\n",
       "      <td>1.108692</td>\n",
       "      <td>1.078208</td>\n",
       "      <td>1.272660</td>\n",
       "      <td>1.409388</td>\n",
       "      <td>1.877571</td>\n",
       "      <td>1.115629</td>\n",
       "      <td>2.634192</td>\n",
       "      <td>1.213079</td>\n",
       "      <td>10.285609</td>\n",
       "      <td>1.418315</td>\n",
       "      <td>9.290118</td>\n",
       "      <td>1.0</td>\n",
       "      <td>2.238228</td>\n",
       "    </tr>\n",
       "    <tr>\n",
       "      <th>80%</th>\n",
       "      <td>1.208423</td>\n",
       "      <td>1.422548</td>\n",
       "      <td>6.005129</td>\n",
       "      <td>1.175900</td>\n",
       "      <td>1.161637</td>\n",
       "      <td>1.028561</td>\n",
       "      <td>1.545244</td>\n",
       "      <td>1.108692</td>\n",
       "      <td>1.078208</td>\n",
       "      <td>1.447087</td>\n",
       "      <td>1.409388</td>\n",
       "      <td>1.877571</td>\n",
       "      <td>1.115629</td>\n",
       "      <td>2.782714</td>\n",
       "      <td>1.213079</td>\n",
       "      <td>10.285609</td>\n",
       "      <td>1.418315</td>\n",
       "      <td>9.290118</td>\n",
       "      <td>1.0</td>\n",
       "      <td>4.321831</td>\n",
       "    </tr>\n",
       "    <tr>\n",
       "      <th>90%</th>\n",
       "      <td>1.208423</td>\n",
       "      <td>1.422548</td>\n",
       "      <td>6.005129</td>\n",
       "      <td>1.184034</td>\n",
       "      <td>1.161637</td>\n",
       "      <td>1.028561</td>\n",
       "      <td>1.545244</td>\n",
       "      <td>1.108692</td>\n",
       "      <td>1.078208</td>\n",
       "      <td>1.991233</td>\n",
       "      <td>1.409388</td>\n",
       "      <td>1.877571</td>\n",
       "      <td>1.115629</td>\n",
       "      <td>2.931237</td>\n",
       "      <td>1.213079</td>\n",
       "      <td>10.285609</td>\n",
       "      <td>1.418315</td>\n",
       "      <td>9.290118</td>\n",
       "      <td>1.0</td>\n",
       "      <td>9.389667</td>\n",
       "    </tr>\n",
       "    <tr>\n",
       "      <th>max</th>\n",
       "      <td>1.208423</td>\n",
       "      <td>1.422548</td>\n",
       "      <td>6.005129</td>\n",
       "      <td>1.192168</td>\n",
       "      <td>1.161637</td>\n",
       "      <td>1.028561</td>\n",
       "      <td>1.545244</td>\n",
       "      <td>1.108692</td>\n",
       "      <td>1.078208</td>\n",
       "      <td>6.005129</td>\n",
       "      <td>1.409388</td>\n",
       "      <td>1.877571</td>\n",
       "      <td>1.115629</td>\n",
       "      <td>3.079760</td>\n",
       "      <td>1.213079</td>\n",
       "      <td>10.285609</td>\n",
       "      <td>1.418315</td>\n",
       "      <td>9.290118</td>\n",
       "      <td>1.0</td>\n",
       "      <td>10.285609</td>\n",
       "    </tr>\n",
       "  </tbody>\n",
       "</table>\n",
       "</div>"
      ],
      "text/plain": [
       "      ml_subopt                                                              \\\n",
       "            5.0       9.0      10.0      11.0      13.0      14.0      16.0   \n",
       "count  1.000000  1.000000  1.000000  2.000000  1.000000  1.000000  1.000000   \n",
       "mean   1.208423  1.422548  6.005129  1.151498  1.161637  1.028561  1.545244   \n",
       "std         NaN       NaN       NaN  0.057516       NaN       NaN       NaN   \n",
       "min    1.208423  1.422548  6.005129  1.110828  1.161637  1.028561  1.545244   \n",
       "0%     1.208423  1.422548  6.005129  1.110828  1.161637  1.028561  1.545244   \n",
       "10%    1.208423  1.422548  6.005129  1.118962  1.161637  1.028561  1.545244   \n",
       "20%    1.208423  1.422548  6.005129  1.127096  1.161637  1.028561  1.545244   \n",
       "30%    1.208423  1.422548  6.005129  1.135230  1.161637  1.028561  1.545244   \n",
       "40%    1.208423  1.422548  6.005129  1.143364  1.161637  1.028561  1.545244   \n",
       "50%    1.208423  1.422548  6.005129  1.151498  1.161637  1.028561  1.545244   \n",
       "60%    1.208423  1.422548  6.005129  1.159632  1.161637  1.028561  1.545244   \n",
       "70%    1.208423  1.422548  6.005129  1.167766  1.161637  1.028561  1.545244   \n",
       "80%    1.208423  1.422548  6.005129  1.175900  1.161637  1.028561  1.545244   \n",
       "90%    1.208423  1.422548  6.005129  1.184034  1.161637  1.028561  1.545244   \n",
       "max    1.208423  1.422548  6.005129  1.192168  1.161637  1.028561  1.545244   \n",
       "\n",
       "                                         db2_subopt                      \\\n",
       "           20.0      27.0 overall subopt        5.0       9.0      10.0   \n",
       "count  1.000000  1.000000      10.000000   1.000000  1.000000  1.000000   \n",
       "mean   1.108692  1.078208       1.686144   1.409388  1.877571  1.115629   \n",
       "std         NaN       NaN       1.525951        NaN       NaN       NaN   \n",
       "min    1.108692  1.078208       1.028561   1.409388  1.877571  1.115629   \n",
       "0%     1.108692  1.078208       1.028561   1.409388  1.877571  1.115629   \n",
       "10%    1.108692  1.078208       1.073243   1.409388  1.877571  1.115629   \n",
       "20%    1.108692  1.078208       1.102595   1.409388  1.877571  1.115629   \n",
       "30%    1.108692  1.078208       1.110187   1.409388  1.877571  1.115629   \n",
       "40%    1.108692  1.078208       1.141313   1.409388  1.877571  1.115629   \n",
       "50%    1.108692  1.078208       1.176903   1.409388  1.877571  1.115629   \n",
       "60%    1.108692  1.078208       1.198670   1.409388  1.877571  1.115629   \n",
       "70%    1.108692  1.078208       1.272660   1.409388  1.877571  1.115629   \n",
       "80%    1.108692  1.078208       1.447087   1.409388  1.877571  1.115629   \n",
       "90%    1.108692  1.078208       1.991233   1.409388  1.877571  1.115629   \n",
       "max    1.108692  1.078208       6.005129   1.409388  1.877571  1.115629   \n",
       "\n",
       "                                                                              \n",
       "           11.0      13.0       14.0      16.0      20.0 27.0 overall subopt  \n",
       "count  2.000000  1.000000   1.000000  1.000000  1.000000  1.0      10.000000  \n",
       "mean   2.337147  1.213079  10.285609  1.418315  9.290118  1.0       3.228400  \n",
       "std    1.050213       NaN        NaN       NaN       NaN  NaN       3.514119  \n",
       "min    1.594534  1.213079  10.285609  1.418315  9.290118  1.0       1.000000  \n",
       "0%     1.594534  1.213079  10.285609  1.418315  9.290118  1.0       1.000000  \n",
       "10%    1.743056  1.213079  10.285609  1.418315  9.290118  1.0       1.104066  \n",
       "20%    1.891579  1.213079  10.285609  1.418315  9.290118  1.0       1.193589  \n",
       "30%    2.040102  1.213079  10.285609  1.418315  9.290118  1.0       1.350495  \n",
       "40%    2.188624  1.213079  10.285609  1.418315  9.290118  1.0       1.414744  \n",
       "50%    2.337147  1.213079  10.285609  1.418315  9.290118  1.0       1.506424  \n",
       "60%    2.485669  1.213079  10.285609  1.418315  9.290118  1.0       1.707749  \n",
       "70%    2.634192  1.213079  10.285609  1.418315  9.290118  1.0       2.238228  \n",
       "80%    2.782714  1.213079  10.285609  1.418315  9.290118  1.0       4.321831  \n",
       "90%    2.931237  1.213079  10.285609  1.418315  9.290118  1.0       9.389667  \n",
       "max    3.079760  1.213079  10.285609  1.418315  9.290118  1.0      10.285609  "
      ]
     },
     "metadata": {},
     "output_type": "display_data"
    },
    {
     "data": {
      "image/png": "[encoded data removed]",
      "text/plain": [
       "<Figure size 1000x600 with 1 Axes>"
      ]
     },
     "metadata": {},
     "output_type": "display_data"
    },
    {
     "data": {
      "image/png": "[encoded data removed]",
      "text/plain": [
       "<Figure size 1000x600 with 1 Axes>"
      ]
     },
     "metadata": {},
     "output_type": "display_data"
    }
   ],
   "source": [
    "lero_qerror, _ = lcm_model_eval(\n",
    "    test_set, ypreds_test[:,0], \n",
    "    dataset_label = 'test_data', model_label = arch\n",
    "    ,load_from_disk=False, files_id = files_id,show_fig=False,\n",
    "    results_dir = results_dir\n",
    ")"
   ]
  },
  {
   "cell_type": "code",
   "execution_count": 20,
   "metadata": {},
   "outputs": [],
   "source": [
    "ypreds_test = ypreds_test[:,0].squeeze().numpy()\n",
    "targets = test_set.y.squeeze().numpy()\n"
   ]
  },
  {
   "cell_type": "code",
   "execution_count": 21,
   "metadata": {},
   "outputs": [
    {
     "name": "stdout",
     "output_type": "stream",
     "text": [
      "Spearman's Rank Correlation Coefficient: 0.8002517121124337\n",
      "P-value: 3.103503627886592e-59\n",
      "There is a significant correlation.\n"
     ]
    }
   ],
   "source": [
    "spearmanr_coef8, _ = compute_spearmanr(ypreds_test,targets)"
   ]
  },
  {
   "cell_type": "code",
   "execution_count": 22,
   "metadata": {},
   "outputs": [],
   "source": [
    "if arch == 'lero':\n",
    "    ypreds_test*=-1\n",
    "    ypreds_test=1/ypreds_test"
   ]
  },
  {
   "cell_type": "code",
   "execution_count": 23,
   "metadata": {},
   "outputs": [
    {
     "data": {
      "image/png": "[encoded data removed]",
      "text/plain": [
       "<Figure size 600x600 with 1 Axes>"
      ]
     },
     "metadata": {},
     "output_type": "display_data"
    }
   ],
   "source": [
    "from util.eval_util import plotxvsy\n",
    "\n",
    "plotxvsy(targets,ypreds_test, xl='latency', yl=f'{arch} prediction',scale='log')"
   ]
  },
  {
   "cell_type": "code",
   "execution_count": 24,
   "metadata": {},
   "outputs": [],
   "source": [
    "test_qids = np.unique(np.array(test_set.query_id))\n",
    "sprearmans_coef = []\n",
    "for id in test_qids: \n",
    "    query_msk = (np.array(test_set.query_id) == id)\n",
    "    temp, _ = compute_spearmanr(ypreds_test[query_msk],targets[query_msk], verbose=False)\n",
    "    sprearmans_coef.append(temp)"
   ]
  },
  {
   "cell_type": "code",
   "execution_count": 25,
   "metadata": {},
   "outputs": [
    {
     "name": "stdout",
     "output_type": "stream",
     "text": [
      "Spearman's Rank Correlation Coefficient: 0.8002517121124337\n",
      "P-value: 3.103503627886592e-59\n",
      "There is a significant correlation.\n"
     ]
    }
   ],
   "source": [
    "temp, _ = compute_spearmanr(ypreds_test,targets, verbose=True)"
   ]
  },
  {
   "cell_type": "code",
   "execution_count": 26,
   "metadata": {},
   "outputs": [
    {
     "data": {
      "text/plain": [
       "np.float64(0.541642111860743)"
      ]
     },
     "execution_count": 26,
     "metadata": {},
     "output_type": "execute_result"
    }
   ],
   "source": [
    "np.array(sprearmans_coef).mean()"
   ]
  },
  {
   "cell_type": "code",
   "execution_count": 27,
   "metadata": {},
   "outputs": [
    {
     "data": {
      "text/plain": [
       "np.str_('33c')"
      ]
     },
     "execution_count": 27,
     "metadata": {},
     "output_type": "execute_result"
    }
   ],
   "source": [
    "test_qids[8]"
   ]
  },
  {
   "cell_type": "code",
   "execution_count": 28,
   "metadata": {},
   "outputs": [
    {
     "data": {
      "image/png": "[encoded data removed]",
      "text/plain": [
       "<Figure size 600x600 with 1 Axes>"
      ]
     },
     "metadata": {},
     "output_type": "display_data"
    }
   ],
   "source": [
    "query_msk = (np.array(test_set.query_id) == test_qids[8])\n",
    "plotxvsy(targets[query_msk],ypreds_test[query_msk], xl='latency', yl=f'{arch} prediction',scale='log')\n"
   ]
  },
  {
   "cell_type": "markdown",
   "metadata": {},
   "source": [
    "## Deep Dive"
   ]
  },
  {
   "cell_type": "code",
   "execution_count": 29,
   "metadata": {},
   "outputs": [],
   "source": [
    "from util.eval_util import plot2dhist, compute_spearmanr,lcm_model_eval\n",
    "\n",
    "results_dir = os.path.join('..','results')\n",
    "\n",
    "def eval(model,loader,yTransFunc):\n",
    "# Validation\n",
    "    ypreds = trainer.predict(model, loader)\n",
    "    ypreds_arr = torch.vstack(ypreds).numpy()\n",
    "    ypreds_tens_org=yTransFunc.inverse_transform(torch.Tensor(ypreds_arr))\n",
    "\n",
    "    y_val = loader.dataset.y_t.numpy()\n",
    "    plot2dhist(y_val,ypreds_arr[:,0],\"y_actual\",\"y_pred\")\n",
    "    spearmanr_coef4, _ = compute_spearmanr(ypreds_arr[:,0],y_val)\n",
    "    \n",
    "    q_error_num_joins, subopt_num_joins = lcm_model_eval(\n",
    "        loader.dataset, ypreds_tens_org[:,0], \n",
    "        dataset_label = 'Test data', model_label = 'roq',\n",
    "        load_from_disk=False, files_id = files_id,\n",
    "        show_fig=True, results_dir=results_dir\n",
    "        )\n",
    "    \n",
    "    return q_error_num_joins,subopt_num_joins"
   ]
  },
  {
   "cell_type": "code",
   "execution_count": 30,
   "metadata": {},
   "outputs": [
    {
     "name": "stderr",
     "output_type": "stream",
     "text": [
      "LOCAL_RANK: 0 - CUDA_VISIBLE_DEVICES: [0]\n"
     ]
    },
    {
     "name": "stdout",
     "output_type": "stream",
     "text": [
      "Predicting DataLoader 0: 100%|██████████| 5/5 [00:00<00:00, 55.12it/s]\n"
     ]
    },
    {
     "data": {
      "image/png": "[encoded data removed]",
      "text/plain": [
       "<Figure size 1000x700 with 2 Axes>"
      ]
     },
     "metadata": {},
     "output_type": "display_data"
    },
    {
     "name": "stdout",
     "output_type": "stream",
     "text": [
      "Spearman's Rank Correlation Coefficient: 0.8002517121124337\n",
      "P-value: 3.103503627886592e-59\n",
      "There is a significant correlation.\n"
     ]
    },
    {
     "data": {
      "image/png": "[encoded data removed]",
      "text/plain": [
       "<Figure size 1000x600 with 1 Axes>"
      ]
     },
     "metadata": {},
     "output_type": "display_data"
    },
    {
     "data": {
      "text/html": [
       "<div>\n",
       "<style scoped>\n",
       "    .dataframe tbody tr th:only-of-type {\n",
       "        vertical-align: middle;\n",
       "    }\n",
       "\n",
       "    .dataframe tbody tr th {\n",
       "        vertical-align: top;\n",
       "    }\n",
       "\n",
       "    .dataframe thead th {\n",
       "        text-align: right;\n",
       "    }\n",
       "</style>\n",
       "<table border=\"1\" class=\"dataframe\">\n",
       "  <thead>\n",
       "    <tr style=\"text-align: right;\">\n",
       "      <th></th>\n",
       "      <th>5.0</th>\n",
       "      <th>9.0</th>\n",
       "      <th>10.0</th>\n",
       "      <th>11.0</th>\n",
       "      <th>13.0</th>\n",
       "      <th>14.0</th>\n",
       "      <th>16.0</th>\n",
       "      <th>20.0</th>\n",
       "      <th>27.0</th>\n",
       "      <th>overall q_error</th>\n",
       "    </tr>\n",
       "  </thead>\n",
       "  <tbody>\n",
       "    <tr>\n",
       "      <th>count</th>\n",
       "      <td>26.000000</td>\n",
       "      <td>26.000000</td>\n",
       "      <td>26.000000</td>\n",
       "      <td>52.000000</td>\n",
       "      <td>26.000000</td>\n",
       "      <td>26.000000</td>\n",
       "      <td>26.000000</td>\n",
       "      <td>26.000000</td>\n",
       "      <td>26.000000</td>\n",
       "      <td>260.000000</td>\n",
       "    </tr>\n",
       "    <tr>\n",
       "      <th>mean</th>\n",
       "      <td>2.691915</td>\n",
       "      <td>5.178593</td>\n",
       "      <td>3.206473</td>\n",
       "      <td>1.852767</td>\n",
       "      <td>3.011289</td>\n",
       "      <td>2.386254</td>\n",
       "      <td>2.338624</td>\n",
       "      <td>15.643438</td>\n",
       "      <td>2.765625</td>\n",
       "      <td>4.092775</td>\n",
       "    </tr>\n",
       "    <tr>\n",
       "      <th>std</th>\n",
       "      <td>1.865569</td>\n",
       "      <td>5.891284</td>\n",
       "      <td>2.097943</td>\n",
       "      <td>0.520163</td>\n",
       "      <td>2.550230</td>\n",
       "      <td>0.759811</td>\n",
       "      <td>2.174260</td>\n",
       "      <td>19.383564</td>\n",
       "      <td>3.820712</td>\n",
       "      <td>7.659639</td>\n",
       "    </tr>\n",
       "    <tr>\n",
       "      <th>min</th>\n",
       "      <td>1.114503</td>\n",
       "      <td>1.047648</td>\n",
       "      <td>1.020666</td>\n",
       "      <td>1.054477</td>\n",
       "      <td>1.070814</td>\n",
       "      <td>1.668082</td>\n",
       "      <td>1.097218</td>\n",
       "      <td>1.154604</td>\n",
       "      <td>1.000952</td>\n",
       "      <td>1.000952</td>\n",
       "    </tr>\n",
       "    <tr>\n",
       "      <th>0%</th>\n",
       "      <td>1.114503</td>\n",
       "      <td>1.047648</td>\n",
       "      <td>1.020666</td>\n",
       "      <td>1.054477</td>\n",
       "      <td>1.070814</td>\n",
       "      <td>1.668082</td>\n",
       "      <td>1.097218</td>\n",
       "      <td>1.154604</td>\n",
       "      <td>1.000952</td>\n",
       "      <td>1.000952</td>\n",
       "    </tr>\n",
       "    <tr>\n",
       "      <th>10%</th>\n",
       "      <td>1.163303</td>\n",
       "      <td>1.120392</td>\n",
       "      <td>1.026877</td>\n",
       "      <td>1.160017</td>\n",
       "      <td>1.211457</td>\n",
       "      <td>1.668082</td>\n",
       "      <td>1.102834</td>\n",
       "      <td>1.191277</td>\n",
       "      <td>1.043683</td>\n",
       "      <td>1.081378</td>\n",
       "    </tr>\n",
       "    <tr>\n",
       "      <th>20%</th>\n",
       "      <td>1.211223</td>\n",
       "      <td>1.174128</td>\n",
       "      <td>1.527882</td>\n",
       "      <td>1.242767</td>\n",
       "      <td>1.283996</td>\n",
       "      <td>1.678701</td>\n",
       "      <td>1.233723</td>\n",
       "      <td>1.282681</td>\n",
       "      <td>1.055100</td>\n",
       "      <td>1.218326</td>\n",
       "    </tr>\n",
       "    <tr>\n",
       "      <th>30%</th>\n",
       "      <td>1.283037</td>\n",
       "      <td>1.279440</td>\n",
       "      <td>1.556448</td>\n",
       "      <td>1.370961</td>\n",
       "      <td>1.888918</td>\n",
       "      <td>1.691886</td>\n",
       "      <td>1.282658</td>\n",
       "      <td>1.309318</td>\n",
       "      <td>1.067164</td>\n",
       "      <td>1.296573</td>\n",
       "    </tr>\n",
       "    <tr>\n",
       "      <th>40%</th>\n",
       "      <td>1.292780</td>\n",
       "      <td>1.447659</td>\n",
       "      <td>1.641682</td>\n",
       "      <td>1.729644</td>\n",
       "      <td>1.998031</td>\n",
       "      <td>1.724104</td>\n",
       "      <td>1.293531</td>\n",
       "      <td>1.424752</td>\n",
       "      <td>1.070749</td>\n",
       "      <td>1.472512</td>\n",
       "    </tr>\n",
       "    <tr>\n",
       "      <th>50%</th>\n",
       "      <td>1.311843</td>\n",
       "      <td>1.481530</td>\n",
       "      <td>2.407898</td>\n",
       "      <td>1.980013</td>\n",
       "      <td>2.101890</td>\n",
       "      <td>2.530579</td>\n",
       "      <td>1.312952</td>\n",
       "      <td>6.034029</td>\n",
       "      <td>1.074959</td>\n",
       "      <td>1.691886</td>\n",
       "    </tr>\n",
       "    <tr>\n",
       "      <th>60%</th>\n",
       "      <td>2.417097</td>\n",
       "      <td>1.530445</td>\n",
       "      <td>3.757065</td>\n",
       "      <td>2.118448</td>\n",
       "      <td>2.241948</td>\n",
       "      <td>2.537241</td>\n",
       "      <td>1.402797</td>\n",
       "      <td>6.746003</td>\n",
       "      <td>1.081378</td>\n",
       "      <td>2.177888</td>\n",
       "    </tr>\n",
       "    <tr>\n",
       "      <th>70%</th>\n",
       "      <td>3.829026</td>\n",
       "      <td>7.672778</td>\n",
       "      <td>3.823626</td>\n",
       "      <td>2.291129</td>\n",
       "      <td>2.461895</td>\n",
       "      <td>2.568839</td>\n",
       "      <td>1.811584</td>\n",
       "      <td>25.184120</td>\n",
       "      <td>1.396434</td>\n",
       "      <td>2.477699</td>\n",
       "    </tr>\n",
       "    <tr>\n",
       "      <th>80%</th>\n",
       "      <td>5.283835</td>\n",
       "      <td>13.748684</td>\n",
       "      <td>6.135212</td>\n",
       "      <td>2.452884</td>\n",
       "      <td>3.057767</td>\n",
       "      <td>3.494955</td>\n",
       "      <td>2.224700</td>\n",
       "      <td>43.705284</td>\n",
       "      <td>1.668486</td>\n",
       "      <td>3.766632</td>\n",
       "    </tr>\n",
       "    <tr>\n",
       "      <th>90%</th>\n",
       "      <td>5.467206</td>\n",
       "      <td>13.929690</td>\n",
       "      <td>6.562104</td>\n",
       "      <td>2.475793</td>\n",
       "      <td>8.623270</td>\n",
       "      <td>3.594774</td>\n",
       "      <td>7.257879</td>\n",
       "      <td>44.249260</td>\n",
       "      <td>11.535539</td>\n",
       "      <td>7.260891</td>\n",
       "    </tr>\n",
       "    <tr>\n",
       "      <th>max</th>\n",
       "      <td>5.508979</td>\n",
       "      <td>13.937096</td>\n",
       "      <td>6.844620</td>\n",
       "      <td>2.503451</td>\n",
       "      <td>8.855957</td>\n",
       "      <td>3.603332</td>\n",
       "      <td>7.287996</td>\n",
       "      <td>44.589947</td>\n",
       "      <td>11.541357</td>\n",
       "      <td>44.589947</td>\n",
       "    </tr>\n",
       "  </tbody>\n",
       "</table>\n",
       "</div>"
      ],
      "text/plain": [
       "             5.0        9.0       10.0       11.0       13.0       14.0  \\\n",
       "count  26.000000  26.000000  26.000000  52.000000  26.000000  26.000000   \n",
       "mean    2.691915   5.178593   3.206473   1.852767   3.011289   2.386254   \n",
       "std     1.865569   5.891284   2.097943   0.520163   2.550230   0.759811   \n",
       "min     1.114503   1.047648   1.020666   1.054477   1.070814   1.668082   \n",
       "0%      1.114503   1.047648   1.020666   1.054477   1.070814   1.668082   \n",
       "10%     1.163303   1.120392   1.026877   1.160017   1.211457   1.668082   \n",
       "20%     1.211223   1.174128   1.527882   1.242767   1.283996   1.678701   \n",
       "30%     1.283037   1.279440   1.556448   1.370961   1.888918   1.691886   \n",
       "40%     1.292780   1.447659   1.641682   1.729644   1.998031   1.724104   \n",
       "50%     1.311843   1.481530   2.407898   1.980013   2.101890   2.530579   \n",
       "60%     2.417097   1.530445   3.757065   2.118448   2.241948   2.537241   \n",
       "70%     3.829026   7.672778   3.823626   2.291129   2.461895   2.568839   \n",
       "80%     5.283835  13.748684   6.135212   2.452884   3.057767   3.494955   \n",
       "90%     5.467206  13.929690   6.562104   2.475793   8.623270   3.594774   \n",
       "max     5.508979  13.937096   6.844620   2.503451   8.855957   3.603332   \n",
       "\n",
       "            16.0       20.0       27.0  overall q_error  \n",
       "count  26.000000  26.000000  26.000000       260.000000  \n",
       "mean    2.338624  15.643438   2.765625         4.092775  \n",
       "std     2.174260  19.383564   3.820712         7.659639  \n",
       "min     1.097218   1.154604   1.000952         1.000952  \n",
       "0%      1.097218   1.154604   1.000952         1.000952  \n",
       "10%     1.102834   1.191277   1.043683         1.081378  \n",
       "20%     1.233723   1.282681   1.055100         1.218326  \n",
       "30%     1.282658   1.309318   1.067164         1.296573  \n",
       "40%     1.293531   1.424752   1.070749         1.472512  \n",
       "50%     1.312952   6.034029   1.074959         1.691886  \n",
       "60%     1.402797   6.746003   1.081378         2.177888  \n",
       "70%     1.811584  25.184120   1.396434         2.477699  \n",
       "80%     2.224700  43.705284   1.668486         3.766632  \n",
       "90%     7.257879  44.249260  11.535539         7.260891  \n",
       "max     7.287996  44.589947  11.541357        44.589947  "
      ]
     },
     "metadata": {},
     "output_type": "display_data"
    },
    {
     "data": {
      "image/png": "[encoded data removed]",
      "text/plain": [
       "<Figure size 1000x600 with 1 Axes>"
      ]
     },
     "metadata": {},
     "output_type": "display_data"
    },
    {
     "data": {
      "text/html": [
       "<div>\n",
       "<style scoped>\n",
       "    .dataframe tbody tr th:only-of-type {\n",
       "        vertical-align: middle;\n",
       "    }\n",
       "\n",
       "    .dataframe tbody tr th {\n",
       "        vertical-align: top;\n",
       "    }\n",
       "\n",
       "    .dataframe thead tr th {\n",
       "        text-align: left;\n",
       "    }\n",
       "</style>\n",
       "<table border=\"1\" class=\"dataframe\">\n",
       "  <thead>\n",
       "    <tr>\n",
       "      <th></th>\n",
       "      <th colspan=\"10\" halign=\"left\">ml_subopt</th>\n",
       "      <th colspan=\"10\" halign=\"left\">db2_subopt</th>\n",
       "    </tr>\n",
       "    <tr>\n",
       "      <th></th>\n",
       "      <th>5.0</th>\n",
       "      <th>9.0</th>\n",
       "      <th>10.0</th>\n",
       "      <th>11.0</th>\n",
       "      <th>13.0</th>\n",
       "      <th>14.0</th>\n",
       "      <th>16.0</th>\n",
       "      <th>20.0</th>\n",
       "      <th>27.0</th>\n",
       "      <th>overall subopt</th>\n",
       "      <th>5.0</th>\n",
       "      <th>9.0</th>\n",
       "      <th>10.0</th>\n",
       "      <th>11.0</th>\n",
       "      <th>13.0</th>\n",
       "      <th>14.0</th>\n",
       "      <th>16.0</th>\n",
       "      <th>20.0</th>\n",
       "      <th>27.0</th>\n",
       "      <th>overall subopt</th>\n",
       "    </tr>\n",
       "  </thead>\n",
       "  <tbody>\n",
       "    <tr>\n",
       "      <th>count</th>\n",
       "      <td>1.000000</td>\n",
       "      <td>1.000000</td>\n",
       "      <td>1.000000</td>\n",
       "      <td>2.000000</td>\n",
       "      <td>1.000000</td>\n",
       "      <td>1.000000</td>\n",
       "      <td>1.000000</td>\n",
       "      <td>1.000000</td>\n",
       "      <td>1.000000</td>\n",
       "      <td>10.000000</td>\n",
       "      <td>1.000000</td>\n",
       "      <td>1.000000</td>\n",
       "      <td>1.000000</td>\n",
       "      <td>2.000000</td>\n",
       "      <td>1.000000</td>\n",
       "      <td>1.000000</td>\n",
       "      <td>1.000000</td>\n",
       "      <td>1.000000</td>\n",
       "      <td>1.0</td>\n",
       "      <td>10.000000</td>\n",
       "    </tr>\n",
       "    <tr>\n",
       "      <th>mean</th>\n",
       "      <td>1.208423</td>\n",
       "      <td>1.422548</td>\n",
       "      <td>6.005129</td>\n",
       "      <td>1.151498</td>\n",
       "      <td>1.161637</td>\n",
       "      <td>1.028561</td>\n",
       "      <td>1.545244</td>\n",
       "      <td>1.108692</td>\n",
       "      <td>1.078208</td>\n",
       "      <td>1.686144</td>\n",
       "      <td>1.409388</td>\n",
       "      <td>1.877571</td>\n",
       "      <td>1.115629</td>\n",
       "      <td>2.337147</td>\n",
       "      <td>1.213079</td>\n",
       "      <td>10.285609</td>\n",
       "      <td>1.418315</td>\n",
       "      <td>9.290118</td>\n",
       "      <td>1.0</td>\n",
       "      <td>3.228400</td>\n",
       "    </tr>\n",
       "    <tr>\n",
       "      <th>std</th>\n",
       "      <td>NaN</td>\n",
       "      <td>NaN</td>\n",
       "      <td>NaN</td>\n",
       "      <td>0.057516</td>\n",
       "      <td>NaN</td>\n",
       "      <td>NaN</td>\n",
       "      <td>NaN</td>\n",
       "      <td>NaN</td>\n",
       "      <td>NaN</td>\n",
       "      <td>1.525951</td>\n",
       "      <td>NaN</td>\n",
       "      <td>NaN</td>\n",
       "      <td>NaN</td>\n",
       "      <td>1.050213</td>\n",
       "      <td>NaN</td>\n",
       "      <td>NaN</td>\n",
       "      <td>NaN</td>\n",
       "      <td>NaN</td>\n",
       "      <td>NaN</td>\n",
       "      <td>3.514119</td>\n",
       "    </tr>\n",
       "    <tr>\n",
       "      <th>min</th>\n",
       "      <td>1.208423</td>\n",
       "      <td>1.422548</td>\n",
       "      <td>6.005129</td>\n",
       "      <td>1.110828</td>\n",
       "      <td>1.161637</td>\n",
       "      <td>1.028561</td>\n",
       "      <td>1.545244</td>\n",
       "      <td>1.108692</td>\n",
       "      <td>1.078208</td>\n",
       "      <td>1.028561</td>\n",
       "      <td>1.409388</td>\n",
       "      <td>1.877571</td>\n",
       "      <td>1.115629</td>\n",
       "      <td>1.594534</td>\n",
       "      <td>1.213079</td>\n",
       "      <td>10.285609</td>\n",
       "      <td>1.418315</td>\n",
       "      <td>9.290118</td>\n",
       "      <td>1.0</td>\n",
       "      <td>1.000000</td>\n",
       "    </tr>\n",
       "    <tr>\n",
       "      <th>0%</th>\n",
       "      <td>1.208423</td>\n",
       "      <td>1.422548</td>\n",
       "      <td>6.005129</td>\n",
       "      <td>1.110828</td>\n",
       "      <td>1.161637</td>\n",
       "      <td>1.028561</td>\n",
       "      <td>1.545244</td>\n",
       "      <td>1.108692</td>\n",
       "      <td>1.078208</td>\n",
       "      <td>1.028561</td>\n",
       "      <td>1.409388</td>\n",
       "      <td>1.877571</td>\n",
       "      <td>1.115629</td>\n",
       "      <td>1.594534</td>\n",
       "      <td>1.213079</td>\n",
       "      <td>10.285609</td>\n",
       "      <td>1.418315</td>\n",
       "      <td>9.290118</td>\n",
       "      <td>1.0</td>\n",
       "      <td>1.000000</td>\n",
       "    </tr>\n",
       "    <tr>\n",
       "      <th>10%</th>\n",
       "      <td>1.208423</td>\n",
       "      <td>1.422548</td>\n",
       "      <td>6.005129</td>\n",
       "      <td>1.118962</td>\n",
       "      <td>1.161637</td>\n",
       "      <td>1.028561</td>\n",
       "      <td>1.545244</td>\n",
       "      <td>1.108692</td>\n",
       "      <td>1.078208</td>\n",
       "      <td>1.073243</td>\n",
       "      <td>1.409388</td>\n",
       "      <td>1.877571</td>\n",
       "      <td>1.115629</td>\n",
       "      <td>1.743056</td>\n",
       "      <td>1.213079</td>\n",
       "      <td>10.285609</td>\n",
       "      <td>1.418315</td>\n",
       "      <td>9.290118</td>\n",
       "      <td>1.0</td>\n",
       "      <td>1.104066</td>\n",
       "    </tr>\n",
       "    <tr>\n",
       "      <th>20%</th>\n",
       "      <td>1.208423</td>\n",
       "      <td>1.422548</td>\n",
       "      <td>6.005129</td>\n",
       "      <td>1.127096</td>\n",
       "      <td>1.161637</td>\n",
       "      <td>1.028561</td>\n",
       "      <td>1.545244</td>\n",
       "      <td>1.108692</td>\n",
       "      <td>1.078208</td>\n",
       "      <td>1.102595</td>\n",
       "      <td>1.409388</td>\n",
       "      <td>1.877571</td>\n",
       "      <td>1.115629</td>\n",
       "      <td>1.891579</td>\n",
       "      <td>1.213079</td>\n",
       "      <td>10.285609</td>\n",
       "      <td>1.418315</td>\n",
       "      <td>9.290118</td>\n",
       "      <td>1.0</td>\n",
       "      <td>1.193589</td>\n",
       "    </tr>\n",
       "    <tr>\n",
       "      <th>30%</th>\n",
       "      <td>1.208423</td>\n",
       "      <td>1.422548</td>\n",
       "      <td>6.005129</td>\n",
       "      <td>1.135230</td>\n",
       "      <td>1.161637</td>\n",
       "      <td>1.028561</td>\n",
       "      <td>1.545244</td>\n",
       "      <td>1.108692</td>\n",
       "      <td>1.078208</td>\n",
       "      <td>1.110187</td>\n",
       "      <td>1.409388</td>\n",
       "      <td>1.877571</td>\n",
       "      <td>1.115629</td>\n",
       "      <td>2.040102</td>\n",
       "      <td>1.213079</td>\n",
       "      <td>10.285609</td>\n",
       "      <td>1.418315</td>\n",
       "      <td>9.290118</td>\n",
       "      <td>1.0</td>\n",
       "      <td>1.350495</td>\n",
       "    </tr>\n",
       "    <tr>\n",
       "      <th>40%</th>\n",
       "      <td>1.208423</td>\n",
       "      <td>1.422548</td>\n",
       "      <td>6.005129</td>\n",
       "      <td>1.143364</td>\n",
       "      <td>1.161637</td>\n",
       "      <td>1.028561</td>\n",
       "      <td>1.545244</td>\n",
       "      <td>1.108692</td>\n",
       "      <td>1.078208</td>\n",
       "      <td>1.141313</td>\n",
       "      <td>1.409388</td>\n",
       "      <td>1.877571</td>\n",
       "      <td>1.115629</td>\n",
       "      <td>2.188624</td>\n",
       "      <td>1.213079</td>\n",
       "      <td>10.285609</td>\n",
       "      <td>1.418315</td>\n",
       "      <td>9.290118</td>\n",
       "      <td>1.0</td>\n",
       "      <td>1.414744</td>\n",
       "    </tr>\n",
       "    <tr>\n",
       "      <th>50%</th>\n",
       "      <td>1.208423</td>\n",
       "      <td>1.422548</td>\n",
       "      <td>6.005129</td>\n",
       "      <td>1.151498</td>\n",
       "      <td>1.161637</td>\n",
       "      <td>1.028561</td>\n",
       "      <td>1.545244</td>\n",
       "      <td>1.108692</td>\n",
       "      <td>1.078208</td>\n",
       "      <td>1.176903</td>\n",
       "      <td>1.409388</td>\n",
       "      <td>1.877571</td>\n",
       "      <td>1.115629</td>\n",
       "      <td>2.337147</td>\n",
       "      <td>1.213079</td>\n",
       "      <td>10.285609</td>\n",
       "      <td>1.418315</td>\n",
       "      <td>9.290118</td>\n",
       "      <td>1.0</td>\n",
       "      <td>1.506424</td>\n",
       "    </tr>\n",
       "    <tr>\n",
       "      <th>60%</th>\n",
       "      <td>1.208423</td>\n",
       "      <td>1.422548</td>\n",
       "      <td>6.005129</td>\n",
       "      <td>1.159632</td>\n",
       "      <td>1.161637</td>\n",
       "      <td>1.028561</td>\n",
       "      <td>1.545244</td>\n",
       "      <td>1.108692</td>\n",
       "      <td>1.078208</td>\n",
       "      <td>1.198670</td>\n",
       "      <td>1.409388</td>\n",
       "      <td>1.877571</td>\n",
       "      <td>1.115629</td>\n",
       "      <td>2.485669</td>\n",
       "      <td>1.213079</td>\n",
       "      <td>10.285609</td>\n",
       "      <td>1.418315</td>\n",
       "      <td>9.290118</td>\n",
       "      <td>1.0</td>\n",
       "      <td>1.707749</td>\n",
       "    </tr>\n",
       "    <tr>\n",
       "      <th>70%</th>\n",
       "      <td>1.208423</td>\n",
       "      <td>1.422548</td>\n",
       "      <td>6.005129</td>\n",
       "      <td>1.167766</td>\n",
       "      <td>1.161637</td>\n",
       "      <td>1.028561</td>\n",
       "      <td>1.545244</td>\n",
       "      <td>1.108692</td>\n",
       "      <td>1.078208</td>\n",
       "      <td>1.272660</td>\n",
       "      <td>1.409388</td>\n",
       "      <td>1.877571</td>\n",
       "      <td>1.115629</td>\n",
       "      <td>2.634192</td>\n",
       "      <td>1.213079</td>\n",
       "      <td>10.285609</td>\n",
       "      <td>1.418315</td>\n",
       "      <td>9.290118</td>\n",
       "      <td>1.0</td>\n",
       "      <td>2.238228</td>\n",
       "    </tr>\n",
       "    <tr>\n",
       "      <th>80%</th>\n",
       "      <td>1.208423</td>\n",
       "      <td>1.422548</td>\n",
       "      <td>6.005129</td>\n",
       "      <td>1.175900</td>\n",
       "      <td>1.161637</td>\n",
       "      <td>1.028561</td>\n",
       "      <td>1.545244</td>\n",
       "      <td>1.108692</td>\n",
       "      <td>1.078208</td>\n",
       "      <td>1.447087</td>\n",
       "      <td>1.409388</td>\n",
       "      <td>1.877571</td>\n",
       "      <td>1.115629</td>\n",
       "      <td>2.782714</td>\n",
       "      <td>1.213079</td>\n",
       "      <td>10.285609</td>\n",
       "      <td>1.418315</td>\n",
       "      <td>9.290118</td>\n",
       "      <td>1.0</td>\n",
       "      <td>4.321831</td>\n",
       "    </tr>\n",
       "    <tr>\n",
       "      <th>90%</th>\n",
       "      <td>1.208423</td>\n",
       "      <td>1.422548</td>\n",
       "      <td>6.005129</td>\n",
       "      <td>1.184034</td>\n",
       "      <td>1.161637</td>\n",
       "      <td>1.028561</td>\n",
       "      <td>1.545244</td>\n",
       "      <td>1.108692</td>\n",
       "      <td>1.078208</td>\n",
       "      <td>1.991233</td>\n",
       "      <td>1.409388</td>\n",
       "      <td>1.877571</td>\n",
       "      <td>1.115629</td>\n",
       "      <td>2.931237</td>\n",
       "      <td>1.213079</td>\n",
       "      <td>10.285609</td>\n",
       "      <td>1.418315</td>\n",
       "      <td>9.290118</td>\n",
       "      <td>1.0</td>\n",
       "      <td>9.389667</td>\n",
       "    </tr>\n",
       "    <tr>\n",
       "      <th>max</th>\n",
       "      <td>1.208423</td>\n",
       "      <td>1.422548</td>\n",
       "      <td>6.005129</td>\n",
       "      <td>1.192168</td>\n",
       "      <td>1.161637</td>\n",
       "      <td>1.028561</td>\n",
       "      <td>1.545244</td>\n",
       "      <td>1.108692</td>\n",
       "      <td>1.078208</td>\n",
       "      <td>6.005129</td>\n",
       "      <td>1.409388</td>\n",
       "      <td>1.877571</td>\n",
       "      <td>1.115629</td>\n",
       "      <td>3.079760</td>\n",
       "      <td>1.213079</td>\n",
       "      <td>10.285609</td>\n",
       "      <td>1.418315</td>\n",
       "      <td>9.290118</td>\n",
       "      <td>1.0</td>\n",
       "      <td>10.285609</td>\n",
       "    </tr>\n",
       "  </tbody>\n",
       "</table>\n",
       "</div>"
      ],
      "text/plain": [
       "      ml_subopt                                                              \\\n",
       "            5.0       9.0      10.0      11.0      13.0      14.0      16.0   \n",
       "count  1.000000  1.000000  1.000000  2.000000  1.000000  1.000000  1.000000   \n",
       "mean   1.208423  1.422548  6.005129  1.151498  1.161637  1.028561  1.545244   \n",
       "std         NaN       NaN       NaN  0.057516       NaN       NaN       NaN   \n",
       "min    1.208423  1.422548  6.005129  1.110828  1.161637  1.028561  1.545244   \n",
       "0%     1.208423  1.422548  6.005129  1.110828  1.161637  1.028561  1.545244   \n",
       "10%    1.208423  1.422548  6.005129  1.118962  1.161637  1.028561  1.545244   \n",
       "20%    1.208423  1.422548  6.005129  1.127096  1.161637  1.028561  1.545244   \n",
       "30%    1.208423  1.422548  6.005129  1.135230  1.161637  1.028561  1.545244   \n",
       "40%    1.208423  1.422548  6.005129  1.143364  1.161637  1.028561  1.545244   \n",
       "50%    1.208423  1.422548  6.005129  1.151498  1.161637  1.028561  1.545244   \n",
       "60%    1.208423  1.422548  6.005129  1.159632  1.161637  1.028561  1.545244   \n",
       "70%    1.208423  1.422548  6.005129  1.167766  1.161637  1.028561  1.545244   \n",
       "80%    1.208423  1.422548  6.005129  1.175900  1.161637  1.028561  1.545244   \n",
       "90%    1.208423  1.422548  6.005129  1.184034  1.161637  1.028561  1.545244   \n",
       "max    1.208423  1.422548  6.005129  1.192168  1.161637  1.028561  1.545244   \n",
       "\n",
       "                                         db2_subopt                      \\\n",
       "           20.0      27.0 overall subopt        5.0       9.0      10.0   \n",
       "count  1.000000  1.000000      10.000000   1.000000  1.000000  1.000000   \n",
       "mean   1.108692  1.078208       1.686144   1.409388  1.877571  1.115629   \n",
       "std         NaN       NaN       1.525951        NaN       NaN       NaN   \n",
       "min    1.108692  1.078208       1.028561   1.409388  1.877571  1.115629   \n",
       "0%     1.108692  1.078208       1.028561   1.409388  1.877571  1.115629   \n",
       "10%    1.108692  1.078208       1.073243   1.409388  1.877571  1.115629   \n",
       "20%    1.108692  1.078208       1.102595   1.409388  1.877571  1.115629   \n",
       "30%    1.108692  1.078208       1.110187   1.409388  1.877571  1.115629   \n",
       "40%    1.108692  1.078208       1.141313   1.409388  1.877571  1.115629   \n",
       "50%    1.108692  1.078208       1.176903   1.409388  1.877571  1.115629   \n",
       "60%    1.108692  1.078208       1.198670   1.409388  1.877571  1.115629   \n",
       "70%    1.108692  1.078208       1.272660   1.409388  1.877571  1.115629   \n",
       "80%    1.108692  1.078208       1.447087   1.409388  1.877571  1.115629   \n",
       "90%    1.108692  1.078208       1.991233   1.409388  1.877571  1.115629   \n",
       "max    1.108692  1.078208       6.005129   1.409388  1.877571  1.115629   \n",
       "\n",
       "                                                                              \n",
       "           11.0      13.0       14.0      16.0      20.0 27.0 overall subopt  \n",
       "count  2.000000  1.000000   1.000000  1.000000  1.000000  1.0      10.000000  \n",
       "mean   2.337147  1.213079  10.285609  1.418315  9.290118  1.0       3.228400  \n",
       "std    1.050213       NaN        NaN       NaN       NaN  NaN       3.514119  \n",
       "min    1.594534  1.213079  10.285609  1.418315  9.290118  1.0       1.000000  \n",
       "0%     1.594534  1.213079  10.285609  1.418315  9.290118  1.0       1.000000  \n",
       "10%    1.743056  1.213079  10.285609  1.418315  9.290118  1.0       1.104066  \n",
       "20%    1.891579  1.213079  10.285609  1.418315  9.290118  1.0       1.193589  \n",
       "30%    2.040102  1.213079  10.285609  1.418315  9.290118  1.0       1.350495  \n",
       "40%    2.188624  1.213079  10.285609  1.418315  9.290118  1.0       1.414744  \n",
       "50%    2.337147  1.213079  10.285609  1.418315  9.290118  1.0       1.506424  \n",
       "60%    2.485669  1.213079  10.285609  1.418315  9.290118  1.0       1.707749  \n",
       "70%    2.634192  1.213079  10.285609  1.418315  9.290118  1.0       2.238228  \n",
       "80%    2.782714  1.213079  10.285609  1.418315  9.290118  1.0       4.321831  \n",
       "90%    2.931237  1.213079  10.285609  1.418315  9.290118  1.0       9.389667  \n",
       "max    3.079760  1.213079  10.285609  1.418315  9.290118  1.0      10.285609  "
      ]
     },
     "metadata": {},
     "output_type": "display_data"
    }
   ],
   "source": [
    "test_qerror, test_subopt =eval(model,test_loader,yTransFunc)"
   ]
  },
  {
   "cell_type": "code",
   "execution_count": 31,
   "metadata": {},
   "outputs": [
    {
     "data": {
      "text/plain": [
       "np.int64(7)"
      ]
     },
     "execution_count": 31,
     "metadata": {},
     "output_type": "execute_result"
    }
   ],
   "source": [
    "(test_subopt.ml_subopt < test_subopt.db2_subopt).sum()"
   ]
  },
  {
   "cell_type": "code",
   "execution_count": 32,
   "metadata": {},
   "outputs": [
    {
     "data": {
      "text/plain": [
       "np.int64(3)"
      ]
     },
     "execution_count": 32,
     "metadata": {},
     "output_type": "execute_result"
    }
   ],
   "source": [
    "regr_msk = (test_subopt.ml_subopt > test_subopt.db2_subopt).values\n",
    "regr_msk.sum()"
   ]
  },
  {
   "cell_type": "code",
   "execution_count": 33,
   "metadata": {},
   "outputs": [
    {
     "data": {
      "text/plain": [
       "np.int64(0)"
      ]
     },
     "execution_count": 33,
     "metadata": {},
     "output_type": "execute_result"
    }
   ],
   "source": [
    "same_msk = (test_subopt.ml_subopt == test_subopt.db2_subopt).values\n",
    "same_msk.sum()"
   ]
  },
  {
   "cell_type": "code",
   "execution_count": 34,
   "metadata": {},
   "outputs": [],
   "source": [
    "from util.torch_scorers import subOpt2\n",
    "def plot_preds_act(\n",
    "        benchmark_set, ypreds_bm_m, ypreds_bm_Ud, ypreds_bm_Um,\n",
    "        msk = regr_msk, idx = 10,q_id=None\n",
    "        ):\n",
    "    query_ids = np.unique(np.array(benchmark_set.query_id))\n",
    "    \n",
    "    if idx is not None:\n",
    "        q_id = query_ids[msk][idx]\n",
    "\n",
    "    q_msk = (np.array(benchmark_set.query_id) == q_id)\n",
    "    print(q_id)\n",
    "\n",
    "    actuals = benchmark_set[q_msk].y\n",
    "    costs = benchmark_set[q_msk].opt_cost\n",
    "    preds = torch.tensor(ypreds_bm_m[q_msk])\n",
    "    ml_subopt, db2_subopt = subOpt2(actuals, preds, costs)\n",
    "    print(\"ml subopt: {:.4f}, db2 subopt: {:.4f}\".format(ml_subopt,db2_subopt))\n",
    "\n",
    "    x=benchmark_set.y_t[q_msk].numpy()\n",
    "    y=ypreds_bm_m[q_msk]\n",
    "    err=ypreds_bm_Ud[q_msk]\n",
    "    xerr=ypreds_bm_Um[q_msk]\n",
    "    plotxvsy(x, y,xerr=xerr, err=err, xl=\"actual\", yl=\"pred\")"
   ]
  },
  {
   "cell_type": "code",
   "execution_count": 35,
   "metadata": {},
   "outputs": [],
   "source": [
    "from util.eval_util import plotxvsy\n",
    "from util.torch_scorers import subOpt2\n",
    "def plot_preds_act(\n",
    "        benchmark_set, ypreds_bm_m, ypreds_bm_Ud, ypreds_bm_Um,\n",
    "        msk = regr_msk, idx = 10,q_id=None\n",
    "        ):\n",
    "    query_ids = np.unique(np.array(benchmark_set.query_id))\n",
    "    \n",
    "    if idx is not None:\n",
    "        q_id = query_ids[msk][idx]\n",
    "\n",
    "    q_msk = (np.array(benchmark_set.query_id) == q_id)\n",
    "    print(q_id)\n",
    "\n",
    "    actuals = benchmark_set[q_msk].y\n",
    "    costs = benchmark_set[q_msk].opt_cost\n",
    "    preds = torch.tensor(ypreds_bm_m[q_msk])\n",
    "    ml_subopt, db2_subopt = subOpt2(actuals, preds, costs)\n",
    "    print(\"ml subopt: {:.4f}, db2 subopt: {:.4f}\".format(ml_subopt,db2_subopt))\n",
    "\n",
    "    x=benchmark_set.y_t[q_msk].numpy()\n",
    "    y=ypreds_bm_m[q_msk]\n",
    "    err=ypreds_bm_Ud[q_msk]\n",
    "    xerr=ypreds_bm_Um[q_msk]\n",
    "    plotxvsy(x, y,xerr=xerr, err=err, xl=\"actual\", yl=\"pred\")"
   ]
  },
  {
   "cell_type": "code",
   "execution_count": 36,
   "metadata": {},
   "outputs": [],
   "source": [
    "# Enables variational inference using MC dropout\n",
    "from util.torch_util import LitMCdropoutModel\n",
    "\n",
    "LitMCDPModel = LitMCdropoutModel(\n",
    "    model, mc_iteration=10, \n",
    "    dropout=config['dropout']\n",
    "    )"
   ]
  },
  {
   "cell_type": "code",
   "execution_count": 37,
   "metadata": {},
   "outputs": [
    {
     "name": "stderr",
     "output_type": "stream",
     "text": [
      "LOCAL_RANK: 0 - CUDA_VISIBLE_DEVICES: [0]\n"
     ]
    },
    {
     "name": "stdout",
     "output_type": "stream",
     "text": [
      "Predicting DataLoader 0: 100%|██████████| 5/5 [00:00<00:00, 37.44it/s]\n"
     ]
    },
    {
     "name": "stderr",
     "output_type": "stream",
     "text": [
      "LOCAL_RANK: 0 - CUDA_VISIBLE_DEVICES: [0]\n"
     ]
    },
    {
     "name": "stdout",
     "output_type": "stream",
     "text": [
      "Predicting DataLoader 0: 100%|██████████| 5/5 [00:00<00:00, 11.62it/s]\n"
     ]
    }
   ],
   "source": [
    "# Test\n",
    "ypreds_test_ = trainer.predict(model, test_loader)\n",
    "ypreds_arr_test = torch.vstack(ypreds_test_).numpy()\n",
    "ypreds_tens_test_org=yTransFunc.inverse_transform(torch.Tensor(ypreds_arr_test))\n",
    "\n",
    "ypreds_test_mc = trainer.predict(LitMCDPModel, test_loader)\n",
    "ypreds_test_mc = torch.hstack([torch.Tensor(ypreds_test_mc[b]) for b in range(len(ypreds_test_mc))])\n",
    "\n",
    "ypreds_test_m, ypreds_test_Ud, ypreds_test_Um = comput_uncertainty(ypreds_test_mc)\n",
    "ypreds_test_m_org=yTransFunc.inverse_transform(torch.Tensor(ypreds_test_m))"
   ]
  },
  {
   "cell_type": "code",
   "execution_count": 38,
   "metadata": {},
   "outputs": [
    {
     "data": {
      "image/png": "[encoded data removed]",
      "text/plain": [
       "<Figure size 800x600 with 1 Axes>"
      ]
     },
     "metadata": {},
     "output_type": "display_data"
    }
   ],
   "source": [
    "from util.eval_util import evalCalib\n",
    "\n",
    "evalCalib(ypreds_test_m,ypreds_test_Ud,\n",
    "          test_set.y_t.numpy(),\n",
    "          title='JOB queries')"
   ]
  },
  {
   "cell_type": "code",
   "execution_count": 1,
   "metadata": {},
   "outputs": [
    {
     "ename": "NameError",
     "evalue": "name 'test_qids' is not defined",
     "output_type": "error",
     "traceback": [
      "\u001b[0;31m---------------------------------------------------------------------------\u001b[0m",
      "\u001b[0;31mNameError\u001b[0m                                 Traceback (most recent call last)",
      "Cell \u001b[0;32mIn[1], line 1\u001b[0m\n\u001b[0;32m----> 1\u001b[0m \u001b[43mtest_qids\u001b[49m[\u001b[38;5;241m0\u001b[39m]\n",
      "\u001b[0;31mNameError\u001b[0m: name 'test_qids' is not defined"
     ]
    }
   ],
   "source": [
    "test_qids[0]"
   ]
  },
  {
   "cell_type": "code",
   "execution_count": 40,
   "metadata": {},
   "outputs": [
    {
     "name": "stdout",
     "output_type": "stream",
     "text": [
      "19d\n",
      "ml subopt: 1.1616, db2 subopt: 1.2131\n"
     ]
    },
    {
     "data": {
      "image/png": "[encoded data removed]",
      "text/plain": [
       "<Figure size 600x600 with 1 Axes>"
      ]
     },
     "metadata": {},
     "output_type": "display_data"
    }
   ],
   "source": [
    "plot_preds_act(\n",
    "    test_set, ypreds_arr_test[:,0], \n",
    "    ypreds_arr_test[:,1],ypreds_test_Um,\n",
    "    msk = regr_msk, idx = None, q_id = test_qids[4]\n",
    "    )"
   ]
  },
  {
   "cell_type": "code",
   "execution_count": 41,
   "metadata": {},
   "outputs": [
    {
     "name": "stdout",
     "output_type": "stream",
     "text": [
      "subopt risk  : spearman's corr : (np.float64(0.4225596701507782), np.float64(1.1039742221877095e-12))\n",
      "queries with no plans after pruning: 0\n",
      "evaluation time: 0.018964529037475586\n",
      "\n"
     ]
    }
   ],
   "source": [
    "from util.eval_util import evaluate_method\n",
    "\n",
    "risk_subopts,risk_runtimes,best_runtimes,subopt_risk,_ = evaluate_method(\n",
    "    ypreds_test_m, ypreds_test_Ud, test_set, strategy = 'subopt risk',\n",
    "    return_targets=True\n",
    "    )"
   ]
  },
  {
   "cell_type": "code",
   "execution_count": 42,
   "metadata": {},
   "outputs": [
    {
     "name": "stdout",
     "output_type": "stream",
     "text": [
      "33c\n",
      "ml subopt: 2.1680, db2 subopt: 1.1156\n"
     ]
    },
    {
     "data": {
      "image/png": "[encoded data removed]",
      "text/plain": [
       "<Figure size 600x600 with 1 Axes>"
      ]
     },
     "metadata": {},
     "output_type": "display_data"
    }
   ],
   "source": [
    "plot_preds_act(\n",
    "    test_set, subopt_risk, \n",
    "    ypreds_test_Ud, ypreds_test_Um,\n",
    "    msk = regr_msk, idx = None, q_id = '33c'\n",
    "    )"
   ]
  },
  {
   "cell_type": "code",
   "execution_count": 43,
   "metadata": {},
   "outputs": [
    {
     "name": "stdout",
     "output_type": "stream",
     "text": [
      "subopt risk prune : spearman's corr : (np.float64(0.2536824782791355), np.float64(0.0005899760078280171))\n",
      "queries with no plans after pruning: 0\n",
      "evaluation time: 0.006646394729614258\n",
      "\n"
     ]
    }
   ],
   "source": [
    "strategy_args = {'prune_ratio': 0.3}\n",
    "\n",
    "risk_subopts_prune,risk_runtimes_prune,_,subopt_risk_prune,prune_msk= evaluate_method(\n",
    "    ypreds_test_m, ypreds_test_Ud, test_set, strategy = 'subopt risk',\n",
    "    return_targets=True, prune=True, **strategy_args\n",
    "    )"
   ]
  },
  {
   "cell_type": "code",
   "execution_count": 44,
   "metadata": {},
   "outputs": [],
   "source": [
    "sort_id = np.argsort(np.array(test_set.query_id))\n",
    "y_ud_sort = ypreds_test_Ud[sort_id]\n",
    "y_um_sort = ypreds_test_Um[sort_id]\n",
    "test_set_sort = test_set[sort_id]"
   ]
  },
  {
   "cell_type": "code",
   "execution_count": 45,
   "metadata": {},
   "outputs": [
    {
     "name": "stdout",
     "output_type": "stream",
     "text": [
      "31c\n",
      "ml subopt: 92.9012, db2 subopt: 9.2901\n"
     ]
    },
    {
     "data": {
      "image/png": "[encoded data removed]",
      "text/plain": [
       "<Figure size 600x600 with 1 Axes>"
      ]
     },
     "metadata": {},
     "output_type": "display_data"
    }
   ],
   "source": [
    "plot_preds_act(\n",
    "    test_set_sort[prune_msk], subopt_risk_prune, y_ud_sort[prune_msk], y_um_sort[prune_msk],\n",
    "    msk = regr_msk, idx = None, q_id = '31c'\n",
    "    )"
   ]
  },
  {
   "cell_type": "code",
   "execution_count": null,
   "metadata": {},
   "outputs": [],
   "source": []
  }
 ],
 "metadata": {
  "kernelspec": {
   "display_name": ".venv",
   "language": "python",
   "name": "python3"
  },
  "language_info": {
   "codemirror_mode": {
    "name": "ipython",
    "version": 3
   },
   "file_extension": ".py",
   "mimetype": "text/x-python",
   "name": "python",
   "nbconvert_exporter": "python",
   "pygments_lexer": "ipython3",
   "version": "3.10.11"
  }
 },
 "nbformat": 4,
 "nbformat_minor": 2
}
